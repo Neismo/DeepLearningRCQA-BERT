{
  "nbformat": 4,
  "nbformat_minor": 0,
  "metadata": {
    "colab": {
      "name": "Compact_DL_projekt.ipynb",
      "provenance": [],
      "collapsed_sections": [],
      "toc_visible": true
    },
    "kernelspec": {
      "display_name": "Python 3",
      "name": "python3"
    },
    "language_info": {
      "name": "python"
    },
    "accelerator": "TPU",
    "widgets": {
      "application/vnd.jupyter.widget-state+json": {
        "aaade15bfecc4a03b54fdb252bd67f7e": {
          "model_module": "@jupyter-widgets/controls",
          "model_name": "HBoxModel",
          "model_module_version": "1.5.0",
          "state": {
            "_view_name": "HBoxView",
            "_dom_classes": [],
            "_model_name": "HBoxModel",
            "_view_module": "@jupyter-widgets/controls",
            "_model_module_version": "1.5.0",
            "_view_count": null,
            "_view_module_version": "1.5.0",
            "box_style": "",
            "layout": "IPY_MODEL_641b6eb18ef0406ab6e5eec149dabbae",
            "_model_module": "@jupyter-widgets/controls",
            "children": [
              "IPY_MODEL_6dff70b9ac9c45f6b1e29204f4213b14",
              "IPY_MODEL_7e645180523b4c7fb61030ac0514274b",
              "IPY_MODEL_d3cd942e0500432ea39baadd2d4ecdfe"
            ]
          }
        },
        "641b6eb18ef0406ab6e5eec149dabbae": {
          "model_module": "@jupyter-widgets/base",
          "model_name": "LayoutModel",
          "model_module_version": "1.2.0",
          "state": {
            "_view_name": "LayoutView",
            "grid_template_rows": null,
            "right": null,
            "justify_content": null,
            "_view_module": "@jupyter-widgets/base",
            "overflow": null,
            "_model_module_version": "1.2.0",
            "_view_count": null,
            "flex_flow": null,
            "width": null,
            "min_width": null,
            "border": null,
            "align_items": null,
            "bottom": null,
            "_model_module": "@jupyter-widgets/base",
            "top": null,
            "grid_column": null,
            "overflow_y": null,
            "overflow_x": null,
            "grid_auto_flow": null,
            "grid_area": null,
            "grid_template_columns": null,
            "flex": null,
            "_model_name": "LayoutModel",
            "justify_items": null,
            "grid_row": null,
            "max_height": null,
            "align_content": null,
            "visibility": null,
            "align_self": null,
            "height": null,
            "min_height": null,
            "padding": null,
            "grid_auto_rows": null,
            "grid_gap": null,
            "max_width": null,
            "order": null,
            "_view_module_version": "1.2.0",
            "grid_template_areas": null,
            "object_position": null,
            "object_fit": null,
            "grid_auto_columns": null,
            "margin": null,
            "display": null,
            "left": null
          }
        },
        "6dff70b9ac9c45f6b1e29204f4213b14": {
          "model_module": "@jupyter-widgets/controls",
          "model_name": "HTMLModel",
          "model_module_version": "1.5.0",
          "state": {
            "_view_name": "HTMLView",
            "style": "IPY_MODEL_936b63d7b6d7424994d0b20e01557f70",
            "_dom_classes": [],
            "description": "",
            "_model_name": "HTMLModel",
            "placeholder": "​",
            "_view_module": "@jupyter-widgets/controls",
            "_model_module_version": "1.5.0",
            "value": "Downloading: 100%",
            "_view_count": null,
            "_view_module_version": "1.5.0",
            "description_tooltip": null,
            "_model_module": "@jupyter-widgets/controls",
            "layout": "IPY_MODEL_3772aa00dda3431fbd572a1879d21ec5"
          }
        },
        "7e645180523b4c7fb61030ac0514274b": {
          "model_module": "@jupyter-widgets/controls",
          "model_name": "FloatProgressModel",
          "model_module_version": "1.5.0",
          "state": {
            "_view_name": "ProgressView",
            "style": "IPY_MODEL_edc6a09ce1774bcfb8d67170ddcd7c83",
            "_dom_classes": [],
            "description": "",
            "_model_name": "FloatProgressModel",
            "bar_style": "success",
            "max": 231508,
            "_view_module": "@jupyter-widgets/controls",
            "_model_module_version": "1.5.0",
            "value": 231508,
            "_view_count": null,
            "_view_module_version": "1.5.0",
            "orientation": "horizontal",
            "min": 0,
            "description_tooltip": null,
            "_model_module": "@jupyter-widgets/controls",
            "layout": "IPY_MODEL_0856bae64d584c2a9507422a0047fe5b"
          }
        },
        "d3cd942e0500432ea39baadd2d4ecdfe": {
          "model_module": "@jupyter-widgets/controls",
          "model_name": "HTMLModel",
          "model_module_version": "1.5.0",
          "state": {
            "_view_name": "HTMLView",
            "style": "IPY_MODEL_4785833258b64c37a98bddd2c1e6bf4f",
            "_dom_classes": [],
            "description": "",
            "_model_name": "HTMLModel",
            "placeholder": "​",
            "_view_module": "@jupyter-widgets/controls",
            "_model_module_version": "1.5.0",
            "value": " 226k/226k [00:00&lt;00:00, 1.19MB/s]",
            "_view_count": null,
            "_view_module_version": "1.5.0",
            "description_tooltip": null,
            "_model_module": "@jupyter-widgets/controls",
            "layout": "IPY_MODEL_d7fc9984446b44bcb6082ad7a650d216"
          }
        },
        "936b63d7b6d7424994d0b20e01557f70": {
          "model_module": "@jupyter-widgets/controls",
          "model_name": "DescriptionStyleModel",
          "model_module_version": "1.5.0",
          "state": {
            "_view_name": "StyleView",
            "_model_name": "DescriptionStyleModel",
            "description_width": "",
            "_view_module": "@jupyter-widgets/base",
            "_model_module_version": "1.5.0",
            "_view_count": null,
            "_view_module_version": "1.2.0",
            "_model_module": "@jupyter-widgets/controls"
          }
        },
        "3772aa00dda3431fbd572a1879d21ec5": {
          "model_module": "@jupyter-widgets/base",
          "model_name": "LayoutModel",
          "model_module_version": "1.2.0",
          "state": {
            "_view_name": "LayoutView",
            "grid_template_rows": null,
            "right": null,
            "justify_content": null,
            "_view_module": "@jupyter-widgets/base",
            "overflow": null,
            "_model_module_version": "1.2.0",
            "_view_count": null,
            "flex_flow": null,
            "width": null,
            "min_width": null,
            "border": null,
            "align_items": null,
            "bottom": null,
            "_model_module": "@jupyter-widgets/base",
            "top": null,
            "grid_column": null,
            "overflow_y": null,
            "overflow_x": null,
            "grid_auto_flow": null,
            "grid_area": null,
            "grid_template_columns": null,
            "flex": null,
            "_model_name": "LayoutModel",
            "justify_items": null,
            "grid_row": null,
            "max_height": null,
            "align_content": null,
            "visibility": null,
            "align_self": null,
            "height": null,
            "min_height": null,
            "padding": null,
            "grid_auto_rows": null,
            "grid_gap": null,
            "max_width": null,
            "order": null,
            "_view_module_version": "1.2.0",
            "grid_template_areas": null,
            "object_position": null,
            "object_fit": null,
            "grid_auto_columns": null,
            "margin": null,
            "display": null,
            "left": null
          }
        },
        "edc6a09ce1774bcfb8d67170ddcd7c83": {
          "model_module": "@jupyter-widgets/controls",
          "model_name": "ProgressStyleModel",
          "model_module_version": "1.5.0",
          "state": {
            "_view_name": "StyleView",
            "_model_name": "ProgressStyleModel",
            "description_width": "",
            "_view_module": "@jupyter-widgets/base",
            "_model_module_version": "1.5.0",
            "_view_count": null,
            "_view_module_version": "1.2.0",
            "bar_color": null,
            "_model_module": "@jupyter-widgets/controls"
          }
        },
        "0856bae64d584c2a9507422a0047fe5b": {
          "model_module": "@jupyter-widgets/base",
          "model_name": "LayoutModel",
          "model_module_version": "1.2.0",
          "state": {
            "_view_name": "LayoutView",
            "grid_template_rows": null,
            "right": null,
            "justify_content": null,
            "_view_module": "@jupyter-widgets/base",
            "overflow": null,
            "_model_module_version": "1.2.0",
            "_view_count": null,
            "flex_flow": null,
            "width": null,
            "min_width": null,
            "border": null,
            "align_items": null,
            "bottom": null,
            "_model_module": "@jupyter-widgets/base",
            "top": null,
            "grid_column": null,
            "overflow_y": null,
            "overflow_x": null,
            "grid_auto_flow": null,
            "grid_area": null,
            "grid_template_columns": null,
            "flex": null,
            "_model_name": "LayoutModel",
            "justify_items": null,
            "grid_row": null,
            "max_height": null,
            "align_content": null,
            "visibility": null,
            "align_self": null,
            "height": null,
            "min_height": null,
            "padding": null,
            "grid_auto_rows": null,
            "grid_gap": null,
            "max_width": null,
            "order": null,
            "_view_module_version": "1.2.0",
            "grid_template_areas": null,
            "object_position": null,
            "object_fit": null,
            "grid_auto_columns": null,
            "margin": null,
            "display": null,
            "left": null
          }
        },
        "4785833258b64c37a98bddd2c1e6bf4f": {
          "model_module": "@jupyter-widgets/controls",
          "model_name": "DescriptionStyleModel",
          "model_module_version": "1.5.0",
          "state": {
            "_view_name": "StyleView",
            "_model_name": "DescriptionStyleModel",
            "description_width": "",
            "_view_module": "@jupyter-widgets/base",
            "_model_module_version": "1.5.0",
            "_view_count": null,
            "_view_module_version": "1.2.0",
            "_model_module": "@jupyter-widgets/controls"
          }
        },
        "d7fc9984446b44bcb6082ad7a650d216": {
          "model_module": "@jupyter-widgets/base",
          "model_name": "LayoutModel",
          "model_module_version": "1.2.0",
          "state": {
            "_view_name": "LayoutView",
            "grid_template_rows": null,
            "right": null,
            "justify_content": null,
            "_view_module": "@jupyter-widgets/base",
            "overflow": null,
            "_model_module_version": "1.2.0",
            "_view_count": null,
            "flex_flow": null,
            "width": null,
            "min_width": null,
            "border": null,
            "align_items": null,
            "bottom": null,
            "_model_module": "@jupyter-widgets/base",
            "top": null,
            "grid_column": null,
            "overflow_y": null,
            "overflow_x": null,
            "grid_auto_flow": null,
            "grid_area": null,
            "grid_template_columns": null,
            "flex": null,
            "_model_name": "LayoutModel",
            "justify_items": null,
            "grid_row": null,
            "max_height": null,
            "align_content": null,
            "visibility": null,
            "align_self": null,
            "height": null,
            "min_height": null,
            "padding": null,
            "grid_auto_rows": null,
            "grid_gap": null,
            "max_width": null,
            "order": null,
            "_view_module_version": "1.2.0",
            "grid_template_areas": null,
            "object_position": null,
            "object_fit": null,
            "grid_auto_columns": null,
            "margin": null,
            "display": null,
            "left": null
          }
        },
        "41cd61457f4742ca8f4e27a7efdbabaa": {
          "model_module": "@jupyter-widgets/controls",
          "model_name": "HBoxModel",
          "model_module_version": "1.5.0",
          "state": {
            "_view_name": "HBoxView",
            "_dom_classes": [],
            "_model_name": "HBoxModel",
            "_view_module": "@jupyter-widgets/controls",
            "_model_module_version": "1.5.0",
            "_view_count": null,
            "_view_module_version": "1.5.0",
            "box_style": "",
            "layout": "IPY_MODEL_33c438dc301843c5a39c9b0faef4d39f",
            "_model_module": "@jupyter-widgets/controls",
            "children": [
              "IPY_MODEL_5e106180925743c8be0d827bdc7eaf58",
              "IPY_MODEL_cf8fd45d43f84f539ea50492d3904ee4",
              "IPY_MODEL_57d9deabc1f943b082eca8a9912bfc4a"
            ]
          }
        },
        "33c438dc301843c5a39c9b0faef4d39f": {
          "model_module": "@jupyter-widgets/base",
          "model_name": "LayoutModel",
          "model_module_version": "1.2.0",
          "state": {
            "_view_name": "LayoutView",
            "grid_template_rows": null,
            "right": null,
            "justify_content": null,
            "_view_module": "@jupyter-widgets/base",
            "overflow": null,
            "_model_module_version": "1.2.0",
            "_view_count": null,
            "flex_flow": null,
            "width": null,
            "min_width": null,
            "border": null,
            "align_items": null,
            "bottom": null,
            "_model_module": "@jupyter-widgets/base",
            "top": null,
            "grid_column": null,
            "overflow_y": null,
            "overflow_x": null,
            "grid_auto_flow": null,
            "grid_area": null,
            "grid_template_columns": null,
            "flex": null,
            "_model_name": "LayoutModel",
            "justify_items": null,
            "grid_row": null,
            "max_height": null,
            "align_content": null,
            "visibility": null,
            "align_self": null,
            "height": null,
            "min_height": null,
            "padding": null,
            "grid_auto_rows": null,
            "grid_gap": null,
            "max_width": null,
            "order": null,
            "_view_module_version": "1.2.0",
            "grid_template_areas": null,
            "object_position": null,
            "object_fit": null,
            "grid_auto_columns": null,
            "margin": null,
            "display": null,
            "left": null
          }
        },
        "5e106180925743c8be0d827bdc7eaf58": {
          "model_module": "@jupyter-widgets/controls",
          "model_name": "HTMLModel",
          "model_module_version": "1.5.0",
          "state": {
            "_view_name": "HTMLView",
            "style": "IPY_MODEL_0838efeb91314cbab3a60f339275ea34",
            "_dom_classes": [],
            "description": "",
            "_model_name": "HTMLModel",
            "placeholder": "​",
            "_view_module": "@jupyter-widgets/controls",
            "_model_module_version": "1.5.0",
            "value": "Downloading: 100%",
            "_view_count": null,
            "_view_module_version": "1.5.0",
            "description_tooltip": null,
            "_model_module": "@jupyter-widgets/controls",
            "layout": "IPY_MODEL_67b5255fb79442a4b894f1de14c94d02"
          }
        },
        "cf8fd45d43f84f539ea50492d3904ee4": {
          "model_module": "@jupyter-widgets/controls",
          "model_name": "FloatProgressModel",
          "model_module_version": "1.5.0",
          "state": {
            "_view_name": "ProgressView",
            "style": "IPY_MODEL_04e47bf045e346899f739f348807cbf1",
            "_dom_classes": [],
            "description": "",
            "_model_name": "FloatProgressModel",
            "bar_style": "success",
            "max": 28,
            "_view_module": "@jupyter-widgets/controls",
            "_model_module_version": "1.5.0",
            "value": 28,
            "_view_count": null,
            "_view_module_version": "1.5.0",
            "orientation": "horizontal",
            "min": 0,
            "description_tooltip": null,
            "_model_module": "@jupyter-widgets/controls",
            "layout": "IPY_MODEL_6be26a55deed4c13b8f3cf95409a588c"
          }
        },
        "57d9deabc1f943b082eca8a9912bfc4a": {
          "model_module": "@jupyter-widgets/controls",
          "model_name": "HTMLModel",
          "model_module_version": "1.5.0",
          "state": {
            "_view_name": "HTMLView",
            "style": "IPY_MODEL_f7eb885b47ca4a39bb6143355b1793ec",
            "_dom_classes": [],
            "description": "",
            "_model_name": "HTMLModel",
            "placeholder": "​",
            "_view_module": "@jupyter-widgets/controls",
            "_model_module_version": "1.5.0",
            "value": " 28.0/28.0 [00:00&lt;00:00, 744B/s]",
            "_view_count": null,
            "_view_module_version": "1.5.0",
            "description_tooltip": null,
            "_model_module": "@jupyter-widgets/controls",
            "layout": "IPY_MODEL_6e7eca7d471c45f98d7fd7f8a669808a"
          }
        },
        "0838efeb91314cbab3a60f339275ea34": {
          "model_module": "@jupyter-widgets/controls",
          "model_name": "DescriptionStyleModel",
          "model_module_version": "1.5.0",
          "state": {
            "_view_name": "StyleView",
            "_model_name": "DescriptionStyleModel",
            "description_width": "",
            "_view_module": "@jupyter-widgets/base",
            "_model_module_version": "1.5.0",
            "_view_count": null,
            "_view_module_version": "1.2.0",
            "_model_module": "@jupyter-widgets/controls"
          }
        },
        "67b5255fb79442a4b894f1de14c94d02": {
          "model_module": "@jupyter-widgets/base",
          "model_name": "LayoutModel",
          "model_module_version": "1.2.0",
          "state": {
            "_view_name": "LayoutView",
            "grid_template_rows": null,
            "right": null,
            "justify_content": null,
            "_view_module": "@jupyter-widgets/base",
            "overflow": null,
            "_model_module_version": "1.2.0",
            "_view_count": null,
            "flex_flow": null,
            "width": null,
            "min_width": null,
            "border": null,
            "align_items": null,
            "bottom": null,
            "_model_module": "@jupyter-widgets/base",
            "top": null,
            "grid_column": null,
            "overflow_y": null,
            "overflow_x": null,
            "grid_auto_flow": null,
            "grid_area": null,
            "grid_template_columns": null,
            "flex": null,
            "_model_name": "LayoutModel",
            "justify_items": null,
            "grid_row": null,
            "max_height": null,
            "align_content": null,
            "visibility": null,
            "align_self": null,
            "height": null,
            "min_height": null,
            "padding": null,
            "grid_auto_rows": null,
            "grid_gap": null,
            "max_width": null,
            "order": null,
            "_view_module_version": "1.2.0",
            "grid_template_areas": null,
            "object_position": null,
            "object_fit": null,
            "grid_auto_columns": null,
            "margin": null,
            "display": null,
            "left": null
          }
        },
        "04e47bf045e346899f739f348807cbf1": {
          "model_module": "@jupyter-widgets/controls",
          "model_name": "ProgressStyleModel",
          "model_module_version": "1.5.0",
          "state": {
            "_view_name": "StyleView",
            "_model_name": "ProgressStyleModel",
            "description_width": "",
            "_view_module": "@jupyter-widgets/base",
            "_model_module_version": "1.5.0",
            "_view_count": null,
            "_view_module_version": "1.2.0",
            "bar_color": null,
            "_model_module": "@jupyter-widgets/controls"
          }
        },
        "6be26a55deed4c13b8f3cf95409a588c": {
          "model_module": "@jupyter-widgets/base",
          "model_name": "LayoutModel",
          "model_module_version": "1.2.0",
          "state": {
            "_view_name": "LayoutView",
            "grid_template_rows": null,
            "right": null,
            "justify_content": null,
            "_view_module": "@jupyter-widgets/base",
            "overflow": null,
            "_model_module_version": "1.2.0",
            "_view_count": null,
            "flex_flow": null,
            "width": null,
            "min_width": null,
            "border": null,
            "align_items": null,
            "bottom": null,
            "_model_module": "@jupyter-widgets/base",
            "top": null,
            "grid_column": null,
            "overflow_y": null,
            "overflow_x": null,
            "grid_auto_flow": null,
            "grid_area": null,
            "grid_template_columns": null,
            "flex": null,
            "_model_name": "LayoutModel",
            "justify_items": null,
            "grid_row": null,
            "max_height": null,
            "align_content": null,
            "visibility": null,
            "align_self": null,
            "height": null,
            "min_height": null,
            "padding": null,
            "grid_auto_rows": null,
            "grid_gap": null,
            "max_width": null,
            "order": null,
            "_view_module_version": "1.2.0",
            "grid_template_areas": null,
            "object_position": null,
            "object_fit": null,
            "grid_auto_columns": null,
            "margin": null,
            "display": null,
            "left": null
          }
        },
        "f7eb885b47ca4a39bb6143355b1793ec": {
          "model_module": "@jupyter-widgets/controls",
          "model_name": "DescriptionStyleModel",
          "model_module_version": "1.5.0",
          "state": {
            "_view_name": "StyleView",
            "_model_name": "DescriptionStyleModel",
            "description_width": "",
            "_view_module": "@jupyter-widgets/base",
            "_model_module_version": "1.5.0",
            "_view_count": null,
            "_view_module_version": "1.2.0",
            "_model_module": "@jupyter-widgets/controls"
          }
        },
        "6e7eca7d471c45f98d7fd7f8a669808a": {
          "model_module": "@jupyter-widgets/base",
          "model_name": "LayoutModel",
          "model_module_version": "1.2.0",
          "state": {
            "_view_name": "LayoutView",
            "grid_template_rows": null,
            "right": null,
            "justify_content": null,
            "_view_module": "@jupyter-widgets/base",
            "overflow": null,
            "_model_module_version": "1.2.0",
            "_view_count": null,
            "flex_flow": null,
            "width": null,
            "min_width": null,
            "border": null,
            "align_items": null,
            "bottom": null,
            "_model_module": "@jupyter-widgets/base",
            "top": null,
            "grid_column": null,
            "overflow_y": null,
            "overflow_x": null,
            "grid_auto_flow": null,
            "grid_area": null,
            "grid_template_columns": null,
            "flex": null,
            "_model_name": "LayoutModel",
            "justify_items": null,
            "grid_row": null,
            "max_height": null,
            "align_content": null,
            "visibility": null,
            "align_self": null,
            "height": null,
            "min_height": null,
            "padding": null,
            "grid_auto_rows": null,
            "grid_gap": null,
            "max_width": null,
            "order": null,
            "_view_module_version": "1.2.0",
            "grid_template_areas": null,
            "object_position": null,
            "object_fit": null,
            "grid_auto_columns": null,
            "margin": null,
            "display": null,
            "left": null
          }
        },
        "6ab3d89e6e204f2594838e74d7f66a05": {
          "model_module": "@jupyter-widgets/controls",
          "model_name": "HBoxModel",
          "model_module_version": "1.5.0",
          "state": {
            "_view_name": "HBoxView",
            "_dom_classes": [],
            "_model_name": "HBoxModel",
            "_view_module": "@jupyter-widgets/controls",
            "_model_module_version": "1.5.0",
            "_view_count": null,
            "_view_module_version": "1.5.0",
            "box_style": "",
            "layout": "IPY_MODEL_6f595e2c5935475ba5fab0283140e65e",
            "_model_module": "@jupyter-widgets/controls",
            "children": [
              "IPY_MODEL_c993c4c940e244f58dcbde5805bb2407",
              "IPY_MODEL_43206a353b4e43d0a274540a6f9cc138",
              "IPY_MODEL_3b3b31cf3b2d4d739e3e1d1ba19e27d0"
            ]
          }
        },
        "6f595e2c5935475ba5fab0283140e65e": {
          "model_module": "@jupyter-widgets/base",
          "model_name": "LayoutModel",
          "model_module_version": "1.2.0",
          "state": {
            "_view_name": "LayoutView",
            "grid_template_rows": null,
            "right": null,
            "justify_content": null,
            "_view_module": "@jupyter-widgets/base",
            "overflow": null,
            "_model_module_version": "1.2.0",
            "_view_count": null,
            "flex_flow": null,
            "width": null,
            "min_width": null,
            "border": null,
            "align_items": null,
            "bottom": null,
            "_model_module": "@jupyter-widgets/base",
            "top": null,
            "grid_column": null,
            "overflow_y": null,
            "overflow_x": null,
            "grid_auto_flow": null,
            "grid_area": null,
            "grid_template_columns": null,
            "flex": null,
            "_model_name": "LayoutModel",
            "justify_items": null,
            "grid_row": null,
            "max_height": null,
            "align_content": null,
            "visibility": null,
            "align_self": null,
            "height": null,
            "min_height": null,
            "padding": null,
            "grid_auto_rows": null,
            "grid_gap": null,
            "max_width": null,
            "order": null,
            "_view_module_version": "1.2.0",
            "grid_template_areas": null,
            "object_position": null,
            "object_fit": null,
            "grid_auto_columns": null,
            "margin": null,
            "display": null,
            "left": null
          }
        },
        "c993c4c940e244f58dcbde5805bb2407": {
          "model_module": "@jupyter-widgets/controls",
          "model_name": "HTMLModel",
          "model_module_version": "1.5.0",
          "state": {
            "_view_name": "HTMLView",
            "style": "IPY_MODEL_81fe94e187a04c119dd630b9d136100c",
            "_dom_classes": [],
            "description": "",
            "_model_name": "HTMLModel",
            "placeholder": "​",
            "_view_module": "@jupyter-widgets/controls",
            "_model_module_version": "1.5.0",
            "value": "Downloading: 100%",
            "_view_count": null,
            "_view_module_version": "1.5.0",
            "description_tooltip": null,
            "_model_module": "@jupyter-widgets/controls",
            "layout": "IPY_MODEL_2ab50a8041a242de85b181fdb316eb21"
          }
        },
        "43206a353b4e43d0a274540a6f9cc138": {
          "model_module": "@jupyter-widgets/controls",
          "model_name": "FloatProgressModel",
          "model_module_version": "1.5.0",
          "state": {
            "_view_name": "ProgressView",
            "style": "IPY_MODEL_b923a7383c904c86a603a6e59d086b66",
            "_dom_classes": [],
            "description": "",
            "_model_name": "FloatProgressModel",
            "bar_style": "success",
            "max": 466062,
            "_view_module": "@jupyter-widgets/controls",
            "_model_module_version": "1.5.0",
            "value": 466062,
            "_view_count": null,
            "_view_module_version": "1.5.0",
            "orientation": "horizontal",
            "min": 0,
            "description_tooltip": null,
            "_model_module": "@jupyter-widgets/controls",
            "layout": "IPY_MODEL_e48d13eff1a14d61b9e78fadefcfb84f"
          }
        },
        "3b3b31cf3b2d4d739e3e1d1ba19e27d0": {
          "model_module": "@jupyter-widgets/controls",
          "model_name": "HTMLModel",
          "model_module_version": "1.5.0",
          "state": {
            "_view_name": "HTMLView",
            "style": "IPY_MODEL_fff8996cf49c4de9b99a4ea00252de1c",
            "_dom_classes": [],
            "description": "",
            "_model_name": "HTMLModel",
            "placeholder": "​",
            "_view_module": "@jupyter-widgets/controls",
            "_model_module_version": "1.5.0",
            "value": " 455k/455k [00:00&lt;00:00, 1.09MB/s]",
            "_view_count": null,
            "_view_module_version": "1.5.0",
            "description_tooltip": null,
            "_model_module": "@jupyter-widgets/controls",
            "layout": "IPY_MODEL_0d901ac54b4a481ca9d1211e2bfd8507"
          }
        },
        "81fe94e187a04c119dd630b9d136100c": {
          "model_module": "@jupyter-widgets/controls",
          "model_name": "DescriptionStyleModel",
          "model_module_version": "1.5.0",
          "state": {
            "_view_name": "StyleView",
            "_model_name": "DescriptionStyleModel",
            "description_width": "",
            "_view_module": "@jupyter-widgets/base",
            "_model_module_version": "1.5.0",
            "_view_count": null,
            "_view_module_version": "1.2.0",
            "_model_module": "@jupyter-widgets/controls"
          }
        },
        "2ab50a8041a242de85b181fdb316eb21": {
          "model_module": "@jupyter-widgets/base",
          "model_name": "LayoutModel",
          "model_module_version": "1.2.0",
          "state": {
            "_view_name": "LayoutView",
            "grid_template_rows": null,
            "right": null,
            "justify_content": null,
            "_view_module": "@jupyter-widgets/base",
            "overflow": null,
            "_model_module_version": "1.2.0",
            "_view_count": null,
            "flex_flow": null,
            "width": null,
            "min_width": null,
            "border": null,
            "align_items": null,
            "bottom": null,
            "_model_module": "@jupyter-widgets/base",
            "top": null,
            "grid_column": null,
            "overflow_y": null,
            "overflow_x": null,
            "grid_auto_flow": null,
            "grid_area": null,
            "grid_template_columns": null,
            "flex": null,
            "_model_name": "LayoutModel",
            "justify_items": null,
            "grid_row": null,
            "max_height": null,
            "align_content": null,
            "visibility": null,
            "align_self": null,
            "height": null,
            "min_height": null,
            "padding": null,
            "grid_auto_rows": null,
            "grid_gap": null,
            "max_width": null,
            "order": null,
            "_view_module_version": "1.2.0",
            "grid_template_areas": null,
            "object_position": null,
            "object_fit": null,
            "grid_auto_columns": null,
            "margin": null,
            "display": null,
            "left": null
          }
        },
        "b923a7383c904c86a603a6e59d086b66": {
          "model_module": "@jupyter-widgets/controls",
          "model_name": "ProgressStyleModel",
          "model_module_version": "1.5.0",
          "state": {
            "_view_name": "StyleView",
            "_model_name": "ProgressStyleModel",
            "description_width": "",
            "_view_module": "@jupyter-widgets/base",
            "_model_module_version": "1.5.0",
            "_view_count": null,
            "_view_module_version": "1.2.0",
            "bar_color": null,
            "_model_module": "@jupyter-widgets/controls"
          }
        },
        "e48d13eff1a14d61b9e78fadefcfb84f": {
          "model_module": "@jupyter-widgets/base",
          "model_name": "LayoutModel",
          "model_module_version": "1.2.0",
          "state": {
            "_view_name": "LayoutView",
            "grid_template_rows": null,
            "right": null,
            "justify_content": null,
            "_view_module": "@jupyter-widgets/base",
            "overflow": null,
            "_model_module_version": "1.2.0",
            "_view_count": null,
            "flex_flow": null,
            "width": null,
            "min_width": null,
            "border": null,
            "align_items": null,
            "bottom": null,
            "_model_module": "@jupyter-widgets/base",
            "top": null,
            "grid_column": null,
            "overflow_y": null,
            "overflow_x": null,
            "grid_auto_flow": null,
            "grid_area": null,
            "grid_template_columns": null,
            "flex": null,
            "_model_name": "LayoutModel",
            "justify_items": null,
            "grid_row": null,
            "max_height": null,
            "align_content": null,
            "visibility": null,
            "align_self": null,
            "height": null,
            "min_height": null,
            "padding": null,
            "grid_auto_rows": null,
            "grid_gap": null,
            "max_width": null,
            "order": null,
            "_view_module_version": "1.2.0",
            "grid_template_areas": null,
            "object_position": null,
            "object_fit": null,
            "grid_auto_columns": null,
            "margin": null,
            "display": null,
            "left": null
          }
        },
        "fff8996cf49c4de9b99a4ea00252de1c": {
          "model_module": "@jupyter-widgets/controls",
          "model_name": "DescriptionStyleModel",
          "model_module_version": "1.5.0",
          "state": {
            "_view_name": "StyleView",
            "_model_name": "DescriptionStyleModel",
            "description_width": "",
            "_view_module": "@jupyter-widgets/base",
            "_model_module_version": "1.5.0",
            "_view_count": null,
            "_view_module_version": "1.2.0",
            "_model_module": "@jupyter-widgets/controls"
          }
        },
        "0d901ac54b4a481ca9d1211e2bfd8507": {
          "model_module": "@jupyter-widgets/base",
          "model_name": "LayoutModel",
          "model_module_version": "1.2.0",
          "state": {
            "_view_name": "LayoutView",
            "grid_template_rows": null,
            "right": null,
            "justify_content": null,
            "_view_module": "@jupyter-widgets/base",
            "overflow": null,
            "_model_module_version": "1.2.0",
            "_view_count": null,
            "flex_flow": null,
            "width": null,
            "min_width": null,
            "border": null,
            "align_items": null,
            "bottom": null,
            "_model_module": "@jupyter-widgets/base",
            "top": null,
            "grid_column": null,
            "overflow_y": null,
            "overflow_x": null,
            "grid_auto_flow": null,
            "grid_area": null,
            "grid_template_columns": null,
            "flex": null,
            "_model_name": "LayoutModel",
            "justify_items": null,
            "grid_row": null,
            "max_height": null,
            "align_content": null,
            "visibility": null,
            "align_self": null,
            "height": null,
            "min_height": null,
            "padding": null,
            "grid_auto_rows": null,
            "grid_gap": null,
            "max_width": null,
            "order": null,
            "_view_module_version": "1.2.0",
            "grid_template_areas": null,
            "object_position": null,
            "object_fit": null,
            "grid_auto_columns": null,
            "margin": null,
            "display": null,
            "left": null
          }
        },
        "44bd71e4ed1a4a7c92d87c8ef82fb941": {
          "model_module": "@jupyter-widgets/controls",
          "model_name": "HBoxModel",
          "model_module_version": "1.5.0",
          "state": {
            "_view_name": "HBoxView",
            "_dom_classes": [],
            "_model_name": "HBoxModel",
            "_view_module": "@jupyter-widgets/controls",
            "_model_module_version": "1.5.0",
            "_view_count": null,
            "_view_module_version": "1.5.0",
            "box_style": "",
            "layout": "IPY_MODEL_86251bdc5189454b947893fcfe63807a",
            "_model_module": "@jupyter-widgets/controls",
            "children": [
              "IPY_MODEL_0fe0d6470cb546cc9ba35faf47028f5b",
              "IPY_MODEL_a7bddd186df04a66be8a4db192f337c1",
              "IPY_MODEL_bfd68693c64d41139811570e768d9552"
            ]
          }
        },
        "86251bdc5189454b947893fcfe63807a": {
          "model_module": "@jupyter-widgets/base",
          "model_name": "LayoutModel",
          "model_module_version": "1.2.0",
          "state": {
            "_view_name": "LayoutView",
            "grid_template_rows": null,
            "right": null,
            "justify_content": null,
            "_view_module": "@jupyter-widgets/base",
            "overflow": null,
            "_model_module_version": "1.2.0",
            "_view_count": null,
            "flex_flow": null,
            "width": null,
            "min_width": null,
            "border": null,
            "align_items": null,
            "bottom": null,
            "_model_module": "@jupyter-widgets/base",
            "top": null,
            "grid_column": null,
            "overflow_y": null,
            "overflow_x": null,
            "grid_auto_flow": null,
            "grid_area": null,
            "grid_template_columns": null,
            "flex": null,
            "_model_name": "LayoutModel",
            "justify_items": null,
            "grid_row": null,
            "max_height": null,
            "align_content": null,
            "visibility": null,
            "align_self": null,
            "height": null,
            "min_height": null,
            "padding": null,
            "grid_auto_rows": null,
            "grid_gap": null,
            "max_width": null,
            "order": null,
            "_view_module_version": "1.2.0",
            "grid_template_areas": null,
            "object_position": null,
            "object_fit": null,
            "grid_auto_columns": null,
            "margin": null,
            "display": null,
            "left": null
          }
        },
        "0fe0d6470cb546cc9ba35faf47028f5b": {
          "model_module": "@jupyter-widgets/controls",
          "model_name": "HTMLModel",
          "model_module_version": "1.5.0",
          "state": {
            "_view_name": "HTMLView",
            "style": "IPY_MODEL_613b4fcb4d2b48bd85308a61ef99d454",
            "_dom_classes": [],
            "description": "",
            "_model_name": "HTMLModel",
            "placeholder": "​",
            "_view_module": "@jupyter-widgets/controls",
            "_model_module_version": "1.5.0",
            "value": "Downloading: 100%",
            "_view_count": null,
            "_view_module_version": "1.5.0",
            "description_tooltip": null,
            "_model_module": "@jupyter-widgets/controls",
            "layout": "IPY_MODEL_82b1b9fa7285478cac36a2475a9c620c"
          }
        },
        "a7bddd186df04a66be8a4db192f337c1": {
          "model_module": "@jupyter-widgets/controls",
          "model_name": "FloatProgressModel",
          "model_module_version": "1.5.0",
          "state": {
            "_view_name": "ProgressView",
            "style": "IPY_MODEL_29bfb3efba80434eaa69f070ebd80a0d",
            "_dom_classes": [],
            "description": "",
            "_model_name": "FloatProgressModel",
            "bar_style": "success",
            "max": 570,
            "_view_module": "@jupyter-widgets/controls",
            "_model_module_version": "1.5.0",
            "value": 570,
            "_view_count": null,
            "_view_module_version": "1.5.0",
            "orientation": "horizontal",
            "min": 0,
            "description_tooltip": null,
            "_model_module": "@jupyter-widgets/controls",
            "layout": "IPY_MODEL_c17f0ed81bae418a9aeb7007d59f3331"
          }
        },
        "bfd68693c64d41139811570e768d9552": {
          "model_module": "@jupyter-widgets/controls",
          "model_name": "HTMLModel",
          "model_module_version": "1.5.0",
          "state": {
            "_view_name": "HTMLView",
            "style": "IPY_MODEL_80d54e1df7b04c759a9ed5136253d93a",
            "_dom_classes": [],
            "description": "",
            "_model_name": "HTMLModel",
            "placeholder": "​",
            "_view_module": "@jupyter-widgets/controls",
            "_model_module_version": "1.5.0",
            "value": " 570/570 [00:00&lt;00:00, 12.2kB/s]",
            "_view_count": null,
            "_view_module_version": "1.5.0",
            "description_tooltip": null,
            "_model_module": "@jupyter-widgets/controls",
            "layout": "IPY_MODEL_ec7fb859e8654516a5d68a7749b020d3"
          }
        },
        "613b4fcb4d2b48bd85308a61ef99d454": {
          "model_module": "@jupyter-widgets/controls",
          "model_name": "DescriptionStyleModel",
          "model_module_version": "1.5.0",
          "state": {
            "_view_name": "StyleView",
            "_model_name": "DescriptionStyleModel",
            "description_width": "",
            "_view_module": "@jupyter-widgets/base",
            "_model_module_version": "1.5.0",
            "_view_count": null,
            "_view_module_version": "1.2.0",
            "_model_module": "@jupyter-widgets/controls"
          }
        },
        "82b1b9fa7285478cac36a2475a9c620c": {
          "model_module": "@jupyter-widgets/base",
          "model_name": "LayoutModel",
          "model_module_version": "1.2.0",
          "state": {
            "_view_name": "LayoutView",
            "grid_template_rows": null,
            "right": null,
            "justify_content": null,
            "_view_module": "@jupyter-widgets/base",
            "overflow": null,
            "_model_module_version": "1.2.0",
            "_view_count": null,
            "flex_flow": null,
            "width": null,
            "min_width": null,
            "border": null,
            "align_items": null,
            "bottom": null,
            "_model_module": "@jupyter-widgets/base",
            "top": null,
            "grid_column": null,
            "overflow_y": null,
            "overflow_x": null,
            "grid_auto_flow": null,
            "grid_area": null,
            "grid_template_columns": null,
            "flex": null,
            "_model_name": "LayoutModel",
            "justify_items": null,
            "grid_row": null,
            "max_height": null,
            "align_content": null,
            "visibility": null,
            "align_self": null,
            "height": null,
            "min_height": null,
            "padding": null,
            "grid_auto_rows": null,
            "grid_gap": null,
            "max_width": null,
            "order": null,
            "_view_module_version": "1.2.0",
            "grid_template_areas": null,
            "object_position": null,
            "object_fit": null,
            "grid_auto_columns": null,
            "margin": null,
            "display": null,
            "left": null
          }
        },
        "29bfb3efba80434eaa69f070ebd80a0d": {
          "model_module": "@jupyter-widgets/controls",
          "model_name": "ProgressStyleModel",
          "model_module_version": "1.5.0",
          "state": {
            "_view_name": "StyleView",
            "_model_name": "ProgressStyleModel",
            "description_width": "",
            "_view_module": "@jupyter-widgets/base",
            "_model_module_version": "1.5.0",
            "_view_count": null,
            "_view_module_version": "1.2.0",
            "bar_color": null,
            "_model_module": "@jupyter-widgets/controls"
          }
        },
        "c17f0ed81bae418a9aeb7007d59f3331": {
          "model_module": "@jupyter-widgets/base",
          "model_name": "LayoutModel",
          "model_module_version": "1.2.0",
          "state": {
            "_view_name": "LayoutView",
            "grid_template_rows": null,
            "right": null,
            "justify_content": null,
            "_view_module": "@jupyter-widgets/base",
            "overflow": null,
            "_model_module_version": "1.2.0",
            "_view_count": null,
            "flex_flow": null,
            "width": null,
            "min_width": null,
            "border": null,
            "align_items": null,
            "bottom": null,
            "_model_module": "@jupyter-widgets/base",
            "top": null,
            "grid_column": null,
            "overflow_y": null,
            "overflow_x": null,
            "grid_auto_flow": null,
            "grid_area": null,
            "grid_template_columns": null,
            "flex": null,
            "_model_name": "LayoutModel",
            "justify_items": null,
            "grid_row": null,
            "max_height": null,
            "align_content": null,
            "visibility": null,
            "align_self": null,
            "height": null,
            "min_height": null,
            "padding": null,
            "grid_auto_rows": null,
            "grid_gap": null,
            "max_width": null,
            "order": null,
            "_view_module_version": "1.2.0",
            "grid_template_areas": null,
            "object_position": null,
            "object_fit": null,
            "grid_auto_columns": null,
            "margin": null,
            "display": null,
            "left": null
          }
        },
        "80d54e1df7b04c759a9ed5136253d93a": {
          "model_module": "@jupyter-widgets/controls",
          "model_name": "DescriptionStyleModel",
          "model_module_version": "1.5.0",
          "state": {
            "_view_name": "StyleView",
            "_model_name": "DescriptionStyleModel",
            "description_width": "",
            "_view_module": "@jupyter-widgets/base",
            "_model_module_version": "1.5.0",
            "_view_count": null,
            "_view_module_version": "1.2.0",
            "_model_module": "@jupyter-widgets/controls"
          }
        },
        "ec7fb859e8654516a5d68a7749b020d3": {
          "model_module": "@jupyter-widgets/base",
          "model_name": "LayoutModel",
          "model_module_version": "1.2.0",
          "state": {
            "_view_name": "LayoutView",
            "grid_template_rows": null,
            "right": null,
            "justify_content": null,
            "_view_module": "@jupyter-widgets/base",
            "overflow": null,
            "_model_module_version": "1.2.0",
            "_view_count": null,
            "flex_flow": null,
            "width": null,
            "min_width": null,
            "border": null,
            "align_items": null,
            "bottom": null,
            "_model_module": "@jupyter-widgets/base",
            "top": null,
            "grid_column": null,
            "overflow_y": null,
            "overflow_x": null,
            "grid_auto_flow": null,
            "grid_area": null,
            "grid_template_columns": null,
            "flex": null,
            "_model_name": "LayoutModel",
            "justify_items": null,
            "grid_row": null,
            "max_height": null,
            "align_content": null,
            "visibility": null,
            "align_self": null,
            "height": null,
            "min_height": null,
            "padding": null,
            "grid_auto_rows": null,
            "grid_gap": null,
            "max_width": null,
            "order": null,
            "_view_module_version": "1.2.0",
            "grid_template_areas": null,
            "object_position": null,
            "object_fit": null,
            "grid_auto_columns": null,
            "margin": null,
            "display": null,
            "left": null
          }
        }
      }
    }
  },
  "cells": [
    {
      "cell_type": "markdown",
      "metadata": {
        "id": "yKwYh725Eb38"
      },
      "source": [
        "# Keras.IO implementation (Run from here)\n",
        "\n",
        "Implementation and processing of dataset as inspired by keras.io"
      ]
    },
    {
      "cell_type": "code",
      "metadata": {
        "id": "CgXycLsPEgVC",
        "colab": {
          "base_uri": "https://localhost:8080/"
        },
        "outputId": "e3d06177-dd65-4ad8-d10b-a73b8727e5af"
      },
      "source": [
        "import re\n",
        "import json\n",
        "import string\n",
        "import numpy as np\n",
        "import tensorflow as tf\n",
        "from tensorflow import keras\n",
        "from tensorflow.keras import layers\n",
        "import matplotlib.pylab as plt\n",
        "try:\n",
        "  from transformers import BertTokenizer, TFBertModel, BertConfig\n",
        "except:\n",
        "  !pip -q install transformers\n",
        "  from transformers import BertTokenizer, TFBertModel, BertConfig\n",
        "from tokenizers import BertWordPieceTokenizer\n",
        "\n",
        "\n",
        "max_len = 384\n",
        "configuration = BertConfig()  # default parameters and configuration for BERT"
      ],
      "execution_count": 1,
      "outputs": [
        {
          "output_type": "stream",
          "name": "stdout",
          "text": [
            "\u001b[K     |████████████████████████████████| 3.4 MB 5.4 MB/s \n",
            "\u001b[K     |████████████████████████████████| 596 kB 63.9 MB/s \n",
            "\u001b[K     |████████████████████████████████| 895 kB 71.2 MB/s \n",
            "\u001b[K     |████████████████████████████████| 3.3 MB 58.9 MB/s \n",
            "\u001b[K     |████████████████████████████████| 61 kB 476 kB/s \n",
            "\u001b[?25h"
          ]
        }
      ]
    },
    {
      "cell_type": "markdown",
      "metadata": {
        "id": "DFn1kmtXE9E3"
      },
      "source": [
        "## Setting up the BERT tokenizer"
      ]
    },
    {
      "cell_type": "code",
      "metadata": {
        "id": "pJ3_KJagFCZd",
        "colab": {
          "base_uri": "https://localhost:8080/",
          "height": 145,
          "referenced_widgets": [
            "aaade15bfecc4a03b54fdb252bd67f7e",
            "641b6eb18ef0406ab6e5eec149dabbae",
            "6dff70b9ac9c45f6b1e29204f4213b14",
            "7e645180523b4c7fb61030ac0514274b",
            "d3cd942e0500432ea39baadd2d4ecdfe",
            "936b63d7b6d7424994d0b20e01557f70",
            "3772aa00dda3431fbd572a1879d21ec5",
            "edc6a09ce1774bcfb8d67170ddcd7c83",
            "0856bae64d584c2a9507422a0047fe5b",
            "4785833258b64c37a98bddd2c1e6bf4f",
            "d7fc9984446b44bcb6082ad7a650d216",
            "41cd61457f4742ca8f4e27a7efdbabaa",
            "33c438dc301843c5a39c9b0faef4d39f",
            "5e106180925743c8be0d827bdc7eaf58",
            "cf8fd45d43f84f539ea50492d3904ee4",
            "57d9deabc1f943b082eca8a9912bfc4a",
            "0838efeb91314cbab3a60f339275ea34",
            "67b5255fb79442a4b894f1de14c94d02",
            "04e47bf045e346899f739f348807cbf1",
            "6be26a55deed4c13b8f3cf95409a588c",
            "f7eb885b47ca4a39bb6143355b1793ec",
            "6e7eca7d471c45f98d7fd7f8a669808a",
            "6ab3d89e6e204f2594838e74d7f66a05",
            "6f595e2c5935475ba5fab0283140e65e",
            "c993c4c940e244f58dcbde5805bb2407",
            "43206a353b4e43d0a274540a6f9cc138",
            "3b3b31cf3b2d4d739e3e1d1ba19e27d0",
            "81fe94e187a04c119dd630b9d136100c",
            "2ab50a8041a242de85b181fdb316eb21",
            "b923a7383c904c86a603a6e59d086b66",
            "e48d13eff1a14d61b9e78fadefcfb84f",
            "fff8996cf49c4de9b99a4ea00252de1c",
            "0d901ac54b4a481ca9d1211e2bfd8507",
            "44bd71e4ed1a4a7c92d87c8ef82fb941",
            "86251bdc5189454b947893fcfe63807a",
            "0fe0d6470cb546cc9ba35faf47028f5b",
            "a7bddd186df04a66be8a4db192f337c1",
            "bfd68693c64d41139811570e768d9552",
            "613b4fcb4d2b48bd85308a61ef99d454",
            "82b1b9fa7285478cac36a2475a9c620c",
            "29bfb3efba80434eaa69f070ebd80a0d",
            "c17f0ed81bae418a9aeb7007d59f3331",
            "80d54e1df7b04c759a9ed5136253d93a",
            "ec7fb859e8654516a5d68a7749b020d3"
          ]
        },
        "outputId": "2e664892-3048-46bb-b1e6-b516a1bf1e63"
      },
      "source": [
        "# Save the slow pretrained tokenizer\n",
        "slow_tokenizer = BertTokenizer.from_pretrained(\"bert-base-uncased\")\n",
        "save_path = \"bert_base_uncased/\"\n",
        "slow_tokenizer.save_pretrained(save_path)\n",
        "\n",
        "# Load the fast tokenizer from saved file\n",
        "tokenizer = BertWordPieceTokenizer(\"bert_base_uncased/vocab.txt\", lowercase=True)"
      ],
      "execution_count": 2,
      "outputs": [
        {
          "output_type": "display_data",
          "data": {
            "application/vnd.jupyter.widget-view+json": {
              "model_id": "aaade15bfecc4a03b54fdb252bd67f7e",
              "version_minor": 0,
              "version_major": 2
            },
            "text/plain": [
              "Downloading:   0%|          | 0.00/226k [00:00<?, ?B/s]"
            ]
          },
          "metadata": {}
        },
        {
          "output_type": "display_data",
          "data": {
            "application/vnd.jupyter.widget-view+json": {
              "model_id": "41cd61457f4742ca8f4e27a7efdbabaa",
              "version_minor": 0,
              "version_major": 2
            },
            "text/plain": [
              "Downloading:   0%|          | 0.00/28.0 [00:00<?, ?B/s]"
            ]
          },
          "metadata": {}
        },
        {
          "output_type": "display_data",
          "data": {
            "application/vnd.jupyter.widget-view+json": {
              "model_id": "6ab3d89e6e204f2594838e74d7f66a05",
              "version_minor": 0,
              "version_major": 2
            },
            "text/plain": [
              "Downloading:   0%|          | 0.00/455k [00:00<?, ?B/s]"
            ]
          },
          "metadata": {}
        },
        {
          "output_type": "display_data",
          "data": {
            "application/vnd.jupyter.widget-view+json": {
              "model_id": "44bd71e4ed1a4a7c92d87c8ef82fb941",
              "version_minor": 0,
              "version_major": 2
            },
            "text/plain": [
              "Downloading:   0%|          | 0.00/570 [00:00<?, ?B/s]"
            ]
          },
          "metadata": {}
        }
      ]
    },
    {
      "cell_type": "markdown",
      "metadata": {
        "id": "Nw7XoIfiFUlH"
      },
      "source": [
        "## Read JSON data"
      ]
    },
    {
      "cell_type": "code",
      "metadata": {
        "id": "R35GEM7nFWsv",
        "colab": {
          "base_uri": "https://localhost:8080/"
        },
        "outputId": "ee181ec3-52ba-400c-b97e-91fb3a12d27d"
      },
      "source": [
        "train_data_url = \"https://rajpurkar.github.io/SQuAD-explorer/dataset/train-v1.1.json\"\n",
        "train_path = keras.utils.get_file(\"train.json\", train_data_url)\n",
        "eval_data_url = \"https://rajpurkar.github.io/SQuAD-explorer/dataset/dev-v1.1.json\"\n",
        "eval_path = keras.utils.get_file(\"eval.json\", eval_data_url)"
      ],
      "execution_count": 3,
      "outputs": [
        {
          "output_type": "stream",
          "name": "stdout",
          "text": [
            "Downloading data from https://rajpurkar.github.io/SQuAD-explorer/dataset/train-v1.1.json\n",
            "30294016/30288272 [==============================] - 0s 0us/step\n",
            "30302208/30288272 [==============================] - 0s 0us/step\n",
            "Downloading data from https://rajpurkar.github.io/SQuAD-explorer/dataset/dev-v1.1.json\n",
            "4857856/4854279 [==============================] - 0s 0us/step\n",
            "4866048/4854279 [==============================] - 0s 0us/step\n"
          ]
        }
      ]
    },
    {
      "cell_type": "markdown",
      "metadata": {
        "id": "u1VOvMzOFg65"
      },
      "source": [
        "## Preprocess the data to SquadExamples\n",
        "Source: https://keras.io/examples/nlp/text_extraction_with_bert/"
      ]
    },
    {
      "cell_type": "code",
      "metadata": {
        "id": "4F53NQtMFmWH"
      },
      "source": [
        "class SquadExample:\n",
        "    def __init__(self, question, context, start_char_idx, answer_text, all_answers):\n",
        "        self.question = question\n",
        "        self.context = context\n",
        "        self.start_char_idx = start_char_idx\n",
        "        self.answer_text = answer_text\n",
        "        self.all_answers = all_answers\n",
        "        self.skip = False\n",
        "\n",
        "    def preprocess(self):\n",
        "        context = self.context\n",
        "        question = self.question\n",
        "        answer_text = self.answer_text\n",
        "        start_char_idx = self.start_char_idx\n",
        "\n",
        "        # Clean context, answer and question\n",
        "        context = \" \".join(str(context).split())\n",
        "        question = \" \".join(str(question).split())\n",
        "        answer = \" \".join(str(answer_text).split())\n",
        "\n",
        "        # Find end character index of answer in context\n",
        "        end_char_idx = start_char_idx + len(answer)\n",
        "        if end_char_idx >= len(context):\n",
        "            self.skip = True\n",
        "            return\n",
        "\n",
        "        # Mark the character indexes in context that are in answer\n",
        "        is_char_in_ans = [0] * len(context)\n",
        "        for idx in range(start_char_idx, end_char_idx):\n",
        "            is_char_in_ans[idx] = 1\n",
        "\n",
        "        # Tokenize context\n",
        "        tokenized_context = tokenizer.encode(context)\n",
        "\n",
        "        # Find tokens that were created from answer characters\n",
        "        ans_token_idx = []\n",
        "        for idx, (start, end) in enumerate(tokenized_context.offsets):\n",
        "            if sum(is_char_in_ans[start:end]) > 0:\n",
        "                ans_token_idx.append(idx)\n",
        "\n",
        "        if len(ans_token_idx) == 0:\n",
        "            self.skip = True\n",
        "            return\n",
        "\n",
        "        # Find start and end token index for tokens from answer\n",
        "        start_token_idx = ans_token_idx[0]\n",
        "        end_token_idx = ans_token_idx[-1]\n",
        "\n",
        "        # Tokenize question\n",
        "        tokenized_question = tokenizer.encode(question)\n",
        "\n",
        "        # Create inputs\n",
        "        input_ids = tokenized_context.ids + tokenized_question.ids[1:]\n",
        "        token_type_ids = [0] * len(tokenized_context.ids) + [1] * len(\n",
        "            tokenized_question.ids[1:]\n",
        "        )\n",
        "        attention_mask = [1] * len(input_ids)\n",
        "\n",
        "        # Pad and create attention masks.\n",
        "        # Skip if truncation is needed\n",
        "        padding_length = max_len - len(input_ids)\n",
        "        if padding_length > 0:  # pad\n",
        "            input_ids = input_ids + ([0] * padding_length)\n",
        "            attention_mask = attention_mask + ([0] * padding_length)\n",
        "            token_type_ids = token_type_ids + ([0] * padding_length)\n",
        "        elif padding_length < 0:  # skip\n",
        "            self.skip = True\n",
        "            return\n",
        "\n",
        "        self.input_ids = input_ids\n",
        "        self.token_type_ids = token_type_ids\n",
        "        self.attention_mask = attention_mask\n",
        "        self.start_token_idx = start_token_idx\n",
        "        self.end_token_idx = end_token_idx\n",
        "        self.context_token_to_char = tokenized_context.offsets\n",
        "\n",
        "def create_squad_examples(raw_data):\n",
        "    squad_examples = []\n",
        "    for item in raw_data[\"data\"]:\n",
        "        for para in item[\"paragraphs\"]:\n",
        "            context = para[\"context\"]\n",
        "            for qa in para[\"qas\"]:\n",
        "                question = qa[\"question\"]\n",
        "                answer_text = qa[\"answers\"][0][\"text\"]\n",
        "                all_answers = [_[\"text\"] for _ in qa[\"answers\"]]\n",
        "                start_char_idx = qa[\"answers\"][0][\"answer_start\"]\n",
        "                squad_eg = SquadExample(\n",
        "                    question, context, start_char_idx, answer_text, all_answers\n",
        "                )\n",
        "                squad_eg.preprocess()\n",
        "                squad_examples.append(squad_eg)\n",
        "    return squad_examples\n",
        "\n",
        "\n",
        "def create_inputs_targets(squad_examples):\n",
        "    dataset_dict = {\n",
        "        \"input_ids\": [],\n",
        "        \"token_type_ids\": [],\n",
        "        \"attention_mask\": [],\n",
        "        \"start_token_idx\": [],\n",
        "        \"end_token_idx\": [],\n",
        "    }\n",
        "    for item in squad_examples:\n",
        "        if item.skip == False:\n",
        "            for key in dataset_dict:\n",
        "                dataset_dict[key].append(getattr(item, key))\n",
        "    for key in dataset_dict:\n",
        "        dataset_dict[key] = np.array(dataset_dict[key])\n",
        "\n",
        "    x = [\n",
        "        dataset_dict[\"input_ids\"],\n",
        "        dataset_dict[\"token_type_ids\"],\n",
        "        dataset_dict[\"attention_mask\"],\n",
        "    ]\n",
        "    y = [dataset_dict[\"start_token_idx\"], dataset_dict[\"end_token_idx\"]]\n",
        "    return x, y\n",
        "\n",
        "with open(train_path) as f:\n",
        "    raw_train_data = json.load(f)\n",
        "\n",
        "with open(eval_path) as f:\n",
        "    raw_eval_data = json.load(f)"
      ],
      "execution_count": 4,
      "outputs": []
    },
    {
      "cell_type": "code",
      "metadata": {
        "colab": {
          "base_uri": "https://localhost:8080/"
        },
        "id": "niqgQ9y2HZFa",
        "outputId": "75522428-df8a-432f-ad8a-c3e94c643db6"
      },
      "source": [
        "train_squad_examples = create_squad_examples(raw_train_data)\n",
        "x_train, y_train = create_inputs_targets(train_squad_examples)\n",
        "print(f\"{len(train_squad_examples)} training points created.\")\n",
        "\n",
        "eval_squad_examples = create_squad_examples(raw_eval_data)\n",
        "x_eval, y_eval = create_inputs_targets(eval_squad_examples)\n",
        "print(f\"{len(eval_squad_examples)} evaluation points created.\")"
      ],
      "execution_count": 5,
      "outputs": [
        {
          "output_type": "stream",
          "name": "stdout",
          "text": [
            "87599 training points created.\n",
            "10570 evaluation points created.\n"
          ]
        }
      ]
    },
    {
      "cell_type": "code",
      "metadata": {
        "id": "PblwQYagLJti"
      },
      "source": [
        "def normalize_text(text):\n",
        "    text = text.lower()\n",
        "\n",
        "    # Remove punctuations.\n",
        "    exclude = set(string.punctuation)\n",
        "    text = \"\".join(ch for ch in text if ch not in exclude)\n",
        "\n",
        "    # Remove articles\n",
        "    regex = re.compile(r\"\\b(a|an|the)\\b\", re.UNICODE)\n",
        "    text = re.sub(regex, \" \", text)\n",
        "\n",
        "    # Remove extra white space\n",
        "    text = \" \".join(text.split())\n",
        "    return text\n",
        "\n",
        "\n",
        "class ExactMatch(keras.callbacks.Callback):\n",
        "    \"\"\"\n",
        "    Each `SquadExample` object contains the character level offsets for each token\n",
        "    in its input paragraph. We use them to get back the span of text corresponding\n",
        "    to the tokens between our predicted start and end tokens.\n",
        "    All the ground-truth answers are also present in each `SquadExample` object.\n",
        "    We calculate the percentage of data points where the span of text obtained\n",
        "    from model predictions matches one of the ground-truth answers.\n",
        "    \"\"\"\n",
        "\n",
        "    def __init__(self, x_eval, y_eval):\n",
        "        self.x_eval = x_eval\n",
        "        self.y_eval = y_eval\n",
        "\n",
        "    def on_epoch_end(self, epoch, logs=None):\n",
        "        pred_start, pred_end = self.model.predict(self.x_eval)\n",
        "        count = 0\n",
        "        eval_examples_no_skip = [_ for _ in eval_squad_examples if _.skip == False]\n",
        "        for idx, (start, end) in enumerate(zip(pred_start, pred_end)):\n",
        "            squad_eg = eval_examples_no_skip[idx]\n",
        "            offsets = squad_eg.context_token_to_char\n",
        "            start = np.argmax(start)  # index for hvor modellen tror svaret start\n",
        "            end = np.argmax(end)      # -------------- || ----------------  ender\n",
        "            if start >= len(offsets):\n",
        "                continue\n",
        "            pred_char_start = offsets[start][0]\n",
        "            if end < len(offsets):\n",
        "                pred_char_end = offsets[end][1]\n",
        "                pred_ans = squad_eg.context[pred_char_start:pred_char_end]\n",
        "            else:\n",
        "                pred_ans = squad_eg.context[pred_char_start:]\n",
        "\n",
        "            normalized_pred_ans = normalize_text(pred_ans)\n",
        "            normalized_true_ans = [normalize_text(_) for _ in squad_eg.all_answers]\n",
        "            if normalized_pred_ans in normalized_true_ans:\n",
        "                count += 1\n",
        "        acc = count / len(self.y_eval[0])\n",
        "        print(f\"\\nepoch={epoch+1}, exact match score={acc:.2f}\")"
      ],
      "execution_count": 6,
      "outputs": []
    },
    {
      "cell_type": "code",
      "metadata": {
        "colab": {
          "base_uri": "https://localhost:8080/"
        },
        "id": "hWCvKVXTndHm",
        "outputId": "146e35d2-291b-46b4-da85-1b4bd4a95a84"
      },
      "source": [
        "from google.colab import drive\n",
        "drive.mount('/content/drive')\n",
        "\n",
        "#model.save_weights('/content/drive/MyDrive/squadv1_trained_bert/checkpoint.h5')\n",
        "#model.load_weights('/content/drive/MyDrive/squadv1_trained_bert/checkpoint.h5')"
      ],
      "execution_count": 7,
      "outputs": [
        {
          "output_type": "stream",
          "name": "stdout",
          "text": [
            "Mounted at /content/drive\n"
          ]
        }
      ]
    },
    {
      "cell_type": "markdown",
      "metadata": {
        "id": "dL_KMDJbNMdS"
      },
      "source": [
        "## Differentiation example in TensorFlow\n",
        "We use a so-called `GradientTape` which logs all operations on the TensorFlow variables in its scope. We can then ask it to differentiate one variable w.r.t. another using *autodiff*.\n",
        "\n",
        "Hence `tape.gradient(y, [x1,x2])` would differentiate a variable `y` w.r.t. two variables individually `x1` and `x2`."
      ]
    },
    {
      "cell_type": "code",
      "metadata": {
        "id": "_uW4mZbdNN8M",
        "colab": {
          "base_uri": "https://localhost:8080/"
        },
        "outputId": "35dfea3c-4eb1-4c3b-db5c-6b93704d8c89"
      },
      "source": [
        "import tensorflow as tf\n",
        "\n",
        "x = tf.Variable([[5.0]])\n",
        "dense1 = tf.keras.layers.Dense(5, use_bias=False)\n",
        "dense2 = tf.keras.layers.Dense(1, use_bias=False)\n",
        "\n",
        "# Hvis du vil beregne flere gradienter på samme tape skal du sætte persistent=True\n",
        "with tf.GradientTape(persistent=True) as tape:\n",
        "  y = x*x + 2\n",
        "  z = dense2(dense1(x))\n",
        "\n",
        "print(\"dydx (x=5.0): {}\".format(tape.gradient(y,x)))\n",
        "print(\"dzdw (x=5.0, w): {}\".format(tape.gradient(z, [dense1.weights, dense2.weights])))\n"
      ],
      "execution_count": 8,
      "outputs": [
        {
          "output_type": "stream",
          "name": "stdout",
          "text": [
            "dydx (x=5.0): [[10.]]\n",
            "dzdw (x=5.0, w): [[<tf.Tensor: shape=(1, 5), dtype=float32, numpy=\n",
            "array([[-3.828665  , -2.173947  , -0.9043181 ,  0.60455203,  3.7640083 ]],\n",
            "      dtype=float32)>], [<tf.Tensor: shape=(5, 1), dtype=float32, numpy=\n",
            "array([[-3.7398195 ],\n",
            "       [ 1.3444173 ],\n",
            "       [-1.2001717 ],\n",
            "       [-0.09094238],\n",
            "       [ 3.5734653 ]], dtype=float32)>]]\n"
          ]
        }
      ]
    },
    {
      "cell_type": "markdown",
      "metadata": {
        "id": "aSBoGHJvPl8r"
      },
      "source": [
        "## Intermediate layer models (final code starts here)\n",
        "But do run the code from \"Keras.IO implementation\" and onwards.\n"
      ]
    },
    {
      "cell_type": "code",
      "metadata": {
        "id": "-muhjejEPnhz",
        "colab": {
          "base_uri": "https://localhost:8080/",
          "height": 1000
        },
        "outputId": "daf83819-1a98-4be7-bfd5-f6ab8a7db459"
      },
      "source": [
        "from transformers.modeling_tf_utils import shape_list\n",
        "\n",
        "def create_models_for_inner_layers():\n",
        "    \"\"\"\n",
        "        Creates the models. The original function comes from \"create_model\" at\n",
        "          https://keras.io/examples/nlp/text_extraction_with_bert/\n",
        "        I then modified the function a lot to perform the same computations as \n",
        "        in the source code for TFBertEncoder.call at\n",
        "          https://github.com/huggingface/transformers/blob/master/src/transformers/models/bert/modeling_tf_bert.py\n",
        "\n",
        "        I take full credit for everything not existing (modified or unmodified)\n",
        "        in those two sources. That includes the intermediate input-layers, \n",
        "        the keras.Models, and the hours of reverse-engineering required to put \n",
        "        it all together.\n",
        "\n",
        "        Author: s184399 - Mikkel G. Jørgensen\n",
        "    \"\"\"\n",
        "    #################\n",
        "    # Inputs layers #\n",
        "    #################\n",
        "    input_ids = layers.Input(shape=(max_len,), dtype=tf.int32, name='input_input_ids')\n",
        "    token_type_ids = layers.Input(shape=(max_len,), dtype=tf.int32, name='input_token_type_ids')\n",
        "    attention_mask = layers.Input(shape=(max_len,), dtype=tf.int32, name='input_attention_mask')\n",
        "    token_embed = layers.Input(shape=(max_len, 768,), dtype=tf.float32, name='input_token_embeddings')\n",
        "    original_input_layer = [input_ids, token_type_ids, attention_mask]\n",
        "    embedding_input_layer = [token_embed, token_type_ids, attention_mask]\n",
        "    intermediate_input_layer = embedding_input_layer\n",
        "    top_layer_input = layers.Input(shape=(max_len, 768), dtype=tf.float32, name='top_layer_input')\n",
        "\n",
        "    #####################\n",
        "    # Obtain BERT model #\n",
        "    #####################\n",
        "    bert_model = TFBertModel.from_pretrained(\"bert-base-uncased\")  # TFBertModel\n",
        "    bert_main_layer = bert_model.layers[0]   # TFBertMainLayer\n",
        "    bert_encoder = bert_main_layer.encoder   # TFBertEncoder\n",
        "    bert_embeddings = bert_main_layer.embeddings  # TFBertEmbeddings\n",
        "    encoder_layers = bert_encoder.layer      # List[TFBertLayer]\n",
        "\n",
        "    ##################\n",
        "    # Some variables #\n",
        "    ##################\n",
        "    # This part is a slightly modified version of TFBertEncoder.call at: \n",
        "    # https://github.com/huggingface/transformers/blob/master/src/transformers/models/bert/modeling_tf_bert.py\n",
        "    output_attentions = False # bert_encoder.output_attentions\n",
        "    output_hidden_states = False # bert_encoder.output_hidden_states\n",
        "    return_dict = False # bert_encoder.return_dict\n",
        "\n",
        "    seq_length = 384\n",
        "    past_key_values_length = 0\n",
        "\n",
        "    attention_mask_shape = shape_list(attention_mask)\n",
        "    mask_seq_length = seq_length + past_key_values_length\n",
        "    extended_attention_mask = tf.reshape(\n",
        "        attention_mask, (attention_mask_shape[0], 1, 1, attention_mask_shape[1])\n",
        "    )\n",
        "    extended_attention_mask = tf.cast(extended_attention_mask, dtype=tf.float32)\n",
        "    one_cst = tf.constant(1.0, dtype=tf.float32)\n",
        "    ten_thousand_cst = tf.constant(-10000.0, dtype=tf.float32)\n",
        "    extended_attention_mask = tf.multiply(tf.subtract(one_cst, extended_attention_mask), ten_thousand_cst)\n",
        "    encoder_extended_attention_mask = None\n",
        "\n",
        "    #extended_attention_mask = attention_mask[:, tf.newaxis, tf.newaxis, :]\n",
        "    #extended_attention_mask = tf.cast(extended_attention_mask, tf.float32)\n",
        "    #extended_attention_mask = (1.0 - extended_attention_mask) * -10000.0  # ??\n",
        "    head_mask = [None] * len(encoder_layers)\n",
        "\n",
        "    ###########################\n",
        "    # Construct the model top #\n",
        "    ###########################\n",
        "    start_logits = layers.Dense(1, name=\"start_logit\", use_bias=False)(top_layer_input)\n",
        "    start_logits = layers.Flatten()(start_logits)\n",
        "\n",
        "    end_logits = layers.Dense(1, name=\"end_logit\", use_bias=False)(top_layer_input)\n",
        "    end_logits = layers.Flatten()(end_logits)\n",
        "\n",
        "    start_probs = layers.Activation(keras.activations.softmax)(start_logits)\n",
        "    end_probs = layers.Activation(keras.activations.softmax)(end_logits)\n",
        "\n",
        "    top_layer_model = keras.Model(\n",
        "        inputs=top_layer_input,\n",
        "        outputs=[start_probs, end_probs],\n",
        "        name='top_layer_model'\n",
        "    )\n",
        "\n",
        "    ################################\n",
        "    # Construct the input embedder #\n",
        "    ################################\n",
        "    input_embedder = tf.keras.Model(\n",
        "        original_input_layer, \n",
        "        bert_embeddings(\n",
        "            input_ids=input_ids,\n",
        "            token_type_ids=token_type_ids\n",
        "        ),\n",
        "        name='embedder'\n",
        "    )\n",
        "\n",
        "    #########################\n",
        "    # Construct the encoder #\n",
        "    #########################\n",
        "    output_embedding = bert_encoder(\n",
        "        hidden_states=token_embed,\n",
        "        attention_mask=extended_attention_mask,\n",
        "        head_mask=head_mask,\n",
        "        output_attentions=output_attentions, \n",
        "        past_key_values=None,\n",
        "        encoder_attention_mask=None,\n",
        "        encoder_hidden_states=None,\n",
        "        training=False,\n",
        "        use_cache=True,\n",
        "        output_hidden_states=False,\n",
        "        return_dict=True\n",
        "    )[0]\n",
        "    embedding_based_model = keras.Model(\n",
        "        inputs=embedding_input_layer,\n",
        "        outputs=top_layer_model(output_embedding),\n",
        "        name='embedding_based_model'\n",
        "    )\n",
        "\n",
        "    ############################\n",
        "    # Construct the full model #\n",
        "    ############################\n",
        "    bert_embedding_original = bert_model(\n",
        "        input_ids, token_type_ids=token_type_ids, attention_mask=attention_mask\n",
        "    )[0]\n",
        "    full_model = keras.Model(\n",
        "        inputs=original_input_layer,\n",
        "        outputs=top_layer_model(bert_embedding_original),\n",
        "        name='full_model'\n",
        "    )\n",
        "    loss = keras.losses.SparseCategoricalCrossentropy(from_logits=False)\n",
        "    optimizer = keras.optimizers.Adam(lr=5e-5)\n",
        "    full_model.compile(optimizer=optimizer, loss=[loss, loss])  # The model we'll train.\n",
        "\n",
        "    ######################################\n",
        "    # Construct the partial model tuples #\n",
        "    ###################################### \n",
        "    # Rename layer parts\n",
        "    for i, layer_module in enumerate(encoder_layers):\n",
        "        layer_module.attention._name = \"attention_{}\".format(i)\n",
        "        layer_module.intermediate._name = \"intermediate_{}\".format(i)\n",
        "        layer_module.bert_output._name = \"output_{}\".format(i)\n",
        "\n",
        "    partial_models = []\n",
        "    hidden_states = input_embedder(original_input_layer)\n",
        "    for i, layer_module in enumerate(encoder_layers[:-1]):\n",
        "        # Call layer on previous hidden state and construct a model\n",
        "        hidden_states = layer_module(\n",
        "            hidden_states, \n",
        "            attention_mask=extended_attention_mask, \n",
        "            head_mask=head_mask[i],\n",
        "            output_attentions=output_attentions, \n",
        "            past_key_value=None,\n",
        "            encoder_attention_mask=None,\n",
        "            encoder_hidden_states=None,\n",
        "            training=False\n",
        "        )[0]\n",
        "        model_pt1 = tf.keras.Model(\n",
        "            inputs=original_input_layer,\n",
        "            outputs=hidden_states\n",
        "        )\n",
        "        # Construct the second part of the model\n",
        "        intermediate_output = token_embed\n",
        "        for j, remaining_layer in enumerate(encoder_layers[i+1:]):\n",
        "            intermediate_output = remaining_layer(\n",
        "                intermediate_output, \n",
        "                attention_mask=extended_attention_mask, \n",
        "                head_mask=head_mask[j+i+1],\n",
        "                output_attentions=output_attentions, \n",
        "                past_key_value=None,\n",
        "                encoder_attention_mask=None,\n",
        "                encoder_hidden_states=None,\n",
        "                training=False\n",
        "            )[0]\n",
        "        model_pt2 = tf.keras.Model(\n",
        "            inputs=intermediate_input_layer,\n",
        "            outputs=top_layer_model(intermediate_output)\n",
        "        )\n",
        "        partial_models.append((model_pt1, model_pt2))\n",
        "\n",
        "    return full_model, input_embedder, embedding_based_model, partial_models, top_layer_model\n",
        "\n",
        "\n",
        "use_tpu = True #\n",
        "if use_tpu:\n",
        "    # Create distribution strategy\n",
        "    tpu = tf.distribute.cluster_resolver.TPUClusterResolver.connect()\n",
        "    strategy = tf.distribute.TPUStrategy(tpu)\n",
        "\n",
        "    # Create model\n",
        "    with strategy.scope():\n",
        "        full_model, input_embedder, embedding_based_model, partial_models, top_layer_model = create_models_for_inner_layers()\n",
        "else:\n",
        "      full_model, input_embedder, embedding_based_model, partial_models, top_layer_model = create_models_for_inner_layers()\n",
        "\n",
        "\n",
        "train_models = True\n",
        "#####################################################################\n",
        "# Unit test: Do combined partial models evaluate as the full model? #\n",
        "#####################################################################\n",
        "test_input = [x_train[0][0:5], x_train[1][0:5], x_train[2][0:5]]\n",
        "\n",
        "\n",
        "full_model_pred = full_model(test_input)\n",
        "for model_pt1, model_pt2 in partial_models:\n",
        "    assert np.all(np.isclose(\n",
        "        full_model_pred,\n",
        "        model_pt2([model_pt1(test_input), test_input[1], test_input[2]])\n",
        "    ))\n",
        "\n",
        "############################################\n",
        "# Unit test: Do the models train together? #\n",
        "############################################\n",
        "exact_match_callback = ExactMatch(x_eval, y_eval)\n",
        "\n",
        "if train_models:\n",
        "    hist = full_model.fit(\n",
        "        x_train,\n",
        "        y_train,\n",
        "        epochs=1,\n",
        "        verbose=1,\n",
        "        batch_size=8, # 64 batch måske lige lovligt meget\n",
        "        callbacks=[exact_match_callback],\n",
        "    )\n",
        "    full_model.save_weights('drive/MyDrive/squadv1_trained_bert/checkpoint.h5')\n",
        "else:\n",
        "    full_model.load_weights('drive/MyDrive/squadv1_trained_bert/checkpoint.h5')\n",
        "\n",
        "embed_test_input = [input_embedder(test_input), x_train[1][0:5], x_train[2][0:5]]\n",
        "\n",
        "full_model_output = full_model(test_input)\n",
        "\n",
        "assert np.all(np.isclose(\n",
        "    full_model_output,\n",
        "    embedding_based_model(embed_test_input)\n",
        "))\n",
        "\n",
        "for model_pt1, model_pt2 in partial_models:\n",
        "    assert np.all(np.isclose(\n",
        "        full_model_output,\n",
        "        model_pt2([model_pt1(test_input), test_input[1], test_input[2]])\n",
        "    ))\n",
        "\n"
      ],
      "execution_count": 11,
      "outputs": [
        {
          "output_type": "stream",
          "name": "stdout",
          "text": [
            "INFO:tensorflow:Deallocate tpu buffers before initializing tpu system.\n"
          ]
        },
        {
          "output_type": "stream",
          "name": "stderr",
          "text": [
            "INFO:tensorflow:Deallocate tpu buffers before initializing tpu system.\n"
          ]
        },
        {
          "output_type": "stream",
          "name": "stdout",
          "text": [
            "WARNING:tensorflow:TPU system grpc://10.72.169.74:8470 has already been initialized. Reinitializing the TPU can cause previously created variables on TPU to be lost.\n"
          ]
        },
        {
          "output_type": "stream",
          "name": "stderr",
          "text": [
            "WARNING:tensorflow:TPU system grpc://10.72.169.74:8470 has already been initialized. Reinitializing the TPU can cause previously created variables on TPU to be lost.\n"
          ]
        },
        {
          "output_type": "stream",
          "name": "stdout",
          "text": [
            "INFO:tensorflow:Initializing the TPU system: grpc://10.72.169.74:8470\n"
          ]
        },
        {
          "output_type": "stream",
          "name": "stderr",
          "text": [
            "INFO:tensorflow:Initializing the TPU system: grpc://10.72.169.74:8470\n"
          ]
        },
        {
          "output_type": "stream",
          "name": "stdout",
          "text": [
            "INFO:tensorflow:Finished initializing TPU system.\n"
          ]
        },
        {
          "output_type": "stream",
          "name": "stderr",
          "text": [
            "INFO:tensorflow:Finished initializing TPU system.\n"
          ]
        },
        {
          "output_type": "stream",
          "name": "stdout",
          "text": [
            "INFO:tensorflow:Found TPU system:\n"
          ]
        },
        {
          "output_type": "stream",
          "name": "stderr",
          "text": [
            "INFO:tensorflow:Found TPU system:\n"
          ]
        },
        {
          "output_type": "stream",
          "name": "stdout",
          "text": [
            "INFO:tensorflow:*** Num TPU Cores: 8\n"
          ]
        },
        {
          "output_type": "stream",
          "name": "stderr",
          "text": [
            "INFO:tensorflow:*** Num TPU Cores: 8\n"
          ]
        },
        {
          "output_type": "stream",
          "name": "stdout",
          "text": [
            "INFO:tensorflow:*** Num TPU Workers: 1\n"
          ]
        },
        {
          "output_type": "stream",
          "name": "stderr",
          "text": [
            "INFO:tensorflow:*** Num TPU Workers: 1\n"
          ]
        },
        {
          "output_type": "stream",
          "name": "stdout",
          "text": [
            "INFO:tensorflow:*** Num TPU Cores Per Worker: 8\n"
          ]
        },
        {
          "output_type": "stream",
          "name": "stderr",
          "text": [
            "INFO:tensorflow:*** Num TPU Cores Per Worker: 8\n"
          ]
        },
        {
          "output_type": "stream",
          "name": "stdout",
          "text": [
            "INFO:tensorflow:*** Available Device: _DeviceAttributes(/job:localhost/replica:0/task:0/device:CPU:0, CPU, 0, 0)\n"
          ]
        },
        {
          "output_type": "stream",
          "name": "stderr",
          "text": [
            "INFO:tensorflow:*** Available Device: _DeviceAttributes(/job:localhost/replica:0/task:0/device:CPU:0, CPU, 0, 0)\n"
          ]
        },
        {
          "output_type": "stream",
          "name": "stdout",
          "text": [
            "INFO:tensorflow:*** Available Device: _DeviceAttributes(/job:worker/replica:0/task:0/device:CPU:0, CPU, 0, 0)\n"
          ]
        },
        {
          "output_type": "stream",
          "name": "stderr",
          "text": [
            "INFO:tensorflow:*** Available Device: _DeviceAttributes(/job:worker/replica:0/task:0/device:CPU:0, CPU, 0, 0)\n"
          ]
        },
        {
          "output_type": "stream",
          "name": "stdout",
          "text": [
            "INFO:tensorflow:*** Available Device: _DeviceAttributes(/job:worker/replica:0/task:0/device:TPU:0, TPU, 0, 0)\n"
          ]
        },
        {
          "output_type": "stream",
          "name": "stderr",
          "text": [
            "INFO:tensorflow:*** Available Device: _DeviceAttributes(/job:worker/replica:0/task:0/device:TPU:0, TPU, 0, 0)\n"
          ]
        },
        {
          "output_type": "stream",
          "name": "stdout",
          "text": [
            "INFO:tensorflow:*** Available Device: _DeviceAttributes(/job:worker/replica:0/task:0/device:TPU:1, TPU, 0, 0)\n"
          ]
        },
        {
          "output_type": "stream",
          "name": "stderr",
          "text": [
            "INFO:tensorflow:*** Available Device: _DeviceAttributes(/job:worker/replica:0/task:0/device:TPU:1, TPU, 0, 0)\n"
          ]
        },
        {
          "output_type": "stream",
          "name": "stdout",
          "text": [
            "INFO:tensorflow:*** Available Device: _DeviceAttributes(/job:worker/replica:0/task:0/device:TPU:2, TPU, 0, 0)\n"
          ]
        },
        {
          "output_type": "stream",
          "name": "stderr",
          "text": [
            "INFO:tensorflow:*** Available Device: _DeviceAttributes(/job:worker/replica:0/task:0/device:TPU:2, TPU, 0, 0)\n"
          ]
        },
        {
          "output_type": "stream",
          "name": "stdout",
          "text": [
            "INFO:tensorflow:*** Available Device: _DeviceAttributes(/job:worker/replica:0/task:0/device:TPU:3, TPU, 0, 0)\n"
          ]
        },
        {
          "output_type": "stream",
          "name": "stderr",
          "text": [
            "INFO:tensorflow:*** Available Device: _DeviceAttributes(/job:worker/replica:0/task:0/device:TPU:3, TPU, 0, 0)\n"
          ]
        },
        {
          "output_type": "stream",
          "name": "stdout",
          "text": [
            "INFO:tensorflow:*** Available Device: _DeviceAttributes(/job:worker/replica:0/task:0/device:TPU:4, TPU, 0, 0)\n"
          ]
        },
        {
          "output_type": "stream",
          "name": "stderr",
          "text": [
            "INFO:tensorflow:*** Available Device: _DeviceAttributes(/job:worker/replica:0/task:0/device:TPU:4, TPU, 0, 0)\n"
          ]
        },
        {
          "output_type": "stream",
          "name": "stdout",
          "text": [
            "INFO:tensorflow:*** Available Device: _DeviceAttributes(/job:worker/replica:0/task:0/device:TPU:5, TPU, 0, 0)\n"
          ]
        },
        {
          "output_type": "stream",
          "name": "stderr",
          "text": [
            "INFO:tensorflow:*** Available Device: _DeviceAttributes(/job:worker/replica:0/task:0/device:TPU:5, TPU, 0, 0)\n"
          ]
        },
        {
          "output_type": "stream",
          "name": "stdout",
          "text": [
            "INFO:tensorflow:*** Available Device: _DeviceAttributes(/job:worker/replica:0/task:0/device:TPU:6, TPU, 0, 0)\n"
          ]
        },
        {
          "output_type": "stream",
          "name": "stderr",
          "text": [
            "INFO:tensorflow:*** Available Device: _DeviceAttributes(/job:worker/replica:0/task:0/device:TPU:6, TPU, 0, 0)\n"
          ]
        },
        {
          "output_type": "stream",
          "name": "stdout",
          "text": [
            "INFO:tensorflow:*** Available Device: _DeviceAttributes(/job:worker/replica:0/task:0/device:TPU:7, TPU, 0, 0)\n"
          ]
        },
        {
          "output_type": "stream",
          "name": "stderr",
          "text": [
            "INFO:tensorflow:*** Available Device: _DeviceAttributes(/job:worker/replica:0/task:0/device:TPU:7, TPU, 0, 0)\n"
          ]
        },
        {
          "output_type": "stream",
          "name": "stdout",
          "text": [
            "INFO:tensorflow:*** Available Device: _DeviceAttributes(/job:worker/replica:0/task:0/device:TPU_SYSTEM:0, TPU_SYSTEM, 0, 0)\n"
          ]
        },
        {
          "output_type": "stream",
          "name": "stderr",
          "text": [
            "INFO:tensorflow:*** Available Device: _DeviceAttributes(/job:worker/replica:0/task:0/device:TPU_SYSTEM:0, TPU_SYSTEM, 0, 0)\n"
          ]
        },
        {
          "output_type": "stream",
          "name": "stdout",
          "text": [
            "INFO:tensorflow:*** Available Device: _DeviceAttributes(/job:worker/replica:0/task:0/device:XLA_CPU:0, XLA_CPU, 0, 0)\n"
          ]
        },
        {
          "output_type": "stream",
          "name": "stderr",
          "text": [
            "INFO:tensorflow:*** Available Device: _DeviceAttributes(/job:worker/replica:0/task:0/device:XLA_CPU:0, XLA_CPU, 0, 0)\n",
            "Some layers from the model checkpoint at bert-base-uncased were not used when initializing TFBertModel: ['nsp___cls', 'mlm___cls']\n",
            "- This IS expected if you are initializing TFBertModel from the checkpoint of a model trained on another task or with another architecture (e.g. initializing a BertForSequenceClassification model from a BertForPreTraining model).\n",
            "- This IS NOT expected if you are initializing TFBertModel from the checkpoint of a model that you expect to be exactly identical (initializing a BertForSequenceClassification model from a BertForSequenceClassification model).\n",
            "All the layers of TFBertModel were initialized from the model checkpoint at bert-base-uncased.\n",
            "If your task is similar to the task the model of the checkpoint was trained on, you can already use TFBertModel for predictions without further training.\n",
            "/usr/local/lib/python3.7/dist-packages/keras/optimizer_v2/adam.py:105: UserWarning: The `lr` argument is deprecated, use `learning_rate` instead.\n",
            "  super(Adam, self).__init__(name, **kwargs)\n"
          ]
        },
        {
          "output_type": "stream",
          "name": "stdout",
          "text": [
            "WARNING:tensorflow:Gradients do not exist for variables ['tf_bert_model_1/bert/pooler/dense/kernel:0', 'tf_bert_model_1/bert/pooler/dense/bias:0'] when minimizing the loss. If you're using `model.compile()`, did you forget to provide a `loss`argument?\n"
          ]
        },
        {
          "output_type": "stream",
          "name": "stderr",
          "text": [
            "WARNING:tensorflow:Gradients do not exist for variables ['tf_bert_model_1/bert/pooler/dense/kernel:0', 'tf_bert_model_1/bert/pooler/dense/bias:0'] when minimizing the loss. If you're using `model.compile()`, did you forget to provide a `loss`argument?\n"
          ]
        },
        {
          "output_type": "stream",
          "name": "stdout",
          "text": [
            "WARNING:tensorflow:From /usr/local/lib/python3.7/dist-packages/keras/engine/training.py:2970: StrategyBase.unwrap (from tensorflow.python.distribute.distribute_lib) is deprecated and will be removed in a future version.\n",
            "Instructions for updating:\n",
            "use `experimental_local_results` instead.\n"
          ]
        },
        {
          "output_type": "stream",
          "name": "stderr",
          "text": [
            "WARNING:tensorflow:From /usr/local/lib/python3.7/dist-packages/keras/engine/training.py:2970: StrategyBase.unwrap (from tensorflow.python.distribute.distribute_lib) is deprecated and will be removed in a future version.\n",
            "Instructions for updating:\n",
            "use `experimental_local_results` instead.\n"
          ]
        },
        {
          "output_type": "stream",
          "name": "stdout",
          "text": [
            "WARNING:tensorflow:Gradients do not exist for variables ['tf_bert_model_1/bert/pooler/dense/kernel:0', 'tf_bert_model_1/bert/pooler/dense/bias:0'] when minimizing the loss. If you're using `model.compile()`, did you forget to provide a `loss`argument?\n"
          ]
        },
        {
          "output_type": "stream",
          "name": "stderr",
          "text": [
            "WARNING:tensorflow:Gradients do not exist for variables ['tf_bert_model_1/bert/pooler/dense/kernel:0', 'tf_bert_model_1/bert/pooler/dense/bias:0'] when minimizing the loss. If you're using `model.compile()`, did you forget to provide a `loss`argument?\n"
          ]
        },
        {
          "output_type": "stream",
          "name": "stdout",
          "text": [
            "    6/10767 [..............................] - ETA: 12:38 - loss: 10.8625 - top_layer_model_loss: 5.6073 - top_layer_model_1_loss: 5.2553WARNING:tensorflow:Callback method `on_train_batch_end` is slow compared to the batch time (batch time: 0.0059s vs `on_train_batch_end` time: 7.1568s). Check your callbacks.\n"
          ]
        },
        {
          "output_type": "stream",
          "name": "stderr",
          "text": [
            "WARNING:tensorflow:Callback method `on_train_batch_end` is slow compared to the batch time (batch time: 0.0059s vs `on_train_batch_end` time: 7.1568s). Check your callbacks.\n"
          ]
        },
        {
          "output_type": "stream",
          "name": "stdout",
          "text": [
            "10767/10767 [==============================] - ETA: 0s - loss: 2.5377 - top_layer_model_loss: 1.3291 - top_layer_model_1_loss: 1.2086"
          ]
        },
        {
          "output_type": "stream",
          "name": "stderr",
          "text": [
            "INFO:absl:TPU has inputs with dynamic shapes: [<tf.Tensor 'Const:0' shape=() dtype=int32>, <tf.Tensor 'cond/Identity:0' shape=(None, 384) dtype=int64>, <tf.Tensor 'cond/Identity_8:0' shape=(None, 384) dtype=int64>, <tf.Tensor 'cond/Identity_16:0' shape=(None, 384) dtype=int64>]\n"
          ]
        },
        {
          "output_type": "stream",
          "name": "stdout",
          "text": [
            "\n",
            "epoch=1, exact match score=0.74\n",
            "\b\b\b\b\b\b\b\b\b\b\b\b\b\b\b\b\b\b\b\b\b\b\b\b\b\b\b\b\b\b\b\b\b\b\b\b\b\b\b\b\b\b\b\b\b\b\b\b\b\b\b\b\b\b\b\b\b\b\b\b\b\b\b\b\b\b\b\b\b\b\b\b\b\b\b\b\b\b\b\b\b\b\b\b\b\b\b\b\b\b\b\b\b\b\b\b\b\b\b\b\b\b\b\b\b\b\b\b\b\b\b\b\b\b\b\b\b\b\b\b\b\b\b\b\b\b\b\b\b\b\b\b\b\r10767/10767 [==============================] - 864s 74ms/step - loss: 2.5377 - top_layer_model_loss: 1.3291 - top_layer_model_1_loss: 1.2086\n"
          ]
        }
      ]
    },
    {
      "cell_type": "code",
      "metadata": {
        "id": "hG2HaEyuv0n3",
        "colab": {
          "base_uri": "https://localhost:8080/",
          "height": 282
        },
        "outputId": "35dfb8ec-6f48-4a82-f5dd-0fce0bc81dd1"
      },
      "source": [
        "hist.history['loss']\n",
        "\n",
        "plt.plot(hist.history['loss'])"
      ],
      "execution_count": 12,
      "outputs": [
        {
          "output_type": "execute_result",
          "data": {
            "text/plain": [
              "[<matplotlib.lines.Line2D at 0x7f4eec5704d0>]"
            ]
          },
          "metadata": {},
          "execution_count": 12
        },
        {
          "output_type": "display_data",
          "data": {
            "image/png": "[encoded data removed]",
            "text/plain": [
              "<Figure size 432x288 with 1 Axes>"
            ]
          },
          "metadata": {
            "needs_background": "light"
          }
        }
      ]
    },
    {
      "cell_type": "markdown",
      "metadata": {
        "id": "7qLlIbpwwW45"
      },
      "source": [
        "![image.png](data:image/png;base64,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)"
      ]
    },
    {
      "cell_type": "markdown",
      "metadata": {
        "id": "mGkdJagxWy0T"
      },
      "source": [
        "## Integrated Gradients & Visualizations\n",
        "\n",
        "Inspirered by: https://www.tensorflow.org/tutorials/interpretability/integrated_gradients#compute_gradients\n",
        "\n",
        "Visualization Source: https://github.com/ankurtaly/Integrated-Gradients/blob/master/howto.md#visualizing-the-attributions"
      ]
    },
    {
      "cell_type": "code",
      "metadata": {
        "colab": {
          "base_uri": "https://localhost:8080/"
        },
        "id": "dQmFKT07Wydx",
        "outputId": "f6ae2c5e-648b-4315-bebe-341c5209deb6"
      },
      "source": [
        "def integrate_gradients_layer(baseline,\n",
        "                              input_data,\n",
        "                              input_target,\n",
        "                              input_data_idx = 0,\n",
        "                              steps = 50,\n",
        "                              PreLayers = None, \n",
        "                              PostLayers = None):\n",
        "  if PreLayers is None or PostLayers is None:\n",
        "    print(\"Please the embedding layer as well as the remaining model\")\n",
        "    return\n",
        "\n",
        "  if (len(input_data) != 3):\n",
        "    print(\"Please send the x-eval as you would the model.\")\n",
        "    return\n",
        "  \n",
        "  #print(\"\\tEntered sub-function ...\")\n",
        "\n",
        "  alphas = tf.linspace(0.0, 1.0, steps+1)\n",
        "  input_embeds = PreLayers([input_data[0][input_data_idx:input_data_idx+1],\n",
        "                              input_data[1][input_data_idx:input_data_idx+1],\n",
        "                              input_data[2][input_data_idx:input_data_idx+1]])\n",
        "\n",
        "  embeddings = interpolate_embeddings(baseline, input_embeds[0], alphas)\n",
        "\n",
        "  grad_comp_input = get_input(input_data[1:], input_data_idx, steps)\n",
        "\n",
        "  grads = compute_gradients(embeddings, grad_comp_input, input_target, input_data_idx, PostLayers)\n",
        "\n",
        "  # approximate the integral\n",
        "  grads = integral_approximation(grads)\n",
        "\n",
        "  # Normalize\n",
        "  grads = tf.linalg.normalize(tf.norm(tf.multiply((input_embeds - baseline), grads), axis=2), ord=1, axis=1)[0]\n",
        "\n",
        "  return grads\n",
        "\n",
        "def integrate_gradients_all(input_data,\n",
        "                            input_target,\n",
        "                            input_data_idx = 0,\n",
        "                            steps = 50, \n",
        "                            models = None):\n",
        "  if models is None:\n",
        "    print(\"Models are not defined!\")\n",
        "    return\n",
        "  \n",
        "  bl = tf.zeros((max_len, 768))\n",
        "\n",
        "  grads = []\n",
        "\n",
        "  for model_pt1, model_pt2 in partial_models:\n",
        "    grad = integrate_gradients_layer(bl, input_data, input_target, input_data_idx, steps, model_pt1, model_pt2)\n",
        "\n",
        "    grads.append(grad)\n",
        "  \n",
        "  return grads\n",
        "\n",
        "def interpolate_embeddings(baseline,\n",
        "                           embedding,\n",
        "                           alphas):\n",
        "  alphas_x = alphas[:, tf.newaxis, tf.newaxis]\n",
        "  baseline_x = tf.expand_dims(baseline, axis=0)\n",
        "  embeddings_x = tf.expand_dims(embedding, axis=0)\n",
        "  delta = embeddings_x - baseline_x\n",
        "  embeddings = baseline_x + alphas_x * delta\n",
        "  return embeddings\n",
        "\n",
        "def compute_gradients(embeddings,\n",
        "                      input,\n",
        "                      targets,\n",
        "                      input_idx,\n",
        "                      embed_based_model):\n",
        "  assert len(input) == 2\n",
        "  with tf.GradientTape(persistent=True) as tape:\n",
        "    \n",
        "    tape.watch(embeddings) # Vi sikrer os, at det holder øje!\n",
        "    outputs = embed_based_model([embeddings, input[0], input[1]])\n",
        "\n",
        "    probs_start = outputs[0][:,targets[0][input_idx]] #[:, y_eval[0][0]]   # Start token(s) probability \n",
        "    probs_end = outputs[1][:,targets[1][input_idx]] #[:, y_eval[1][0]]     # End token(s) probability\n",
        "\n",
        "    grads_start = tape.gradient(probs_start, embeddings) \n",
        "    grads_end = tape.gradient(probs_end, embeddings)\n",
        "\n",
        "    grads = tf.math.add(grads_start, grads_end)\n",
        "  return grads\n",
        "\n",
        "def get_input(input,\n",
        "              idx, \n",
        "              steps):\n",
        "  dims = steps+1\n",
        "  inp1 = []\n",
        "  inp2 = []\n",
        "  for i in range(dims):\n",
        "    inp1.append(input[0][idx])\n",
        "    inp2.append(input[1][idx])\n",
        "  return tf.constant(inp1), tf.constant(inp2)\n",
        "\n",
        "def summarise(attributions):\n",
        "  attributions = tf.reduce_sum(attributions, axis=-1)\n",
        "  attributions = attributions / tf.norm(attributions)\n",
        "  return attributions\n",
        "\n",
        "def integral_approximation(gradients):\n",
        "  # riemann_trapezoidal\n",
        "  grads = (gradients[:-1] + gradients[1:]) / tf.constant(2.0)\n",
        "  integrated_gradients = tf.math.reduce_mean(grads, axis=0)\n",
        "  return integrated_gradients\n",
        "\n",
        "from IPython.display import display, HTML\n",
        "\n",
        "# Source: https://github.com/ankurtaly/Integrated-Gradients/blob/master/howto.md#visualizing-the-attributions\n",
        "def visualize_token_attrs(tokens, attrs):\n",
        "  \"\"\"\n",
        "  Visualize attributions for given set of tokens.\n",
        "  Args:\n",
        "  - tokens: An array of tokens\n",
        "  - attrs: An array of attributions, of same size as 'tokens',\n",
        "    with attrs[i] being the attribution to tokens[i]\n",
        "  \n",
        "  Returns:\n",
        "  - visualization: An IPython.core.display.HTML object showing\n",
        "    tokens color-coded based on strength of their attribution.\n",
        "  \"\"\"\n",
        "  \n",
        "  def get_color(attr):\n",
        "    if attr > 0:\n",
        "      r = int(128*attr) + 127\n",
        "      g = 128 - int(64*attr)\n",
        "      b = 128 - int(64*attr) \n",
        "    else:\n",
        "      r = 128 + int(64*attr)\n",
        "      g = 128 + int(64*attr) \n",
        "      b = int(-128*attr) + 127\n",
        "    return r,g,b\n",
        "\n",
        "  # normalize attributions for visualization.\n",
        "  bound = max(abs(tf.reduce_max(attrs)), abs(tf.reduce_min(attrs)))\n",
        "  attrs = (attrs/bound)[0]\n",
        "  html_text = \"\"\n",
        "  for i, tok in enumerate(tokens):\n",
        "    if tok == 0:\n",
        "      continue\n",
        "    r,g,b = get_color(attrs[i])\n",
        "    html_text += \" <span style='color:rgb(%d,%d,%d)'>%s</span>\" % (r, g, b, tok)\n",
        "  return HTML(html_text)\n",
        "\n",
        "def token_to_words(tokens):\n",
        "  text = []\n",
        "  for i, tok in enumerate(tokens):\n",
        "    if tok == 101:\n",
        "      text.append('[CLS]')\n",
        "    elif tok == 102:\n",
        "      text.append('[SEP]')\n",
        "    else:\n",
        "      text.append(tokenizer.decode([tok]))\n",
        "  return text\n",
        "\n",
        "\n",
        "####################\n",
        "###  UNIT TESTS  ###\n",
        "####################\n",
        "\n",
        "alphas = tf.linspace(0.0, 1.0, 4)\n",
        "\n",
        "# interpolation unit test\n",
        "test_embeds = interpolate_embeddings([0.0], [[1.0],[1.0],[1.0]], alphas)\n",
        "assert np.all(np.isclose(test_embeds.numpy(), np.array([[[[0.0]], [[1/3.0]], [[2/3.0]], [[1.0]]]])))\n",
        "\n",
        "# compute_gradients unit test\n",
        "\n",
        "input_ids = layers.Input(shape=(3,1), dtype=tf.float32, name='input_input_ids')\n",
        "token_type_ids = layers.Input(shape=(3,), dtype=tf.float32, name='input_token_type_ids')\n",
        "attention_mask = layers.Input(shape=(3,), dtype=tf.float32, name='input_attention_mask')\n",
        "original_input_layer = [input_ids, token_type_ids, attention_mask]\n",
        "\n",
        "start_layers = tf.keras.layers.Dense(1, None, False)(input_ids)\n",
        "start_layers = tf.keras.layers.Flatten()(start_layers)\n",
        "\n",
        "end_layers = tf.keras.layers.Dense(1, None, False)(input_ids)\n",
        "end_layers = tf.keras.layers.Flatten()(end_layers)\n",
        "\n",
        "test_model = tf.keras.Model(inputs=original_input_layer, outputs=[start_layers, end_layers])\n",
        "test_model([test_embeds, tf.constant([[3.0,3.0,3.0]]), tf.constant([[1.0,1.0,1.0]])])\n",
        "test_model.layers[1].weights[0].assign(tf.constant([[3.0]]))\n",
        "test_model.layers[2].weights[0].assign(tf.constant([[2.0]]))\n",
        "# print(\"FM: \", test_model([test_embeds, tf.constant([[3.0,3.0,3.0]]), tf.constant([[1.0,1.0,1.0]])]))\n",
        "\n",
        "gradsTest = compute_gradients(test_embeds,\n",
        "                                [tf.constant([[3.0,3.0,3.0]]), tf.constant([[1.0,1.0,1.0]])],\n",
        "                                tf.constant([[1],[2]]), \n",
        "                                0, \n",
        "                                test_model)\n",
        "# print(\"Grads: \", gradsTest)\n",
        "assert np.all(gradsTest.numpy() == np.array([[[0.0],[3.0],[2.0]]]))\n",
        "\n",
        "\n",
        "\n",
        "# Integral Appoximation unit test\n",
        "# print(integral_approximation(gradsTest))\n",
        "\n",
        "assert np.all(tf.equal(integral_approximation(gradsTest), tf.constant([[0.0],[3.0],[2.0]])))"
      ],
      "execution_count": 13,
      "outputs": [
        {
          "output_type": "stream",
          "name": "stdout",
          "text": [
            "WARNING:tensorflow:Calling GradientTape.gradient on a persistent tape inside its context is significantly less efficient than calling it outside the context (it causes the gradient ops to be recorded on the tape, leading to increased CPU and memory usage). Only call GradientTape.gradient inside the context if you actually want to trace the gradient in order to compute higher order derivatives.\n"
          ]
        },
        {
          "output_type": "stream",
          "name": "stderr",
          "text": [
            "WARNING:tensorflow:Calling GradientTape.gradient on a persistent tape inside its context is significantly less efficient than calling it outside the context (it causes the gradient ops to be recorded on the tape, leading to increased CPU and memory usage). Only call GradientTape.gradient inside the context if you actually want to trace the gradient in order to compute higher order derivatives.\n"
          ]
        },
        {
          "output_type": "stream",
          "name": "stdout",
          "text": [
            "WARNING:tensorflow:Calling GradientTape.gradient on a persistent tape inside its context is significantly less efficient than calling it outside the context (it causes the gradient ops to be recorded on the tape, leading to increased CPU and memory usage). Only call GradientTape.gradient inside the context if you actually want to trace the gradient in order to compute higher order derivatives.\n"
          ]
        },
        {
          "output_type": "stream",
          "name": "stderr",
          "text": [
            "WARNING:tensorflow:Calling GradientTape.gradient on a persistent tape inside its context is significantly less efficient than calling it outside the context (it causes the gradient ops to be recorded on the tape, leading to increased CPU and memory usage). Only call GradientTape.gradient inside the context if you actually want to trace the gradient in order to compute higher order derivatives.\n"
          ]
        }
      ]
    },
    {
      "cell_type": "markdown",
      "metadata": {
        "id": "q-C4QADxcNXj"
      },
      "source": [
        "## Top 5 Attributions (summed grad):"
      ]
    },
    {
      "cell_type": "code",
      "metadata": {
        "id": "-pmQgXz1cNG2"
      },
      "source": [
        "import numpy as np\n",
        "\n",
        "def find_answer_span_tokens(y_eval_data, index):\n",
        "  \"\"\"\n",
        "    Returns indices of answer span\n",
        "  \"\"\"\n",
        "  return np.arange(y_eval_data[0][index], y_eval_data[1][index]+1)\n",
        "\n",
        "def find_query_words_in_passage(x_eval, index):\n",
        "  \"\"\"\n",
        "    Returns index of query words\n",
        "  \"\"\"\n",
        "  passage = x_eval[0][index]\n",
        "  start, end = np.argwhere(passage==102)\n",
        "  query_toks = passage[start[0]+1:end[0]]\n",
        "  passage = passage[0: start[0]]\n",
        "\n",
        "  def predicate(passage):\n",
        "    \n",
        "    ans = np.zeros(passage.shape, dtype=np.bool)\n",
        "\n",
        "    for i, e in enumerate(passage):\n",
        "      ans[i] = e in query_toks\n",
        "\n",
        "    return ans\n",
        "\n",
        "  return np.argwhere(predicate(passage)).ravel()\n",
        "\n",
        "def find_support_tokens(answer_start, answer_end, passage):\n",
        "  start, end = np.argwhere(passage==102)\n",
        "  passage = passage[0: start[0]]\n",
        "\n",
        "  first_span_start = max(0, answer_start-5)\n",
        "  last_span_end = min(len(passage)-1, answer_end+5)\n",
        "\n",
        "  \n",
        "  return np.hstack((np.arange(first_span_start,answer_start),\n",
        "                    np.arange(answer_end+1,last_span_end+1)))\n",
        "\n",
        "\n",
        "def get_token_types(x_eval, y_eval, index):\n",
        "  answer_tokens = find_answer_span_tokens(y_eval, index)\n",
        "  query_tokens = find_query_words_in_passage(x_eval, index)\n",
        "  support_tokens = find_support_tokens(y_eval[0][index], \n",
        "                                       y_eval[1][index], \n",
        "                                       x_eval[0][index])\n",
        "  \n",
        "  return answer_tokens, query_tokens, support_tokens\n",
        "\n",
        "def find_top_five_attributions(grad):\n",
        "  \n",
        "  l_top_start = []\n",
        "\n",
        "  for i in range(len(grad)):\n",
        "    \n",
        "    l_top_start.append(np.argsort(grad[i][0])[-5:])\n",
        "  \n",
        "  return l_top_start\n",
        "\n",
        "def find_aqs_counts(t5sgs, answer_toks_idxs, support_toks_idxs, query_toks_idxs):\n",
        "\n",
        "  def predi_fun(passage, pattern):\n",
        "    ans = np.zeros(pattern.shape, dtype=np.bool)\n",
        "\n",
        "    for i, e in enumerate(pattern):\n",
        "      ans[i] = e in passage\n",
        "  \n",
        "    return ans\n",
        "\n",
        "  SCount = []\n",
        "\n",
        "  for i in range(len(t5sgs)):\n",
        "    sg = t5sgs[i]\n",
        "\n",
        "    numSA = np.sum(predi_fun(sg, answer_toks_idxs))       # Answers in top 5\n",
        "    numSQ = np.sum(predi_fun(sg, support_toks_idxs))      # Queries in top 5 \n",
        "    numSS = np.sum(predi_fun(sg, query_toks_idxs))        # Support in top 5\n",
        "\n",
        "    SCount.append((numSA, numSQ, numSS))\n",
        "  \n",
        "  return SCount\n",
        "\n",
        "def get_aqs_percentages(sCount, a_length, q_length, s_length):\n",
        "  percentages_s = []\n",
        "\n",
        "  for s in sCount:\n",
        "\n",
        "    perSA = s[0]/a_length\n",
        "    perSQ = s[1]/q_length\n",
        "    perSS = s[2]/s_length\n",
        "\n",
        "    percentages_s.append((perSA, perSQ, perSS))\n",
        "  \n",
        "  return percentages_s\n",
        "\n"
      ],
      "execution_count": 14,
      "outputs": []
    },
    {
      "cell_type": "markdown",
      "metadata": {
        "id": "VKVywvF5xfxO"
      },
      "source": [
        "## Testing"
      ]
    },
    {
      "cell_type": "code",
      "metadata": {
        "colab": {
          "base_uri": "https://localhost:8080/",
          "height": 1000
        },
        "id": "IdErvEN9dQmb",
        "outputId": "702d4ce3-0661-4c93-c084-6a1105285c10"
      },
      "source": [
        "# NEW VERSION (Single)\n",
        "\n",
        "idx = 0\n",
        "steps = 10\n",
        "grads = integrate_gradients_all(x_eval, y_eval, idx, steps, partial_models)\n",
        "\n",
        "words = token_to_words(x_eval[0][idx])\n",
        "\n",
        "for i in range(len(grads)):\n",
        "\n",
        "  print(\"==\" * 10)\n",
        "  print(\"LAYER \" + str(i+1) + \"->:\")\n",
        "  print(\"==\" * 10)\n",
        "  print(\"\\tToken Attributions:\")\n",
        "  display(visualize_token_attrs(words, grads[i]))\n",
        "\n",
        "print(\"True Answer:\")\n",
        "print(token_to_words(x_eval[0][idx][y_eval[0][idx]:y_eval[1][idx]+1]))\n",
        "print(\"Token position for start/end\")\n",
        "print(y_eval[0][idx], y_eval[1][idx])\n",
        "o = full_model([x_eval[0][idx:idx+1], x_eval[1][idx:idx+1], x_eval[2][idx:idx+1]])\n",
        "print(\"Model S/E predictions:\")\n",
        "print(tf.math.argmax(o[0], axis=-1), \" - \", tf.math.argmax(o[1], axis=-1))\n",
        "print(\"Model Answer:\")\n",
        "print(token_to_words(x_eval[0][idx][tf.math.argmax(o[0], axis=-1)[0]:tf.math.argmax(o[1], axis=-1)[0]+1]))"
      ],
      "execution_count": 15,
      "outputs": [
        {
          "output_type": "stream",
          "name": "stdout",
          "text": [
            "====================\n",
            "LAYER 1->:\n",
            "====================\n",
            "\tToken Attributions:\n"
          ]
        },
        {
          "output_type": "display_data",
          "data": {
            "text/html": [
              " <span style='color:rgb(222,81,81)'>[CLS]</span> <span style='color:rgb(134,125,125)'>super</span> <span style='color:rgb(135,124,124)'>bowl</span> <span style='color:rgb(139,122,122)'>50</span> <span style='color:rgb(132,126,126)'>was</span> <span style='color:rgb(133,125,125)'>an</span> <span style='color:rgb(147,118,118)'>american</span> <span style='color:rgb(140,122,122)'>football</span> <span style='color:rgb(137,123,123)'>game</span> <span style='color:rgb(130,127,127)'>to</span> <span style='color:rgb(135,124,124)'>determine</span> <span style='color:rgb(129,127,127)'>the</span> <span style='color:rgb(148,118,118)'>champion</span> <span style='color:rgb(131,126,126)'>of</span> <span style='color:rgb(131,126,126)'>the</span> <span style='color:rgb(135,124,124)'>national</span> <span style='color:rgb(131,126,126)'>football</span> <span style='color:rgb(158,113,113)'>league</span> <span style='color:rgb(138,123,123)'>(</span> <span style='color:rgb(142,121,121)'>nfl</span> <span style='color:rgb(134,125,125)'>)</span> <span style='color:rgb(133,125,125)'>for</span> <span style='color:rgb(134,125,125)'>the</span> <span style='color:rgb(132,126,126)'>2015</span> <span style='color:rgb(136,124,124)'>season</span> <span style='color:rgb(151,116,116)'>.</span> <span style='color:rgb(189,97,97)'>the</span> <span style='color:rgb(154,115,115)'>american</span> <span style='color:rgb(142,121,121)'>football</span> <span style='color:rgb(177,103,103)'>conference</span> <span style='color:rgb(172,106,106)'>(</span> <span style='color:rgb(217,83,83)'>afc</span> <span style='color:rgb(173,105,105)'>)</span> <span style='color:rgb(234,75,75)'>champion</span> <span style='color:rgb(231,76,76)'>denver</span> <span style='color:rgb(255,64,64)'>broncos</span> <span style='color:rgb(181,101,101)'>defeated</span> <span style='color:rgb(136,124,124)'>the</span> <span style='color:rgb(139,122,122)'>national</span> <span style='color:rgb(133,125,125)'>football</span> <span style='color:rgb(157,113,113)'>conference</span> <span style='color:rgb(144,120,120)'>(</span> <span style='color:rgb(153,115,115)'>nfc</span> <span style='color:rgb(176,104,104)'>)</span> <span style='color:rgb(182,101,101)'>champion</span> <span style='color:rgb(192,96,96)'>carolina</span> <span style='color:rgb(189,97,97)'>panthers</span> <span style='color:rgb(155,114,114)'>24</span> <span style='color:rgb(138,123,123)'>–</span> <span style='color:rgb(150,117,117)'>10</span> <span style='color:rgb(150,117,117)'>to</span> <span style='color:rgb(140,122,122)'>earn</span> <span style='color:rgb(132,126,126)'>their</span> <span style='color:rgb(140,122,122)'>third</span> <span style='color:rgb(135,124,124)'>super</span> <span style='color:rgb(141,121,121)'>bowl</span> <span style='color:rgb(140,122,122)'>title</span> <span style='color:rgb(139,122,122)'>.</span> <span style='color:rgb(134,125,125)'>the</span> <span style='color:rgb(134,125,125)'>game</span> <span style='color:rgb(133,125,125)'>was</span> <span style='color:rgb(130,127,127)'>played</span> <span style='color:rgb(130,127,127)'>on</span> <span style='color:rgb(129,127,127)'>february</span> <span style='color:rgb(129,127,127)'>7</span> <span style='color:rgb(129,127,127)'>,</span> <span style='color:rgb(129,127,127)'>2016</span> <span style='color:rgb(134,125,125)'>,</span> <span style='color:rgb(132,126,126)'>at</span> <span style='color:rgb(131,126,126)'>levi</span> <span style='color:rgb(134,125,125)'>'</span> <span style='color:rgb(131,126,126)'>s</span> <span style='color:rgb(133,125,125)'>stadium</span> <span style='color:rgb(131,126,126)'>in</span> <span style='color:rgb(131,126,126)'>the</span> <span style='color:rgb(129,127,127)'>san</span> <span style='color:rgb(129,127,127)'>francisco</span> <span style='color:rgb(129,127,127)'>bay</span> <span style='color:rgb(128,128,128)'>area</span> <span style='color:rgb(131,126,126)'>at</span> <span style='color:rgb(129,127,127)'>santa</span> <span style='color:rgb(129,127,127)'>clara</span> <span style='color:rgb(130,127,127)'>,</span> <span style='color:rgb(133,125,125)'>california</span> <span style='color:rgb(131,126,126)'>.</span> <span style='color:rgb(129,127,127)'>as</span> <span style='color:rgb(128,128,128)'>this</span> <span style='color:rgb(128,128,128)'>was</span> <span style='color:rgb(131,126,126)'>the</span> <span style='color:rgb(130,127,127)'>50th</span> <span style='color:rgb(129,127,127)'>super</span> <span style='color:rgb(130,127,127)'>bowl</span> <span style='color:rgb(130,127,127)'>,</span> <span style='color:rgb(130,127,127)'>the</span> <span style='color:rgb(129,127,127)'>league</span> <span style='color:rgb(130,127,127)'>emphasized</span> <span style='color:rgb(130,127,127)'>the</span> <span style='color:rgb(128,128,128)'>\"</span> <span style='color:rgb(129,127,127)'>golden</span> <span style='color:rgb(129,127,127)'>anniversary</span> <span style='color:rgb(128,128,128)'>\"</span> <span style='color:rgb(129,127,127)'>with</span> <span style='color:rgb(129,127,127)'>various</span> <span style='color:rgb(128,128,128)'>gold</span> <span style='color:rgb(128,128,128)'>-</span> <span style='color:rgb(128,128,128)'>themed</span> <span style='color:rgb(130,127,127)'>initiatives</span> <span style='color:rgb(128,128,128)'>,</span> <span style='color:rgb(128,128,128)'>as</span> <span style='color:rgb(128,128,128)'>well</span> <span style='color:rgb(128,128,128)'>as</span> <span style='color:rgb(128,128,128)'>temporarily</span> <span style='color:rgb(129,127,127)'>suspend</span> <span style='color:rgb(128,128,128)'>##ing</span> <span style='color:rgb(130,127,127)'>the</span> <span style='color:rgb(129,127,127)'>tradition</span> <span style='color:rgb(128,128,128)'>of</span> <span style='color:rgb(130,127,127)'>naming</span> <span style='color:rgb(129,127,127)'>each</span> <span style='color:rgb(129,127,127)'>super</span> <span style='color:rgb(130,127,127)'>bowl</span> <span style='color:rgb(130,127,127)'>game</span> <span style='color:rgb(128,128,128)'>with</span> <span style='color:rgb(128,128,128)'>roman</span> <span style='color:rgb(128,128,128)'>nu</span> <span style='color:rgb(129,127,127)'>##meral</span> <span style='color:rgb(129,127,127)'>##s</span> <span style='color:rgb(130,127,127)'>(</span> <span style='color:rgb(129,127,127)'>under</span> <span style='color:rgb(129,127,127)'>which</span> <span style='color:rgb(131,126,126)'>the</span> <span style='color:rgb(129,127,127)'>game</span> <span style='color:rgb(129,127,127)'>would</span> <span style='color:rgb(129,127,127)'>have</span> <span style='color:rgb(128,128,128)'>been</span> <span style='color:rgb(128,128,128)'>known</span> <span style='color:rgb(129,127,127)'>as</span> <span style='color:rgb(128,128,128)'>\"</span> <span style='color:rgb(129,127,127)'>super</span> <span style='color:rgb(131,126,126)'>bowl</span> <span style='color:rgb(137,123,123)'>l</span> <span style='color:rgb(132,126,126)'>\"</span> <span style='color:rgb(130,127,127)'>)</span> <span style='color:rgb(130,127,127)'>,</span> <span style='color:rgb(132,126,126)'>so</span> <span style='color:rgb(131,126,126)'>that</span> <span style='color:rgb(129,127,127)'>the</span> <span style='color:rgb(134,125,125)'>logo</span> <span style='color:rgb(131,126,126)'>could</span> <span style='color:rgb(131,126,126)'>prominently</span> <span style='color:rgb(131,126,126)'>feature</span> <span style='color:rgb(133,125,125)'>the</span> <span style='color:rgb(132,126,126)'>arabic</span> <span style='color:rgb(130,127,127)'>nu</span> <span style='color:rgb(130,127,127)'>##meral</span> <span style='color:rgb(134,125,125)'>##s</span> <span style='color:rgb(132,126,126)'>50</span> <span style='color:rgb(142,121,121)'>.</span> <span style='color:rgb(144,120,120)'>[SEP]</span> <span style='color:rgb(156,114,114)'>which</span> <span style='color:rgb(170,107,107)'>nfl</span> <span style='color:rgb(213,85,85)'>team</span> <span style='color:rgb(180,102,102)'>represented</span> <span style='color:rgb(200,92,92)'>the</span> <span style='color:rgb(210,87,87)'>afc</span> <span style='color:rgb(145,119,119)'>at</span> <span style='color:rgb(138,123,123)'>super</span> <span style='color:rgb(141,121,121)'>bowl</span> <span style='color:rgb(139,122,122)'>50</span> <span style='color:rgb(135,124,124)'>?</span> <span style='color:rgb(155,114,114)'>[SEP]</span> <span style='color:rgb(127,128,128)'></span> <span style='color:rgb(127,128,128)'></span> <span style='color:rgb(127,128,128)'></span> <span style='color:rgb(127,128,128)'></span> <span style='color:rgb(127,128,128)'></span> <span style='color:rgb(127,128,128)'></span> <span style='color:rgb(127,128,128)'></span> <span style='color:rgb(127,128,128)'></span> <span style='color:rgb(127,128,128)'></span> <span style='color:rgb(127,128,128)'></span> <span style='color:rgb(127,128,128)'></span> <span style='color:rgb(127,128,128)'></span> <span style='color:rgb(127,128,128)'></span> <span style='color:rgb(127,128,128)'></span> <span style='color:rgb(127,128,128)'></span> <span style='color:rgb(127,128,128)'></span> <span style='color:rgb(127,128,128)'></span> <span style='color:rgb(127,128,128)'></span> <span style='color:rgb(127,128,128)'></span> <span style='color:rgb(127,128,128)'></span> <span style='color:rgb(127,128,128)'></span> <span style='color:rgb(127,128,128)'></span> <span style='color:rgb(127,128,128)'></span> <span style='color:rgb(127,128,128)'></span> <span style='color:rgb(127,128,128)'></span> <span style='color:rgb(127,128,128)'></span> <span style='color:rgb(127,128,128)'></span> <span style='color:rgb(127,128,128)'></span> <span style='color:rgb(127,128,128)'></span> <span style='color:rgb(127,128,128)'></span> <span style='color:rgb(127,128,128)'></span> <span style='color:rgb(127,128,128)'></span> <span style='color:rgb(127,128,128)'></span> <span style='color:rgb(127,128,128)'></span> <span style='color:rgb(127,128,128)'></span> <span style='color:rgb(127,128,128)'></span> <span style='color:rgb(127,128,128)'></span> <span style='color:rgb(127,128,128)'></span> <span style='color:rgb(127,128,128)'></span> <span style='color:rgb(127,128,128)'></span> <span style='color:rgb(127,128,128)'></span> <span style='color:rgb(127,128,128)'></span> <span style='color:rgb(127,128,128)'></span> <span style='color:rgb(127,128,128)'></span> <span style='color:rgb(127,128,128)'></span> <span style='color:rgb(127,128,128)'></span> <span style='color:rgb(127,128,128)'></span> <span style='color:rgb(127,128,128)'></span> <span style='color:rgb(127,128,128)'></span> <span style='color:rgb(127,128,128)'></span> <span style='color:rgb(127,128,128)'></span> <span style='color:rgb(127,128,128)'></span> <span style='color:rgb(127,128,128)'></span> <span style='color:rgb(127,128,128)'></span> <span style='color:rgb(127,128,128)'></span> <span style='color:rgb(127,128,128)'></span> <span style='color:rgb(127,128,128)'></span> <span style='color:rgb(127,128,128)'></span> <span style='color:rgb(127,128,128)'></span> <span style='color:rgb(127,128,128)'></span> <span style='color:rgb(127,128,128)'></span> <span style='color:rgb(127,128,128)'></span> <span style='color:rgb(127,128,128)'></span> <span style='color:rgb(127,128,128)'></span> <span style='color:rgb(127,128,128)'></span> <span style='color:rgb(127,128,128)'></span> <span style='color:rgb(127,128,128)'></span> <span style='color:rgb(127,128,128)'></span> <span style='color:rgb(127,128,128)'></span> <span style='color:rgb(127,128,128)'></span> <span style='color:rgb(127,128,128)'></span> <span style='color:rgb(127,128,128)'></span> <span style='color:rgb(127,128,128)'></span> <span style='color:rgb(127,128,128)'></span> <span style='color:rgb(127,128,128)'></span> <span style='color:rgb(127,128,128)'></span> <span style='color:rgb(127,128,128)'></span> <span style='color:rgb(127,128,128)'></span> <span style='color:rgb(127,128,128)'></span> <span style='color:rgb(127,128,128)'></span> <span style='color:rgb(127,128,128)'></span> <span style='color:rgb(127,128,128)'></span> <span style='color:rgb(127,128,128)'></span> <span style='color:rgb(127,128,128)'></span> <span style='color:rgb(127,128,128)'></span> <span style='color:rgb(127,128,128)'></span> <span style='color:rgb(127,128,128)'></span> <span style='color:rgb(127,128,128)'></span> <span style='color:rgb(127,128,128)'></span> <span style='color:rgb(127,128,128)'></span> <span style='color:rgb(127,128,128)'></span> <span style='color:rgb(127,128,128)'></span> <span style='color:rgb(127,128,128)'></span> <span style='color:rgb(127,128,128)'></span> <span style='color:rgb(127,128,128)'></span> <span style='color:rgb(127,128,128)'></span> <span style='color:rgb(127,128,128)'></span> <span style='color:rgb(127,128,128)'></span> <span style='color:rgb(127,128,128)'></span> <span style='color:rgb(127,128,128)'></span> <span style='color:rgb(127,128,128)'></span> <span style='color:rgb(127,128,128)'></span> <span style='color:rgb(127,128,128)'></span> <span style='color:rgb(127,128,128)'></span> <span style='color:rgb(127,128,128)'></span> <span style='color:rgb(127,128,128)'></span> <span style='color:rgb(127,128,128)'></span> <span style='color:rgb(127,128,128)'></span> <span style='color:rgb(127,128,128)'></span> <span style='color:rgb(127,128,128)'></span> <span style='color:rgb(127,128,128)'></span> <span style='color:rgb(127,128,128)'></span> <span style='color:rgb(127,128,128)'></span> <span style='color:rgb(127,128,128)'></span> <span style='color:rgb(127,128,128)'></span> <span style='color:rgb(127,128,128)'></span> <span style='color:rgb(127,128,128)'></span> <span style='color:rgb(127,128,128)'></span> <span style='color:rgb(127,128,128)'></span> <span style='color:rgb(127,128,128)'></span> <span style='color:rgb(127,128,128)'></span> <span style='color:rgb(127,128,128)'></span> <span style='color:rgb(127,128,128)'></span> <span style='color:rgb(127,128,128)'></span> <span style='color:rgb(127,128,128)'></span> <span style='color:rgb(127,128,128)'></span> <span style='color:rgb(127,128,128)'></span> <span style='color:rgb(127,128,128)'></span> <span style='color:rgb(127,128,128)'></span> <span style='color:rgb(127,128,128)'></span> <span style='color:rgb(127,128,128)'></span> <span style='color:rgb(127,128,128)'></span> <span style='color:rgb(127,128,128)'></span> <span style='color:rgb(127,128,128)'></span> <span style='color:rgb(127,128,128)'></span> <span style='color:rgb(127,128,128)'></span> <span style='color:rgb(127,128,128)'></span> <span style='color:rgb(127,128,128)'></span> <span style='color:rgb(127,128,128)'></span> <span style='color:rgb(127,128,128)'></span> <span style='color:rgb(127,128,128)'></span> <span style='color:rgb(127,128,128)'></span> <span style='color:rgb(127,128,128)'></span> <span style='color:rgb(127,128,128)'></span> <span style='color:rgb(127,128,128)'></span> <span style='color:rgb(127,128,128)'></span> <span style='color:rgb(127,128,128)'></span> <span style='color:rgb(127,128,128)'></span> <span style='color:rgb(127,128,128)'></span> <span style='color:rgb(127,128,128)'></span> <span style='color:rgb(127,128,128)'></span> <span style='color:rgb(127,128,128)'></span> <span style='color:rgb(127,128,128)'></span> <span style='color:rgb(127,128,128)'></span> <span style='color:rgb(127,128,128)'></span> <span style='color:rgb(127,128,128)'></span> <span style='color:rgb(127,128,128)'></span> <span style='color:rgb(127,128,128)'></span> <span style='color:rgb(127,128,128)'></span> <span style='color:rgb(127,128,128)'></span> <span style='color:rgb(127,128,128)'></span> <span style='color:rgb(127,128,128)'></span> <span style='color:rgb(127,128,128)'></span> <span style='color:rgb(127,128,128)'></span> <span style='color:rgb(127,128,128)'></span> <span style='color:rgb(127,128,128)'></span> <span style='color:rgb(127,128,128)'></span> <span style='color:rgb(127,128,128)'></span> <span style='color:rgb(127,128,128)'></span> <span style='color:rgb(127,128,128)'></span> <span style='color:rgb(127,128,128)'></span> <span style='color:rgb(127,128,128)'></span> <span style='color:rgb(127,128,128)'></span> <span style='color:rgb(127,128,128)'></span> <span style='color:rgb(127,128,128)'></span> <span style='color:rgb(127,128,128)'></span> <span style='color:rgb(127,128,128)'></span> <span style='color:rgb(127,128,128)'></span> <span style='color:rgb(127,128,128)'></span> <span style='color:rgb(127,128,128)'></span> <span style='color:rgb(127,128,128)'></span> <span style='color:rgb(127,128,128)'></span> <span style='color:rgb(127,128,128)'></span> <span style='color:rgb(127,128,128)'></span> <span style='color:rgb(127,128,128)'></span> <span style='color:rgb(127,128,128)'></span> <span style='color:rgb(127,128,128)'></span> <span style='color:rgb(127,128,128)'></span> <span style='color:rgb(127,128,128)'></span> <span style='color:rgb(127,128,128)'></span> <span style='color:rgb(127,128,128)'></span> <span style='color:rgb(127,128,128)'></span> <span style='color:rgb(127,128,128)'></span> <span style='color:rgb(127,128,128)'></span> <span style='color:rgb(127,128,128)'></span> <span style='color:rgb(127,128,128)'></span> <span style='color:rgb(127,128,128)'></span> <span style='color:rgb(127,128,128)'></span> <span style='color:rgb(127,128,128)'></span> <span style='color:rgb(127,128,128)'></span> <span style='color:rgb(127,128,128)'></span> <span style='color:rgb(127,128,128)'></span> <span style='color:rgb(127,128,128)'></span> <span style='color:rgb(127,128,128)'></span> <span style='color:rgb(127,128,128)'></span> <span style='color:rgb(127,128,128)'></span> <span style='color:rgb(127,128,128)'></span> <span style='color:rgb(127,128,128)'></span> <span style='color:rgb(127,128,128)'></span> <span style='color:rgb(127,128,128)'></span> <span style='color:rgb(127,128,128)'></span> <span style='color:rgb(127,128,128)'></span> <span style='color:rgb(127,128,128)'></span>"
            ],
            "text/plain": [
              "<IPython.core.display.HTML object>"
            ]
          },
          "metadata": {}
        },
        {
          "output_type": "stream",
          "name": "stdout",
          "text": [
            "====================\n",
            "LAYER 2->:\n",
            "====================\n",
            "\tToken Attributions:\n"
          ]
        },
        {
          "output_type": "display_data",
          "data": {
            "text/html": [
              " <span style='color:rgb(140,122,122)'>[CLS]</span> <span style='color:rgb(134,125,125)'>super</span> <span style='color:rgb(132,126,126)'>bowl</span> <span style='color:rgb(141,121,121)'>50</span> <span style='color:rgb(132,126,126)'>was</span> <span style='color:rgb(130,127,127)'>an</span> <span style='color:rgb(139,122,122)'>american</span> <span style='color:rgb(133,125,125)'>football</span> <span style='color:rgb(139,122,122)'>game</span> <span style='color:rgb(130,127,127)'>to</span> <span style='color:rgb(136,124,124)'>determine</span> <span style='color:rgb(129,127,127)'>the</span> <span style='color:rgb(136,124,124)'>champion</span> <span style='color:rgb(129,127,127)'>of</span> <span style='color:rgb(128,128,128)'>the</span> <span style='color:rgb(131,126,126)'>national</span> <span style='color:rgb(131,126,126)'>football</span> <span style='color:rgb(136,124,124)'>league</span> <span style='color:rgb(132,126,126)'>(</span> <span style='color:rgb(145,119,119)'>nfl</span> <span style='color:rgb(130,127,127)'>)</span> <span style='color:rgb(130,127,127)'>for</span> <span style='color:rgb(129,127,127)'>the</span> <span style='color:rgb(129,127,127)'>2015</span> <span style='color:rgb(131,126,126)'>season</span> <span style='color:rgb(145,119,119)'>.</span> <span style='color:rgb(143,120,120)'>the</span> <span style='color:rgb(149,117,117)'>american</span> <span style='color:rgb(142,121,121)'>football</span> <span style='color:rgb(176,104,104)'>conference</span> <span style='color:rgb(154,115,115)'>(</span> <span style='color:rgb(194,95,95)'>afc</span> <span style='color:rgb(150,117,117)'>)</span> <span style='color:rgb(245,69,69)'>champion</span> <span style='color:rgb(224,80,80)'>denver</span> <span style='color:rgb(255,64,64)'>broncos</span> <span style='color:rgb(170,107,107)'>defeated</span> <span style='color:rgb(139,122,122)'>the</span> <span style='color:rgb(133,125,125)'>national</span> <span style='color:rgb(131,126,126)'>football</span> <span style='color:rgb(141,121,121)'>conference</span> <span style='color:rgb(134,125,125)'>(</span> <span style='color:rgb(142,121,121)'>nfc</span> <span style='color:rgb(147,118,118)'>)</span> <span style='color:rgb(165,109,109)'>champion</span> <span style='color:rgb(167,108,108)'>carolina</span> <span style='color:rgb(168,108,108)'>panthers</span> <span style='color:rgb(145,119,119)'>24</span> <span style='color:rgb(158,113,113)'>–</span> <span style='color:rgb(139,122,122)'>10</span> <span style='color:rgb(134,125,125)'>to</span> <span style='color:rgb(135,124,124)'>earn</span> <span style='color:rgb(129,127,127)'>their</span> <span style='color:rgb(134,125,125)'>third</span> <span style='color:rgb(129,127,127)'>super</span> <span style='color:rgb(131,126,126)'>bowl</span> <span style='color:rgb(133,125,125)'>title</span> <span style='color:rgb(141,121,121)'>.</span> <span style='color:rgb(131,126,126)'>the</span> <span style='color:rgb(130,127,127)'>game</span> <span style='color:rgb(131,126,126)'>was</span> <span style='color:rgb(129,127,127)'>played</span> <span style='color:rgb(129,127,127)'>on</span> <span style='color:rgb(128,128,128)'>february</span> <span style='color:rgb(128,128,128)'>7</span> <span style='color:rgb(130,127,127)'>,</span> <span style='color:rgb(128,128,128)'>2016</span> <span style='color:rgb(130,127,127)'>,</span> <span style='color:rgb(130,127,127)'>at</span> <span style='color:rgb(129,127,127)'>levi</span> <span style='color:rgb(127,128,128)'>'</span> <span style='color:rgb(128,128,128)'>s</span> <span style='color:rgb(129,127,127)'>stadium</span> <span style='color:rgb(128,128,128)'>in</span> <span style='color:rgb(128,128,128)'>the</span> <span style='color:rgb(128,128,128)'>san</span> <span style='color:rgb(128,128,128)'>francisco</span> <span style='color:rgb(128,128,128)'>bay</span> <span style='color:rgb(128,128,128)'>area</span> <span style='color:rgb(129,127,127)'>at</span> <span style='color:rgb(128,128,128)'>santa</span> <span style='color:rgb(128,128,128)'>clara</span> <span style='color:rgb(130,127,127)'>,</span> <span style='color:rgb(128,128,128)'>california</span> <span style='color:rgb(130,127,127)'>.</span> <span style='color:rgb(128,128,128)'>as</span> <span style='color:rgb(128,128,128)'>this</span> <span style='color:rgb(128,128,128)'>was</span> <span style='color:rgb(129,127,127)'>the</span> <span style='color:rgb(129,127,127)'>50th</span> <span style='color:rgb(129,127,127)'>super</span> <span style='color:rgb(129,127,127)'>bowl</span> <span style='color:rgb(128,128,128)'>,</span> <span style='color:rgb(128,128,128)'>the</span> <span style='color:rgb(128,128,128)'>league</span> <span style='color:rgb(128,128,128)'>emphasized</span> <span style='color:rgb(127,128,128)'>the</span> <span style='color:rgb(127,128,128)'>\"</span> <span style='color:rgb(127,128,128)'>golden</span> <span style='color:rgb(128,128,128)'>anniversary</span> <span style='color:rgb(127,128,128)'>\"</span> <span style='color:rgb(128,128,128)'>with</span> <span style='color:rgb(129,127,127)'>various</span> <span style='color:rgb(128,128,128)'>gold</span> <span style='color:rgb(127,128,128)'>-</span> <span style='color:rgb(128,128,128)'>themed</span> <span style='color:rgb(128,128,128)'>initiatives</span> <span style='color:rgb(129,127,127)'>,</span> <span style='color:rgb(127,128,128)'>as</span> <span style='color:rgb(128,128,128)'>well</span> <span style='color:rgb(127,128,128)'>as</span> <span style='color:rgb(128,128,128)'>temporarily</span> <span style='color:rgb(128,128,128)'>suspend</span> <span style='color:rgb(128,128,128)'>##ing</span> <span style='color:rgb(128,128,128)'>the</span> <span style='color:rgb(128,128,128)'>tradition</span> <span style='color:rgb(128,128,128)'>of</span> <span style='color:rgb(129,127,127)'>naming</span> <span style='color:rgb(128,128,128)'>each</span> <span style='color:rgb(128,128,128)'>super</span> <span style='color:rgb(128,128,128)'>bowl</span> <span style='color:rgb(128,128,128)'>game</span> <span style='color:rgb(128,128,128)'>with</span> <span style='color:rgb(128,128,128)'>roman</span> <span style='color:rgb(128,128,128)'>nu</span> <span style='color:rgb(128,128,128)'>##meral</span> <span style='color:rgb(128,128,128)'>##s</span> <span style='color:rgb(128,128,128)'>(</span> <span style='color:rgb(128,128,128)'>under</span> <span style='color:rgb(128,128,128)'>which</span> <span style='color:rgb(127,128,128)'>the</span> <span style='color:rgb(128,128,128)'>game</span> <span style='color:rgb(128,128,128)'>would</span> <span style='color:rgb(128,128,128)'>have</span> <span style='color:rgb(128,128,128)'>been</span> <span style='color:rgb(128,128,128)'>known</span> <span style='color:rgb(128,128,128)'>as</span> <span style='color:rgb(128,128,128)'>\"</span> <span style='color:rgb(128,128,128)'>super</span> <span style='color:rgb(129,127,127)'>bowl</span> <span style='color:rgb(132,126,126)'>l</span> <span style='color:rgb(128,128,128)'>\"</span> <span style='color:rgb(128,128,128)'>)</span> <span style='color:rgb(128,128,128)'>,</span> <span style='color:rgb(129,127,127)'>so</span> <span style='color:rgb(129,127,127)'>that</span> <span style='color:rgb(128,128,128)'>the</span> <span style='color:rgb(133,125,125)'>logo</span> <span style='color:rgb(128,128,128)'>could</span> <span style='color:rgb(129,127,127)'>prominently</span> <span style='color:rgb(129,127,127)'>feature</span> <span style='color:rgb(133,125,125)'>the</span> <span style='color:rgb(128,128,128)'>arabic</span> <span style='color:rgb(128,128,128)'>nu</span> <span style='color:rgb(129,127,127)'>##meral</span> <span style='color:rgb(135,124,124)'>##s</span> <span style='color:rgb(129,127,127)'>50</span> <span style='color:rgb(131,126,126)'>.</span> <span style='color:rgb(163,110,110)'>[SEP]</span> <span style='color:rgb(148,118,118)'>which</span> <span style='color:rgb(158,113,113)'>nfl</span> <span style='color:rgb(179,102,102)'>team</span> <span style='color:rgb(164,110,110)'>represented</span> <span style='color:rgb(135,124,124)'>the</span> <span style='color:rgb(158,113,113)'>afc</span> <span style='color:rgb(136,124,124)'>at</span> <span style='color:rgb(129,127,127)'>super</span> <span style='color:rgb(133,125,125)'>bowl</span> <span style='color:rgb(137,123,123)'>50</span> <span style='color:rgb(133,125,125)'>?</span> <span style='color:rgb(144,120,120)'>[SEP]</span> <span style='color:rgb(127,128,128)'></span> <span style='color:rgb(127,128,128)'></span> <span style='color:rgb(127,128,128)'></span> <span style='color:rgb(127,128,128)'></span> <span style='color:rgb(127,128,128)'></span> <span style='color:rgb(127,128,128)'></span> <span style='color:rgb(127,128,128)'></span> <span style='color:rgb(127,128,128)'></span> <span style='color:rgb(127,128,128)'></span> <span style='color:rgb(127,128,128)'></span> <span style='color:rgb(127,128,128)'></span> <span style='color:rgb(127,128,128)'></span> <span style='color:rgb(127,128,128)'></span> <span style='color:rgb(127,128,128)'></span> <span style='color:rgb(127,128,128)'></span> <span style='color:rgb(127,128,128)'></span> <span style='color:rgb(127,128,128)'></span> <span style='color:rgb(127,128,128)'></span> <span style='color:rgb(127,128,128)'></span> <span style='color:rgb(127,128,128)'></span> <span style='color:rgb(127,128,128)'></span> <span style='color:rgb(127,128,128)'></span> <span style='color:rgb(127,128,128)'></span> <span style='color:rgb(127,128,128)'></span> <span style='color:rgb(127,128,128)'></span> <span style='color:rgb(127,128,128)'></span> <span style='color:rgb(127,128,128)'></span> <span style='color:rgb(127,128,128)'></span> <span style='color:rgb(127,128,128)'></span> <span style='color:rgb(127,128,128)'></span> <span style='color:rgb(127,128,128)'></span> <span style='color:rgb(127,128,128)'></span> <span style='color:rgb(127,128,128)'></span> <span style='color:rgb(127,128,128)'></span> <span style='color:rgb(127,128,128)'></span> <span style='color:rgb(127,128,128)'></span> <span style='color:rgb(127,128,128)'></span> <span style='color:rgb(127,128,128)'></span> <span style='color:rgb(127,128,128)'></span> <span style='color:rgb(127,128,128)'></span> <span style='color:rgb(127,128,128)'></span> <span style='color:rgb(127,128,128)'></span> <span style='color:rgb(127,128,128)'></span> <span style='color:rgb(127,128,128)'></span> <span style='color:rgb(127,128,128)'></span> <span style='color:rgb(127,128,128)'></span> <span style='color:rgb(127,128,128)'></span> <span style='color:rgb(127,128,128)'></span> <span style='color:rgb(127,128,128)'></span> <span style='color:rgb(127,128,128)'></span> <span style='color:rgb(127,128,128)'></span> <span style='color:rgb(127,128,128)'></span> <span style='color:rgb(127,128,128)'></span> <span style='color:rgb(127,128,128)'></span> <span style='color:rgb(127,128,128)'></span> <span style='color:rgb(127,128,128)'></span> <span style='color:rgb(127,128,128)'></span> <span style='color:rgb(127,128,128)'></span> <span style='color:rgb(127,128,128)'></span> <span style='color:rgb(127,128,128)'></span> <span style='color:rgb(127,128,128)'></span> <span style='color:rgb(127,128,128)'></span> <span style='color:rgb(127,128,128)'></span> <span style='color:rgb(127,128,128)'></span> <span style='color:rgb(127,128,128)'></span> <span style='color:rgb(127,128,128)'></span> <span style='color:rgb(127,128,128)'></span> <span style='color:rgb(127,128,128)'></span> <span style='color:rgb(127,128,128)'></span> <span style='color:rgb(127,128,128)'></span> <span style='color:rgb(127,128,128)'></span> <span style='color:rgb(127,128,128)'></span> <span style='color:rgb(127,128,128)'></span> <span style='color:rgb(127,128,128)'></span> <span style='color:rgb(127,128,128)'></span> <span style='color:rgb(127,128,128)'></span> <span style='color:rgb(127,128,128)'></span> <span style='color:rgb(127,128,128)'></span> <span style='color:rgb(127,128,128)'></span> <span style='color:rgb(127,128,128)'></span> <span style='color:rgb(127,128,128)'></span> <span style='color:rgb(127,128,128)'></span> <span style='color:rgb(127,128,128)'></span> <span style='color:rgb(127,128,128)'></span> <span style='color:rgb(127,128,128)'></span> <span style='color:rgb(127,128,128)'></span> <span style='color:rgb(127,128,128)'></span> <span style='color:rgb(127,128,128)'></span> <span style='color:rgb(127,128,128)'></span> <span style='color:rgb(127,128,128)'></span> <span style='color:rgb(127,128,128)'></span> <span style='color:rgb(127,128,128)'></span> <span style='color:rgb(127,128,128)'></span> <span style='color:rgb(127,128,128)'></span> <span style='color:rgb(127,128,128)'></span> <span style='color:rgb(127,128,128)'></span> <span style='color:rgb(127,128,128)'></span> <span style='color:rgb(127,128,128)'></span> <span style='color:rgb(127,128,128)'></span> <span style='color:rgb(127,128,128)'></span> <span style='color:rgb(127,128,128)'></span> <span style='color:rgb(127,128,128)'></span> <span style='color:rgb(127,128,128)'></span> <span style='color:rgb(127,128,128)'></span> <span style='color:rgb(127,128,128)'></span> <span style='color:rgb(127,128,128)'></span> <span style='color:rgb(127,128,128)'></span> <span style='color:rgb(127,128,128)'></span> <span style='color:rgb(127,128,128)'></span> <span style='color:rgb(127,128,128)'></span> <span style='color:rgb(127,128,128)'></span> <span style='color:rgb(127,128,128)'></span> <span style='color:rgb(127,128,128)'></span> <span style='color:rgb(127,128,128)'></span> <span style='color:rgb(127,128,128)'></span> <span style='color:rgb(127,128,128)'></span> <span style='color:rgb(127,128,128)'></span> <span style='color:rgb(127,128,128)'></span> <span style='color:rgb(127,128,128)'></span> <span style='color:rgb(127,128,128)'></span> <span style='color:rgb(127,128,128)'></span> <span style='color:rgb(127,128,128)'></span> <span style='color:rgb(127,128,128)'></span> <span style='color:rgb(127,128,128)'></span> <span style='color:rgb(127,128,128)'></span> <span style='color:rgb(127,128,128)'></span> <span style='color:rgb(127,128,128)'></span> <span style='color:rgb(127,128,128)'></span> <span style='color:rgb(127,128,128)'></span> <span style='color:rgb(127,128,128)'></span> <span style='color:rgb(127,128,128)'></span> <span style='color:rgb(127,128,128)'></span> <span style='color:rgb(127,128,128)'></span> <span style='color:rgb(127,128,128)'></span> <span style='color:rgb(127,128,128)'></span> <span style='color:rgb(127,128,128)'></span> <span style='color:rgb(127,128,128)'></span> <span style='color:rgb(127,128,128)'></span> <span style='color:rgb(127,128,128)'></span> <span style='color:rgb(127,128,128)'></span> <span style='color:rgb(127,128,128)'></span> <span style='color:rgb(127,128,128)'></span> <span style='color:rgb(127,128,128)'></span> <span style='color:rgb(127,128,128)'></span> <span style='color:rgb(127,128,128)'></span> <span style='color:rgb(127,128,128)'></span> <span style='color:rgb(127,128,128)'></span> <span style='color:rgb(127,128,128)'></span> <span style='color:rgb(127,128,128)'></span> <span style='color:rgb(127,128,128)'></span> <span style='color:rgb(127,128,128)'></span> <span style='color:rgb(127,128,128)'></span> <span style='color:rgb(127,128,128)'></span> <span style='color:rgb(127,128,128)'></span> <span style='color:rgb(127,128,128)'></span> <span style='color:rgb(127,128,128)'></span> <span style='color:rgb(127,128,128)'></span> <span style='color:rgb(127,128,128)'></span> <span style='color:rgb(127,128,128)'></span> <span style='color:rgb(127,128,128)'></span> <span style='color:rgb(127,128,128)'></span> <span style='color:rgb(127,128,128)'></span> <span style='color:rgb(127,128,128)'></span> <span style='color:rgb(127,128,128)'></span> <span style='color:rgb(127,128,128)'></span> <span style='color:rgb(127,128,128)'></span> <span style='color:rgb(127,128,128)'></span> <span style='color:rgb(127,128,128)'></span> <span style='color:rgb(127,128,128)'></span> <span style='color:rgb(127,128,128)'></span> <span style='color:rgb(127,128,128)'></span> <span style='color:rgb(127,128,128)'></span> <span style='color:rgb(127,128,128)'></span> <span style='color:rgb(127,128,128)'></span> <span style='color:rgb(127,128,128)'></span> <span style='color:rgb(127,128,128)'></span> <span style='color:rgb(127,128,128)'></span> <span style='color:rgb(127,128,128)'></span> <span style='color:rgb(127,128,128)'></span> <span style='color:rgb(127,128,128)'></span> <span style='color:rgb(127,128,128)'></span> <span style='color:rgb(127,128,128)'></span> <span style='color:rgb(127,128,128)'></span> <span style='color:rgb(127,128,128)'></span> <span style='color:rgb(127,128,128)'></span> <span style='color:rgb(127,128,128)'></span> <span style='color:rgb(127,128,128)'></span> <span style='color:rgb(127,128,128)'></span> <span style='color:rgb(127,128,128)'></span> <span style='color:rgb(127,128,128)'></span> <span style='color:rgb(127,128,128)'></span> <span style='color:rgb(127,128,128)'></span> <span style='color:rgb(127,128,128)'></span> <span style='color:rgb(127,128,128)'></span> <span style='color:rgb(127,128,128)'></span> <span style='color:rgb(127,128,128)'></span> <span style='color:rgb(127,128,128)'></span> <span style='color:rgb(127,128,128)'></span> <span style='color:rgb(127,128,128)'></span> <span style='color:rgb(127,128,128)'></span> <span style='color:rgb(127,128,128)'></span> <span style='color:rgb(127,128,128)'></span> <span style='color:rgb(127,128,128)'></span> <span style='color:rgb(127,128,128)'></span> <span style='color:rgb(127,128,128)'></span> <span style='color:rgb(127,128,128)'></span> <span style='color:rgb(127,128,128)'></span> <span style='color:rgb(127,128,128)'></span> <span style='color:rgb(127,128,128)'></span> <span style='color:rgb(127,128,128)'></span> <span style='color:rgb(127,128,128)'></span> <span style='color:rgb(127,128,128)'></span> <span style='color:rgb(127,128,128)'></span>"
            ],
            "text/plain": [
              "<IPython.core.display.HTML object>"
            ]
          },
          "metadata": {}
        },
        {
          "output_type": "stream",
          "name": "stdout",
          "text": [
            "====================\n",
            "LAYER 3->:\n",
            "====================\n",
            "\tToken Attributions:\n"
          ]
        },
        {
          "output_type": "display_data",
          "data": {
            "text/html": [
              " <span style='color:rgb(142,121,121)'>[CLS]</span> <span style='color:rgb(135,124,124)'>super</span> <span style='color:rgb(134,125,125)'>bowl</span> <span style='color:rgb(136,124,124)'>50</span> <span style='color:rgb(130,127,127)'>was</span> <span style='color:rgb(128,128,128)'>an</span> <span style='color:rgb(130,127,127)'>american</span> <span style='color:rgb(129,127,127)'>football</span> <span style='color:rgb(130,127,127)'>game</span> <span style='color:rgb(128,128,128)'>to</span> <span style='color:rgb(131,126,126)'>determine</span> <span style='color:rgb(129,127,127)'>the</span> <span style='color:rgb(131,126,126)'>champion</span> <span style='color:rgb(128,128,128)'>of</span> <span style='color:rgb(128,128,128)'>the</span> <span style='color:rgb(129,127,127)'>national</span> <span style='color:rgb(129,127,127)'>football</span> <span style='color:rgb(131,126,126)'>league</span> <span style='color:rgb(129,127,127)'>(</span> <span style='color:rgb(137,123,123)'>nfl</span> <span style='color:rgb(129,127,127)'>)</span> <span style='color:rgb(129,127,127)'>for</span> <span style='color:rgb(128,128,128)'>the</span> <span style='color:rgb(128,128,128)'>2015</span> <span style='color:rgb(130,127,127)'>season</span> <span style='color:rgb(156,114,114)'>.</span> <span style='color:rgb(145,119,119)'>the</span> <span style='color:rgb(153,115,115)'>american</span> <span style='color:rgb(136,124,124)'>football</span> <span style='color:rgb(151,116,116)'>conference</span> <span style='color:rgb(138,123,123)'>(</span> <span style='color:rgb(174,105,105)'>afc</span> <span style='color:rgb(140,122,122)'>)</span> <span style='color:rgb(223,80,80)'>champion</span> <span style='color:rgb(255,64,64)'>denver</span> <span style='color:rgb(227,78,78)'>broncos</span> <span style='color:rgb(159,112,112)'>defeated</span> <span style='color:rgb(132,126,126)'>the</span> <span style='color:rgb(135,124,124)'>national</span> <span style='color:rgb(131,126,126)'>football</span> <span style='color:rgb(140,122,122)'>conference</span> <span style='color:rgb(135,124,124)'>(</span> <span style='color:rgb(163,110,110)'>nfc</span> <span style='color:rgb(139,122,122)'>)</span> <span style='color:rgb(180,102,102)'>champion</span> <span style='color:rgb(213,85,85)'>carolina</span> <span style='color:rgb(185,99,99)'>panthers</span> <span style='color:rgb(146,119,119)'>24</span> <span style='color:rgb(139,122,122)'>–</span> <span style='color:rgb(146,119,119)'>10</span> <span style='color:rgb(147,118,118)'>to</span> <span style='color:rgb(138,123,123)'>earn</span> <span style='color:rgb(130,127,127)'>their</span> <span style='color:rgb(132,126,126)'>third</span> <span style='color:rgb(130,127,127)'>super</span> <span style='color:rgb(130,127,127)'>bowl</span> <span style='color:rgb(135,124,124)'>title</span> <span style='color:rgb(129,127,127)'>.</span> <span style='color:rgb(129,127,127)'>the</span> <span style='color:rgb(129,127,127)'>game</span> <span style='color:rgb(128,128,128)'>was</span> <span style='color:rgb(129,127,127)'>played</span> <span style='color:rgb(128,128,128)'>on</span> <span style='color:rgb(128,128,128)'>february</span> <span style='color:rgb(128,128,128)'>7</span> <span style='color:rgb(128,128,128)'>,</span> <span style='color:rgb(128,128,128)'>2016</span> <span style='color:rgb(128,128,128)'>,</span> <span style='color:rgb(129,127,127)'>at</span> <span style='color:rgb(129,127,127)'>levi</span> <span style='color:rgb(127,128,128)'>'</span> <span style='color:rgb(128,128,128)'>s</span> <span style='color:rgb(130,127,127)'>stadium</span> <span style='color:rgb(129,127,127)'>in</span> <span style='color:rgb(127,128,128)'>the</span> <span style='color:rgb(128,128,128)'>san</span> <span style='color:rgb(128,128,128)'>francisco</span> <span style='color:rgb(128,128,128)'>bay</span> <span style='color:rgb(131,126,126)'>area</span> <span style='color:rgb(130,127,127)'>at</span> <span style='color:rgb(129,127,127)'>santa</span> <span style='color:rgb(130,127,127)'>clara</span> <span style='color:rgb(129,127,127)'>,</span> <span style='color:rgb(131,126,126)'>california</span> <span style='color:rgb(128,128,128)'>.</span> <span style='color:rgb(127,128,128)'>as</span> <span style='color:rgb(129,127,127)'>this</span> <span style='color:rgb(127,128,128)'>was</span> <span style='color:rgb(127,128,128)'>the</span> <span style='color:rgb(129,127,127)'>50th</span> <span style='color:rgb(128,128,128)'>super</span> <span style='color:rgb(129,127,127)'>bowl</span> <span style='color:rgb(128,128,128)'>,</span> <span style='color:rgb(127,128,128)'>the</span> <span style='color:rgb(128,128,128)'>league</span> <span style='color:rgb(128,128,128)'>emphasized</span> <span style='color:rgb(127,128,128)'>the</span> <span style='color:rgb(127,128,128)'>\"</span> <span style='color:rgb(128,128,128)'>golden</span> <span style='color:rgb(128,128,128)'>anniversary</span> <span style='color:rgb(127,128,128)'>\"</span> <span style='color:rgb(127,128,128)'>with</span> <span style='color:rgb(127,128,128)'>various</span> <span style='color:rgb(128,128,128)'>gold</span> <span style='color:rgb(127,128,128)'>-</span> <span style='color:rgb(127,128,128)'>themed</span> <span style='color:rgb(128,128,128)'>initiatives</span> <span style='color:rgb(129,127,127)'>,</span> <span style='color:rgb(127,128,128)'>as</span> <span style='color:rgb(127,128,128)'>well</span> <span style='color:rgb(127,128,128)'>as</span> <span style='color:rgb(128,128,128)'>temporarily</span> <span style='color:rgb(127,128,128)'>suspend</span> <span style='color:rgb(127,128,128)'>##ing</span> <span style='color:rgb(127,128,128)'>the</span> <span style='color:rgb(127,128,128)'>tradition</span> <span style='color:rgb(127,128,128)'>of</span> <span style='color:rgb(128,128,128)'>naming</span> <span style='color:rgb(127,128,128)'>each</span> <span style='color:rgb(127,128,128)'>super</span> <span style='color:rgb(127,128,128)'>bowl</span> <span style='color:rgb(127,128,128)'>game</span> <span style='color:rgb(127,128,128)'>with</span> <span style='color:rgb(127,128,128)'>roman</span> <span style='color:rgb(127,128,128)'>nu</span> <span style='color:rgb(127,128,128)'>##meral</span> <span style='color:rgb(127,128,128)'>##s</span> <span style='color:rgb(127,128,128)'>(</span> <span style='color:rgb(127,128,128)'>under</span> <span style='color:rgb(128,128,128)'>which</span> <span style='color:rgb(127,128,128)'>the</span> <span style='color:rgb(127,128,128)'>game</span> <span style='color:rgb(127,128,128)'>would</span> <span style='color:rgb(127,128,128)'>have</span> <span style='color:rgb(127,128,128)'>been</span> <span style='color:rgb(127,128,128)'>known</span> <span style='color:rgb(127,128,128)'>as</span> <span style='color:rgb(128,128,128)'>\"</span> <span style='color:rgb(128,128,128)'>super</span> <span style='color:rgb(128,128,128)'>bowl</span> <span style='color:rgb(128,128,128)'>l</span> <span style='color:rgb(127,128,128)'>\"</span> <span style='color:rgb(127,128,128)'>)</span> <span style='color:rgb(128,128,128)'>,</span> <span style='color:rgb(127,128,128)'>so</span> <span style='color:rgb(127,128,128)'>that</span> <span style='color:rgb(127,128,128)'>the</span> <span style='color:rgb(128,128,128)'>logo</span> <span style='color:rgb(127,128,128)'>could</span> <span style='color:rgb(128,128,128)'>prominently</span> <span style='color:rgb(128,128,128)'>feature</span> <span style='color:rgb(127,128,128)'>the</span> <span style='color:rgb(128,128,128)'>arabic</span> <span style='color:rgb(127,128,128)'>nu</span> <span style='color:rgb(128,128,128)'>##meral</span> <span style='color:rgb(128,128,128)'>##s</span> <span style='color:rgb(130,127,127)'>50</span> <span style='color:rgb(130,127,127)'>.</span> <span style='color:rgb(133,125,125)'>[SEP]</span> <span style='color:rgb(169,107,107)'>which</span> <span style='color:rgb(151,116,116)'>nfl</span> <span style='color:rgb(180,102,102)'>team</span> <span style='color:rgb(151,116,116)'>represented</span> <span style='color:rgb(132,126,126)'>the</span> <span style='color:rgb(143,120,120)'>afc</span> <span style='color:rgb(133,125,125)'>at</span> <span style='color:rgb(129,127,127)'>super</span> <span style='color:rgb(136,124,124)'>bowl</span> <span style='color:rgb(132,126,126)'>50</span> <span style='color:rgb(139,122,122)'>?</span> <span style='color:rgb(133,125,125)'>[SEP]</span> <span style='color:rgb(127,128,128)'></span> <span style='color:rgb(127,128,128)'></span> <span style='color:rgb(127,128,128)'></span> <span style='color:rgb(127,128,128)'></span> <span style='color:rgb(127,128,128)'></span> <span style='color:rgb(127,128,128)'></span> <span style='color:rgb(127,128,128)'></span> <span style='color:rgb(127,128,128)'></span> <span style='color:rgb(127,128,128)'></span> <span style='color:rgb(127,128,128)'></span> <span style='color:rgb(127,128,128)'></span> <span style='color:rgb(127,128,128)'></span> <span style='color:rgb(127,128,128)'></span> <span style='color:rgb(127,128,128)'></span> <span style='color:rgb(127,128,128)'></span> <span style='color:rgb(127,128,128)'></span> <span style='color:rgb(127,128,128)'></span> <span style='color:rgb(127,128,128)'></span> <span style='color:rgb(127,128,128)'></span> <span style='color:rgb(127,128,128)'></span> <span style='color:rgb(127,128,128)'></span> <span style='color:rgb(127,128,128)'></span> <span style='color:rgb(127,128,128)'></span> <span style='color:rgb(127,128,128)'></span> <span style='color:rgb(127,128,128)'></span> <span style='color:rgb(127,128,128)'></span> <span style='color:rgb(127,128,128)'></span> <span style='color:rgb(127,128,128)'></span> <span style='color:rgb(127,128,128)'></span> <span style='color:rgb(127,128,128)'></span> <span style='color:rgb(127,128,128)'></span> <span style='color:rgb(127,128,128)'></span> <span style='color:rgb(127,128,128)'></span> <span style='color:rgb(127,128,128)'></span> <span style='color:rgb(127,128,128)'></span> <span style='color:rgb(127,128,128)'></span> <span style='color:rgb(127,128,128)'></span> <span style='color:rgb(127,128,128)'></span> <span style='color:rgb(127,128,128)'></span> <span style='color:rgb(127,128,128)'></span> <span style='color:rgb(127,128,128)'></span> <span style='color:rgb(127,128,128)'></span> <span style='color:rgb(127,128,128)'></span> <span style='color:rgb(127,128,128)'></span> <span style='color:rgb(127,128,128)'></span> <span style='color:rgb(127,128,128)'></span> <span style='color:rgb(127,128,128)'></span> <span style='color:rgb(127,128,128)'></span> <span style='color:rgb(127,128,128)'></span> <span style='color:rgb(127,128,128)'></span> <span style='color:rgb(127,128,128)'></span> <span style='color:rgb(127,128,128)'></span> <span style='color:rgb(127,128,128)'></span> <span style='color:rgb(127,128,128)'></span> <span style='color:rgb(127,128,128)'></span> <span style='color:rgb(127,128,128)'></span> <span style='color:rgb(127,128,128)'></span> <span style='color:rgb(127,128,128)'></span> <span style='color:rgb(127,128,128)'></span> <span style='color:rgb(127,128,128)'></span> <span style='color:rgb(127,128,128)'></span> <span style='color:rgb(127,128,128)'></span> <span style='color:rgb(127,128,128)'></span> <span style='color:rgb(127,128,128)'></span> <span style='color:rgb(127,128,128)'></span> <span style='color:rgb(127,128,128)'></span> <span style='color:rgb(127,128,128)'></span> <span style='color:rgb(127,128,128)'></span> <span style='color:rgb(127,128,128)'></span> <span style='color:rgb(127,128,128)'></span> <span style='color:rgb(127,128,128)'></span> <span style='color:rgb(127,128,128)'></span> <span style='color:rgb(127,128,128)'></span> <span style='color:rgb(127,128,128)'></span> <span style='color:rgb(127,128,128)'></span> <span style='color:rgb(127,128,128)'></span> <span style='color:rgb(127,128,128)'></span> <span style='color:rgb(127,128,128)'></span> <span style='color:rgb(127,128,128)'></span> <span style='color:rgb(127,128,128)'></span> <span style='color:rgb(127,128,128)'></span> <span style='color:rgb(127,128,128)'></span> <span style='color:rgb(127,128,128)'></span> <span style='color:rgb(127,128,128)'></span> <span style='color:rgb(127,128,128)'></span> <span style='color:rgb(127,128,128)'></span> <span style='color:rgb(127,128,128)'></span> <span style='color:rgb(127,128,128)'></span> <span style='color:rgb(127,128,128)'></span> <span style='color:rgb(127,128,128)'></span> <span style='color:rgb(127,128,128)'></span> <span style='color:rgb(127,128,128)'></span> <span style='color:rgb(127,128,128)'></span> <span style='color:rgb(127,128,128)'></span> <span style='color:rgb(127,128,128)'></span> <span style='color:rgb(127,128,128)'></span> <span style='color:rgb(127,128,128)'></span> <span style='color:rgb(127,128,128)'></span> <span style='color:rgb(127,128,128)'></span> <span style='color:rgb(127,128,128)'></span> <span style='color:rgb(127,128,128)'></span> <span style='color:rgb(127,128,128)'></span> <span style='color:rgb(127,128,128)'></span> <span style='color:rgb(127,128,128)'></span> <span style='color:rgb(127,128,128)'></span> <span style='color:rgb(127,128,128)'></span> <span style='color:rgb(127,128,128)'></span> <span style='color:rgb(127,128,128)'></span> <span style='color:rgb(127,128,128)'></span> <span style='color:rgb(127,128,128)'></span> <span style='color:rgb(127,128,128)'></span> <span style='color:rgb(127,128,128)'></span> <span style='color:rgb(127,128,128)'></span> <span style='color:rgb(127,128,128)'></span> <span style='color:rgb(127,128,128)'></span> <span style='color:rgb(127,128,128)'></span> <span style='color:rgb(127,128,128)'></span> <span style='color:rgb(127,128,128)'></span> <span style='color:rgb(127,128,128)'></span> <span style='color:rgb(127,128,128)'></span> <span style='color:rgb(127,128,128)'></span> <span style='color:rgb(127,128,128)'></span> <span style='color:rgb(127,128,128)'></span> <span style='color:rgb(127,128,128)'></span> <span style='color:rgb(127,128,128)'></span> <span style='color:rgb(127,128,128)'></span> <span style='color:rgb(127,128,128)'></span> <span style='color:rgb(127,128,128)'></span> <span style='color:rgb(127,128,128)'></span> <span style='color:rgb(127,128,128)'></span> <span style='color:rgb(127,128,128)'></span> <span style='color:rgb(127,128,128)'></span> <span style='color:rgb(127,128,128)'></span> <span style='color:rgb(127,128,128)'></span> <span style='color:rgb(127,128,128)'></span> <span style='color:rgb(127,128,128)'></span> <span style='color:rgb(127,128,128)'></span> <span style='color:rgb(127,128,128)'></span> <span style='color:rgb(127,128,128)'></span> <span style='color:rgb(127,128,128)'></span> <span style='color:rgb(127,128,128)'></span> <span style='color:rgb(127,128,128)'></span> <span style='color:rgb(127,128,128)'></span> <span style='color:rgb(127,128,128)'></span> <span style='color:rgb(127,128,128)'></span> <span style='color:rgb(127,128,128)'></span> <span style='color:rgb(127,128,128)'></span> <span style='color:rgb(127,128,128)'></span> <span style='color:rgb(127,128,128)'></span> <span style='color:rgb(127,128,128)'></span> <span style='color:rgb(127,128,128)'></span> <span style='color:rgb(127,128,128)'></span> <span style='color:rgb(127,128,128)'></span> <span style='color:rgb(127,128,128)'></span> <span style='color:rgb(127,128,128)'></span> <span style='color:rgb(127,128,128)'></span> <span style='color:rgb(127,128,128)'></span> <span style='color:rgb(127,128,128)'></span> <span style='color:rgb(127,128,128)'></span> <span style='color:rgb(127,128,128)'></span> <span style='color:rgb(127,128,128)'></span> <span style='color:rgb(127,128,128)'></span> <span style='color:rgb(127,128,128)'></span> <span style='color:rgb(127,128,128)'></span> <span style='color:rgb(127,128,128)'></span> <span style='color:rgb(127,128,128)'></span> <span style='color:rgb(127,128,128)'></span> <span style='color:rgb(127,128,128)'></span> <span style='color:rgb(127,128,128)'></span> <span style='color:rgb(127,128,128)'></span> <span style='color:rgb(127,128,128)'></span> <span style='color:rgb(127,128,128)'></span> <span style='color:rgb(127,128,128)'></span> <span style='color:rgb(127,128,128)'></span> <span style='color:rgb(127,128,128)'></span> <span style='color:rgb(127,128,128)'></span> <span style='color:rgb(127,128,128)'></span> <span style='color:rgb(127,128,128)'></span> <span style='color:rgb(127,128,128)'></span> <span style='color:rgb(127,128,128)'></span> <span style='color:rgb(127,128,128)'></span> <span style='color:rgb(127,128,128)'></span> <span style='color:rgb(127,128,128)'></span> <span style='color:rgb(127,128,128)'></span> <span style='color:rgb(127,128,128)'></span> <span style='color:rgb(127,128,128)'></span> <span style='color:rgb(127,128,128)'></span> <span style='color:rgb(127,128,128)'></span> <span style='color:rgb(127,128,128)'></span> <span style='color:rgb(127,128,128)'></span> <span style='color:rgb(127,128,128)'></span> <span style='color:rgb(127,128,128)'></span> <span style='color:rgb(127,128,128)'></span> <span style='color:rgb(127,128,128)'></span> <span style='color:rgb(127,128,128)'></span> <span style='color:rgb(127,128,128)'></span> <span style='color:rgb(127,128,128)'></span> <span style='color:rgb(127,128,128)'></span> <span style='color:rgb(127,128,128)'></span> <span style='color:rgb(127,128,128)'></span> <span style='color:rgb(127,128,128)'></span> <span style='color:rgb(127,128,128)'></span> <span style='color:rgb(127,128,128)'></span> <span style='color:rgb(127,128,128)'></span> <span style='color:rgb(127,128,128)'></span> <span style='color:rgb(127,128,128)'></span> <span style='color:rgb(127,128,128)'></span> <span style='color:rgb(127,128,128)'></span> <span style='color:rgb(127,128,128)'></span> <span style='color:rgb(127,128,128)'></span> <span style='color:rgb(127,128,128)'></span> <span style='color:rgb(127,128,128)'></span> <span style='color:rgb(127,128,128)'></span>"
            ],
            "text/plain": [
              "<IPython.core.display.HTML object>"
            ]
          },
          "metadata": {}
        },
        {
          "output_type": "stream",
          "name": "stdout",
          "text": [
            "====================\n",
            "LAYER 4->:\n",
            "====================\n",
            "\tToken Attributions:\n"
          ]
        },
        {
          "output_type": "display_data",
          "data": {
            "text/html": [
              " <span style='color:rgb(134,125,125)'>[CLS]</span> <span style='color:rgb(132,126,126)'>super</span> <span style='color:rgb(129,127,127)'>bowl</span> <span style='color:rgb(132,126,126)'>50</span> <span style='color:rgb(131,126,126)'>was</span> <span style='color:rgb(128,128,128)'>an</span> <span style='color:rgb(128,128,128)'>american</span> <span style='color:rgb(128,128,128)'>football</span> <span style='color:rgb(129,127,127)'>game</span> <span style='color:rgb(129,127,127)'>to</span> <span style='color:rgb(130,127,127)'>determine</span> <span style='color:rgb(128,128,128)'>the</span> <span style='color:rgb(130,127,127)'>champion</span> <span style='color:rgb(128,128,128)'>of</span> <span style='color:rgb(128,128,128)'>the</span> <span style='color:rgb(129,127,127)'>national</span> <span style='color:rgb(128,128,128)'>football</span> <span style='color:rgb(131,126,126)'>league</span> <span style='color:rgb(129,127,127)'>(</span> <span style='color:rgb(130,127,127)'>nfl</span> <span style='color:rgb(128,128,128)'>)</span> <span style='color:rgb(129,127,127)'>for</span> <span style='color:rgb(128,128,128)'>the</span> <span style='color:rgb(128,128,128)'>2015</span> <span style='color:rgb(129,127,127)'>season</span> <span style='color:rgb(147,118,118)'>.</span> <span style='color:rgb(144,120,120)'>the</span> <span style='color:rgb(145,119,119)'>american</span> <span style='color:rgb(133,125,125)'>football</span> <span style='color:rgb(173,105,105)'>conference</span> <span style='color:rgb(146,119,119)'>(</span> <span style='color:rgb(176,104,104)'>afc</span> <span style='color:rgb(157,113,113)'>)</span> <span style='color:rgb(202,91,91)'>champion</span> <span style='color:rgb(250,67,67)'>denver</span> <span style='color:rgb(255,64,64)'>broncos</span> <span style='color:rgb(149,117,117)'>defeated</span> <span style='color:rgb(136,124,124)'>the</span> <span style='color:rgb(137,123,123)'>national</span> <span style='color:rgb(130,127,127)'>football</span> <span style='color:rgb(142,121,121)'>conference</span> <span style='color:rgb(134,125,125)'>(</span> <span style='color:rgb(139,122,122)'>nfc</span> <span style='color:rgb(142,121,121)'>)</span> <span style='color:rgb(154,115,115)'>champion</span> <span style='color:rgb(186,99,99)'>carolina</span> <span style='color:rgb(215,84,84)'>panthers</span> <span style='color:rgb(147,118,118)'>24</span> <span style='color:rgb(132,126,126)'>–</span> <span style='color:rgb(148,118,118)'>10</span> <span style='color:rgb(133,125,125)'>to</span> <span style='color:rgb(135,124,124)'>earn</span> <span style='color:rgb(130,127,127)'>their</span> <span style='color:rgb(132,126,126)'>third</span> <span style='color:rgb(128,128,128)'>super</span> <span style='color:rgb(130,127,127)'>bowl</span> <span style='color:rgb(133,125,125)'>title</span> <span style='color:rgb(130,127,127)'>.</span> <span style='color:rgb(128,128,128)'>the</span> <span style='color:rgb(129,127,127)'>game</span> <span style='color:rgb(128,128,128)'>was</span> <span style='color:rgb(128,128,128)'>played</span> <span style='color:rgb(128,128,128)'>on</span> <span style='color:rgb(128,128,128)'>february</span> <span style='color:rgb(128,128,128)'>7</span> <span style='color:rgb(128,128,128)'>,</span> <span style='color:rgb(128,128,128)'>2016</span> <span style='color:rgb(130,127,127)'>,</span> <span style='color:rgb(130,127,127)'>at</span> <span style='color:rgb(130,127,127)'>levi</span> <span style='color:rgb(127,128,128)'>'</span> <span style='color:rgb(128,128,128)'>s</span> <span style='color:rgb(133,125,125)'>stadium</span> <span style='color:rgb(129,127,127)'>in</span> <span style='color:rgb(127,128,128)'>the</span> <span style='color:rgb(128,128,128)'>san</span> <span style='color:rgb(128,128,128)'>francisco</span> <span style='color:rgb(128,128,128)'>bay</span> <span style='color:rgb(129,127,127)'>area</span> <span style='color:rgb(131,126,126)'>at</span> <span style='color:rgb(128,128,128)'>santa</span> <span style='color:rgb(128,128,128)'>clara</span> <span style='color:rgb(128,128,128)'>,</span> <span style='color:rgb(130,127,127)'>california</span> <span style='color:rgb(129,127,127)'>.</span> <span style='color:rgb(128,128,128)'>as</span> <span style='color:rgb(128,128,128)'>this</span> <span style='color:rgb(127,128,128)'>was</span> <span style='color:rgb(127,128,128)'>the</span> <span style='color:rgb(128,128,128)'>50th</span> <span style='color:rgb(128,128,128)'>super</span> <span style='color:rgb(128,128,128)'>bowl</span> <span style='color:rgb(127,128,128)'>,</span> <span style='color:rgb(128,128,128)'>the</span> <span style='color:rgb(128,128,128)'>league</span> <span style='color:rgb(128,128,128)'>emphasized</span> <span style='color:rgb(127,128,128)'>the</span> <span style='color:rgb(127,128,128)'>\"</span> <span style='color:rgb(128,128,128)'>golden</span> <span style='color:rgb(128,128,128)'>anniversary</span> <span style='color:rgb(127,128,128)'>\"</span> <span style='color:rgb(127,128,128)'>with</span> <span style='color:rgb(127,128,128)'>various</span> <span style='color:rgb(127,128,128)'>gold</span> <span style='color:rgb(127,128,128)'>-</span> <span style='color:rgb(128,128,128)'>themed</span> <span style='color:rgb(128,128,128)'>initiatives</span> <span style='color:rgb(127,128,128)'>,</span> <span style='color:rgb(127,128,128)'>as</span> <span style='color:rgb(128,128,128)'>well</span> <span style='color:rgb(127,128,128)'>as</span> <span style='color:rgb(127,128,128)'>temporarily</span> <span style='color:rgb(127,128,128)'>suspend</span> <span style='color:rgb(127,128,128)'>##ing</span> <span style='color:rgb(127,128,128)'>the</span> <span style='color:rgb(127,128,128)'>tradition</span> <span style='color:rgb(127,128,128)'>of</span> <span style='color:rgb(128,128,128)'>naming</span> <span style='color:rgb(128,128,128)'>each</span> <span style='color:rgb(127,128,128)'>super</span> <span style='color:rgb(127,128,128)'>bowl</span> <span style='color:rgb(128,128,128)'>game</span> <span style='color:rgb(127,128,128)'>with</span> <span style='color:rgb(127,128,128)'>roman</span> <span style='color:rgb(127,128,128)'>nu</span> <span style='color:rgb(128,128,128)'>##meral</span> <span style='color:rgb(127,128,128)'>##s</span> <span style='color:rgb(128,128,128)'>(</span> <span style='color:rgb(128,128,128)'>under</span> <span style='color:rgb(128,128,128)'>which</span> <span style='color:rgb(127,128,128)'>the</span> <span style='color:rgb(127,128,128)'>game</span> <span style='color:rgb(127,128,128)'>would</span> <span style='color:rgb(127,128,128)'>have</span> <span style='color:rgb(127,128,128)'>been</span> <span style='color:rgb(127,128,128)'>known</span> <span style='color:rgb(127,128,128)'>as</span> <span style='color:rgb(127,128,128)'>\"</span> <span style='color:rgb(127,128,128)'>super</span> <span style='color:rgb(128,128,128)'>bowl</span> <span style='color:rgb(128,128,128)'>l</span> <span style='color:rgb(127,128,128)'>\"</span> <span style='color:rgb(127,128,128)'>)</span> <span style='color:rgb(127,128,128)'>,</span> <span style='color:rgb(128,128,128)'>so</span> <span style='color:rgb(128,128,128)'>that</span> <span style='color:rgb(127,128,128)'>the</span> <span style='color:rgb(128,128,128)'>logo</span> <span style='color:rgb(127,128,128)'>could</span> <span style='color:rgb(128,128,128)'>prominently</span> <span style='color:rgb(128,128,128)'>feature</span> <span style='color:rgb(127,128,128)'>the</span> <span style='color:rgb(128,128,128)'>arabic</span> <span style='color:rgb(127,128,128)'>nu</span> <span style='color:rgb(128,128,128)'>##meral</span> <span style='color:rgb(128,128,128)'>##s</span> <span style='color:rgb(129,127,127)'>50</span> <span style='color:rgb(138,123,123)'>.</span> <span style='color:rgb(161,111,111)'>[SEP]</span> <span style='color:rgb(145,119,119)'>which</span> <span style='color:rgb(136,124,124)'>nfl</span> <span style='color:rgb(178,103,103)'>team</span> <span style='color:rgb(145,119,119)'>represented</span> <span style='color:rgb(137,123,123)'>the</span> <span style='color:rgb(140,122,122)'>afc</span> <span style='color:rgb(143,120,120)'>at</span> <span style='color:rgb(133,125,125)'>super</span> <span style='color:rgb(139,122,122)'>bowl</span> <span style='color:rgb(134,125,125)'>50</span> <span style='color:rgb(138,123,123)'>?</span> <span style='color:rgb(157,113,113)'>[SEP]</span> <span style='color:rgb(127,128,128)'></span> <span style='color:rgb(127,128,128)'></span> <span style='color:rgb(127,128,128)'></span> <span style='color:rgb(127,128,128)'></span> <span style='color:rgb(127,128,128)'></span> <span style='color:rgb(127,128,128)'></span> <span style='color:rgb(127,128,128)'></span> <span style='color:rgb(127,128,128)'></span> <span style='color:rgb(127,128,128)'></span> <span style='color:rgb(127,128,128)'></span> <span style='color:rgb(127,128,128)'></span> <span style='color:rgb(127,128,128)'></span> <span style='color:rgb(127,128,128)'></span> <span style='color:rgb(127,128,128)'></span> <span style='color:rgb(127,128,128)'></span> <span style='color:rgb(127,128,128)'></span> <span style='color:rgb(127,128,128)'></span> <span style='color:rgb(127,128,128)'></span> <span style='color:rgb(127,128,128)'></span> <span style='color:rgb(127,128,128)'></span> <span style='color:rgb(127,128,128)'></span> <span style='color:rgb(127,128,128)'></span> <span style='color:rgb(127,128,128)'></span> <span style='color:rgb(127,128,128)'></span> <span style='color:rgb(127,128,128)'></span> <span style='color:rgb(127,128,128)'></span> <span style='color:rgb(127,128,128)'></span> <span style='color:rgb(127,128,128)'></span> <span style='color:rgb(127,128,128)'></span> <span style='color:rgb(127,128,128)'></span> <span style='color:rgb(127,128,128)'></span> <span style='color:rgb(127,128,128)'></span> <span style='color:rgb(127,128,128)'></span> <span style='color:rgb(127,128,128)'></span> <span style='color:rgb(127,128,128)'></span> <span style='color:rgb(127,128,128)'></span> <span style='color:rgb(127,128,128)'></span> <span style='color:rgb(127,128,128)'></span> <span style='color:rgb(127,128,128)'></span> <span style='color:rgb(127,128,128)'></span> <span style='color:rgb(127,128,128)'></span> <span style='color:rgb(127,128,128)'></span> <span style='color:rgb(127,128,128)'></span> <span style='color:rgb(127,128,128)'></span> <span style='color:rgb(127,128,128)'></span> <span style='color:rgb(127,128,128)'></span> <span style='color:rgb(127,128,128)'></span> <span style='color:rgb(127,128,128)'></span> <span style='color:rgb(127,128,128)'></span> <span style='color:rgb(127,128,128)'></span> <span style='color:rgb(127,128,128)'></span> <span style='color:rgb(127,128,128)'></span> <span style='color:rgb(127,128,128)'></span> <span style='color:rgb(127,128,128)'></span> <span style='color:rgb(127,128,128)'></span> <span style='color:rgb(127,128,128)'></span> <span style='color:rgb(127,128,128)'></span> <span style='color:rgb(127,128,128)'></span> <span style='color:rgb(127,128,128)'></span> <span style='color:rgb(127,128,128)'></span> <span style='color:rgb(127,128,128)'></span> <span style='color:rgb(127,128,128)'></span> <span style='color:rgb(127,128,128)'></span> <span style='color:rgb(127,128,128)'></span> <span style='color:rgb(127,128,128)'></span> <span style='color:rgb(127,128,128)'></span> <span style='color:rgb(127,128,128)'></span> <span style='color:rgb(127,128,128)'></span> <span style='color:rgb(127,128,128)'></span> <span style='color:rgb(127,128,128)'></span> <span style='color:rgb(127,128,128)'></span> <span style='color:rgb(127,128,128)'></span> <span style='color:rgb(127,128,128)'></span> <span style='color:rgb(127,128,128)'></span> <span style='color:rgb(127,128,128)'></span> <span style='color:rgb(127,128,128)'></span> <span style='color:rgb(127,128,128)'></span> <span style='color:rgb(127,128,128)'></span> <span style='color:rgb(127,128,128)'></span> <span style='color:rgb(127,128,128)'></span> <span style='color:rgb(127,128,128)'></span> <span style='color:rgb(127,128,128)'></span> <span style='color:rgb(127,128,128)'></span> <span style='color:rgb(127,128,128)'></span> <span style='color:rgb(127,128,128)'></span> <span style='color:rgb(127,128,128)'></span> <span style='color:rgb(127,128,128)'></span> <span style='color:rgb(127,128,128)'></span> <span style='color:rgb(127,128,128)'></span> <span style='color:rgb(127,128,128)'></span> <span style='color:rgb(127,128,128)'></span> <span style='color:rgb(127,128,128)'></span> <span style='color:rgb(127,128,128)'></span> <span style='color:rgb(127,128,128)'></span> <span style='color:rgb(127,128,128)'></span> <span style='color:rgb(127,128,128)'></span> <span style='color:rgb(127,128,128)'></span> <span style='color:rgb(127,128,128)'></span> <span style='color:rgb(127,128,128)'></span> <span style='color:rgb(127,128,128)'></span> <span style='color:rgb(127,128,128)'></span> <span style='color:rgb(127,128,128)'></span> <span style='color:rgb(127,128,128)'></span> <span style='color:rgb(127,128,128)'></span> <span style='color:rgb(127,128,128)'></span> <span style='color:rgb(127,128,128)'></span> <span style='color:rgb(127,128,128)'></span> <span style='color:rgb(127,128,128)'></span> <span style='color:rgb(127,128,128)'></span> <span style='color:rgb(127,128,128)'></span> <span style='color:rgb(127,128,128)'></span> <span style='color:rgb(127,128,128)'></span> <span style='color:rgb(127,128,128)'></span> <span style='color:rgb(127,128,128)'></span> <span style='color:rgb(127,128,128)'></span> <span style='color:rgb(127,128,128)'></span> <span style='color:rgb(127,128,128)'></span> <span style='color:rgb(127,128,128)'></span> <span style='color:rgb(127,128,128)'></span> <span style='color:rgb(127,128,128)'></span> <span style='color:rgb(127,128,128)'></span> <span style='color:rgb(127,128,128)'></span> <span style='color:rgb(127,128,128)'></span> <span style='color:rgb(127,128,128)'></span> <span style='color:rgb(127,128,128)'></span> <span style='color:rgb(127,128,128)'></span> <span style='color:rgb(127,128,128)'></span> <span style='color:rgb(127,128,128)'></span> <span style='color:rgb(127,128,128)'></span> <span style='color:rgb(127,128,128)'></span> <span style='color:rgb(127,128,128)'></span> <span style='color:rgb(127,128,128)'></span> <span style='color:rgb(127,128,128)'></span> <span style='color:rgb(127,128,128)'></span> <span style='color:rgb(127,128,128)'></span> <span style='color:rgb(127,128,128)'></span> <span style='color:rgb(127,128,128)'></span> <span style='color:rgb(127,128,128)'></span> <span style='color:rgb(127,128,128)'></span> <span style='color:rgb(127,128,128)'></span> <span style='color:rgb(127,128,128)'></span> <span style='color:rgb(127,128,128)'></span> <span style='color:rgb(127,128,128)'></span> <span style='color:rgb(127,128,128)'></span> <span style='color:rgb(127,128,128)'></span> <span style='color:rgb(127,128,128)'></span> <span style='color:rgb(127,128,128)'></span> <span style='color:rgb(127,128,128)'></span> <span style='color:rgb(127,128,128)'></span> <span style='color:rgb(127,128,128)'></span> <span style='color:rgb(127,128,128)'></span> <span style='color:rgb(127,128,128)'></span> <span style='color:rgb(127,128,128)'></span> <span style='color:rgb(127,128,128)'></span> <span style='color:rgb(127,128,128)'></span> <span style='color:rgb(127,128,128)'></span> <span style='color:rgb(127,128,128)'></span> <span style='color:rgb(127,128,128)'></span> <span style='color:rgb(127,128,128)'></span> <span style='color:rgb(127,128,128)'></span> <span style='color:rgb(127,128,128)'></span> <span style='color:rgb(127,128,128)'></span> <span style='color:rgb(127,128,128)'></span> <span style='color:rgb(127,128,128)'></span> <span style='color:rgb(127,128,128)'></span> <span style='color:rgb(127,128,128)'></span> <span style='color:rgb(127,128,128)'></span> <span style='color:rgb(127,128,128)'></span> <span style='color:rgb(127,128,128)'></span> <span style='color:rgb(127,128,128)'></span> <span style='color:rgb(127,128,128)'></span> <span style='color:rgb(127,128,128)'></span> <span style='color:rgb(127,128,128)'></span> <span style='color:rgb(127,128,128)'></span> <span style='color:rgb(127,128,128)'></span> <span style='color:rgb(127,128,128)'></span> <span style='color:rgb(127,128,128)'></span> <span style='color:rgb(127,128,128)'></span> <span style='color:rgb(127,128,128)'></span> <span style='color:rgb(127,128,128)'></span> <span style='color:rgb(127,128,128)'></span> <span style='color:rgb(127,128,128)'></span> <span style='color:rgb(127,128,128)'></span> <span style='color:rgb(127,128,128)'></span> <span style='color:rgb(127,128,128)'></span> <span style='color:rgb(127,128,128)'></span> <span style='color:rgb(127,128,128)'></span> <span style='color:rgb(127,128,128)'></span> <span style='color:rgb(127,128,128)'></span> <span style='color:rgb(127,128,128)'></span> <span style='color:rgb(127,128,128)'></span> <span style='color:rgb(127,128,128)'></span> <span style='color:rgb(127,128,128)'></span> <span style='color:rgb(127,128,128)'></span> <span style='color:rgb(127,128,128)'></span> <span style='color:rgb(127,128,128)'></span> <span style='color:rgb(127,128,128)'></span> <span style='color:rgb(127,128,128)'></span> <span style='color:rgb(127,128,128)'></span> <span style='color:rgb(127,128,128)'></span> <span style='color:rgb(127,128,128)'></span> <span style='color:rgb(127,128,128)'></span> <span style='color:rgb(127,128,128)'></span> <span style='color:rgb(127,128,128)'></span> <span style='color:rgb(127,128,128)'></span> <span style='color:rgb(127,128,128)'></span> <span style='color:rgb(127,128,128)'></span> <span style='color:rgb(127,128,128)'></span> <span style='color:rgb(127,128,128)'></span> <span style='color:rgb(127,128,128)'></span> <span style='color:rgb(127,128,128)'></span> <span style='color:rgb(127,128,128)'></span> <span style='color:rgb(127,128,128)'></span>"
            ],
            "text/plain": [
              "<IPython.core.display.HTML object>"
            ]
          },
          "metadata": {}
        },
        {
          "output_type": "stream",
          "name": "stdout",
          "text": [
            "====================\n",
            "LAYER 5->:\n",
            "====================\n",
            "\tToken Attributions:\n"
          ]
        },
        {
          "output_type": "display_data",
          "data": {
            "text/html": [
              " <span style='color:rgb(143,120,120)'>[CLS]</span> <span style='color:rgb(130,127,127)'>super</span> <span style='color:rgb(129,127,127)'>bowl</span> <span style='color:rgb(132,126,126)'>50</span> <span style='color:rgb(132,126,126)'>was</span> <span style='color:rgb(129,127,127)'>an</span> <span style='color:rgb(130,127,127)'>american</span> <span style='color:rgb(129,127,127)'>football</span> <span style='color:rgb(129,127,127)'>game</span> <span style='color:rgb(129,127,127)'>to</span> <span style='color:rgb(130,127,127)'>determine</span> <span style='color:rgb(128,128,128)'>the</span> <span style='color:rgb(130,127,127)'>champion</span> <span style='color:rgb(129,127,127)'>of</span> <span style='color:rgb(129,127,127)'>the</span> <span style='color:rgb(129,127,127)'>national</span> <span style='color:rgb(129,127,127)'>football</span> <span style='color:rgb(132,126,126)'>league</span> <span style='color:rgb(129,127,127)'>(</span> <span style='color:rgb(130,127,127)'>nfl</span> <span style='color:rgb(130,127,127)'>)</span> <span style='color:rgb(129,127,127)'>for</span> <span style='color:rgb(128,128,128)'>the</span> <span style='color:rgb(129,127,127)'>2015</span> <span style='color:rgb(129,127,127)'>season</span> <span style='color:rgb(138,123,123)'>.</span> <span style='color:rgb(164,110,110)'>the</span> <span style='color:rgb(141,121,121)'>american</span> <span style='color:rgb(133,125,125)'>football</span> <span style='color:rgb(153,115,115)'>conference</span> <span style='color:rgb(140,122,122)'>(</span> <span style='color:rgb(174,105,105)'>afc</span> <span style='color:rgb(158,113,113)'>)</span> <span style='color:rgb(199,92,92)'>champion</span> <span style='color:rgb(241,71,71)'>denver</span> <span style='color:rgb(255,64,64)'>broncos</span> <span style='color:rgb(145,119,119)'>defeated</span> <span style='color:rgb(132,126,126)'>the</span> <span style='color:rgb(134,125,125)'>national</span> <span style='color:rgb(130,127,127)'>football</span> <span style='color:rgb(141,121,121)'>conference</span> <span style='color:rgb(130,127,127)'>(</span> <span style='color:rgb(139,122,122)'>nfc</span> <span style='color:rgb(136,124,124)'>)</span> <span style='color:rgb(148,118,118)'>champion</span> <span style='color:rgb(165,109,109)'>carolina</span> <span style='color:rgb(172,106,106)'>panthers</span> <span style='color:rgb(143,120,120)'>24</span> <span style='color:rgb(131,126,126)'>–</span> <span style='color:rgb(140,122,122)'>10</span> <span style='color:rgb(133,125,125)'>to</span> <span style='color:rgb(134,125,125)'>earn</span> <span style='color:rgb(131,126,126)'>their</span> <span style='color:rgb(133,125,125)'>third</span> <span style='color:rgb(128,128,128)'>super</span> <span style='color:rgb(130,127,127)'>bowl</span> <span style='color:rgb(134,125,125)'>title</span> <span style='color:rgb(133,125,125)'>.</span> <span style='color:rgb(129,127,127)'>the</span> <span style='color:rgb(130,127,127)'>game</span> <span style='color:rgb(128,128,128)'>was</span> <span style='color:rgb(130,127,127)'>played</span> <span style='color:rgb(128,128,128)'>on</span> <span style='color:rgb(128,128,128)'>february</span> <span style='color:rgb(128,128,128)'>7</span> <span style='color:rgb(128,128,128)'>,</span> <span style='color:rgb(129,127,127)'>2016</span> <span style='color:rgb(132,126,126)'>,</span> <span style='color:rgb(132,126,126)'>at</span> <span style='color:rgb(133,125,125)'>levi</span> <span style='color:rgb(128,128,128)'>'</span> <span style='color:rgb(129,127,127)'>s</span> <span style='color:rgb(133,125,125)'>stadium</span> <span style='color:rgb(129,127,127)'>in</span> <span style='color:rgb(128,128,128)'>the</span> <span style='color:rgb(129,127,127)'>san</span> <span style='color:rgb(128,128,128)'>francisco</span> <span style='color:rgb(129,127,127)'>bay</span> <span style='color:rgb(130,127,127)'>area</span> <span style='color:rgb(131,126,126)'>at</span> <span style='color:rgb(129,127,127)'>santa</span> <span style='color:rgb(128,128,128)'>clara</span> <span style='color:rgb(129,127,127)'>,</span> <span style='color:rgb(131,126,126)'>california</span> <span style='color:rgb(129,127,127)'>.</span> <span style='color:rgb(129,127,127)'>as</span> <span style='color:rgb(129,127,127)'>this</span> <span style='color:rgb(128,128,128)'>was</span> <span style='color:rgb(128,128,128)'>the</span> <span style='color:rgb(129,127,127)'>50th</span> <span style='color:rgb(128,128,128)'>super</span> <span style='color:rgb(128,128,128)'>bowl</span> <span style='color:rgb(129,127,127)'>,</span> <span style='color:rgb(128,128,128)'>the</span> <span style='color:rgb(129,127,127)'>league</span> <span style='color:rgb(129,127,127)'>emphasized</span> <span style='color:rgb(128,128,128)'>the</span> <span style='color:rgb(128,128,128)'>\"</span> <span style='color:rgb(128,128,128)'>golden</span> <span style='color:rgb(128,128,128)'>anniversary</span> <span style='color:rgb(128,128,128)'>\"</span> <span style='color:rgb(128,128,128)'>with</span> <span style='color:rgb(128,128,128)'>various</span> <span style='color:rgb(128,128,128)'>gold</span> <span style='color:rgb(128,128,128)'>-</span> <span style='color:rgb(128,128,128)'>themed</span> <span style='color:rgb(128,128,128)'>initiatives</span> <span style='color:rgb(128,128,128)'>,</span> <span style='color:rgb(128,128,128)'>as</span> <span style='color:rgb(128,128,128)'>well</span> <span style='color:rgb(128,128,128)'>as</span> <span style='color:rgb(128,128,128)'>temporarily</span> <span style='color:rgb(128,128,128)'>suspend</span> <span style='color:rgb(128,128,128)'>##ing</span> <span style='color:rgb(128,128,128)'>the</span> <span style='color:rgb(128,128,128)'>tradition</span> <span style='color:rgb(128,128,128)'>of</span> <span style='color:rgb(128,128,128)'>naming</span> <span style='color:rgb(128,128,128)'>each</span> <span style='color:rgb(128,128,128)'>super</span> <span style='color:rgb(128,128,128)'>bowl</span> <span style='color:rgb(128,128,128)'>game</span> <span style='color:rgb(128,128,128)'>with</span> <span style='color:rgb(128,128,128)'>roman</span> <span style='color:rgb(128,128,128)'>nu</span> <span style='color:rgb(128,128,128)'>##meral</span> <span style='color:rgb(128,128,128)'>##s</span> <span style='color:rgb(128,128,128)'>(</span> <span style='color:rgb(128,128,128)'>under</span> <span style='color:rgb(128,128,128)'>which</span> <span style='color:rgb(128,128,128)'>the</span> <span style='color:rgb(128,128,128)'>game</span> <span style='color:rgb(128,128,128)'>would</span> <span style='color:rgb(128,128,128)'>have</span> <span style='color:rgb(128,128,128)'>been</span> <span style='color:rgb(128,128,128)'>known</span> <span style='color:rgb(128,128,128)'>as</span> <span style='color:rgb(128,128,128)'>\"</span> <span style='color:rgb(128,128,128)'>super</span> <span style='color:rgb(128,128,128)'>bowl</span> <span style='color:rgb(128,128,128)'>l</span> <span style='color:rgb(128,128,128)'>\"</span> <span style='color:rgb(128,128,128)'>)</span> <span style='color:rgb(128,128,128)'>,</span> <span style='color:rgb(128,128,128)'>so</span> <span style='color:rgb(128,128,128)'>that</span> <span style='color:rgb(128,128,128)'>the</span> <span style='color:rgb(128,128,128)'>logo</span> <span style='color:rgb(128,128,128)'>could</span> <span style='color:rgb(128,128,128)'>prominently</span> <span style='color:rgb(128,128,128)'>feature</span> <span style='color:rgb(128,128,128)'>the</span> <span style='color:rgb(128,128,128)'>arabic</span> <span style='color:rgb(128,128,128)'>nu</span> <span style='color:rgb(128,128,128)'>##meral</span> <span style='color:rgb(128,128,128)'>##s</span> <span style='color:rgb(129,127,127)'>50</span> <span style='color:rgb(134,125,125)'>.</span> <span style='color:rgb(189,97,97)'>[SEP]</span> <span style='color:rgb(239,72,72)'>which</span> <span style='color:rgb(144,120,120)'>nfl</span> <span style='color:rgb(196,94,94)'>team</span> <span style='color:rgb(160,112,112)'>represented</span> <span style='color:rgb(136,124,124)'>the</span> <span style='color:rgb(137,123,123)'>afc</span> <span style='color:rgb(135,124,124)'>at</span> <span style='color:rgb(129,127,127)'>super</span> <span style='color:rgb(131,126,126)'>bowl</span> <span style='color:rgb(134,125,125)'>50</span> <span style='color:rgb(142,121,121)'>?</span> <span style='color:rgb(187,98,98)'>[SEP]</span> <span style='color:rgb(127,128,128)'></span> <span style='color:rgb(127,128,128)'></span> <span style='color:rgb(127,128,128)'></span> <span style='color:rgb(127,128,128)'></span> <span style='color:rgb(127,128,128)'></span> <span style='color:rgb(127,128,128)'></span> <span style='color:rgb(127,128,128)'></span> <span style='color:rgb(127,128,128)'></span> <span style='color:rgb(127,128,128)'></span> <span style='color:rgb(127,128,128)'></span> <span style='color:rgb(127,128,128)'></span> <span style='color:rgb(127,128,128)'></span> <span style='color:rgb(127,128,128)'></span> <span style='color:rgb(127,128,128)'></span> <span style='color:rgb(127,128,128)'></span> <span style='color:rgb(127,128,128)'></span> <span style='color:rgb(127,128,128)'></span> <span style='color:rgb(127,128,128)'></span> <span style='color:rgb(127,128,128)'></span> <span style='color:rgb(127,128,128)'></span> <span style='color:rgb(127,128,128)'></span> <span style='color:rgb(127,128,128)'></span> <span style='color:rgb(127,128,128)'></span> <span style='color:rgb(127,128,128)'></span> <span style='color:rgb(127,128,128)'></span> <span style='color:rgb(127,128,128)'></span> <span style='color:rgb(127,128,128)'></span> <span style='color:rgb(127,128,128)'></span> <span style='color:rgb(127,128,128)'></span> <span style='color:rgb(127,128,128)'></span> <span style='color:rgb(127,128,128)'></span> <span style='color:rgb(127,128,128)'></span> <span style='color:rgb(127,128,128)'></span> <span style='color:rgb(127,128,128)'></span> <span style='color:rgb(127,128,128)'></span> <span style='color:rgb(127,128,128)'></span> <span style='color:rgb(127,128,128)'></span> <span style='color:rgb(127,128,128)'></span> <span style='color:rgb(127,128,128)'></span> <span style='color:rgb(127,128,128)'></span> <span style='color:rgb(127,128,128)'></span> <span style='color:rgb(127,128,128)'></span> <span style='color:rgb(127,128,128)'></span> <span style='color:rgb(127,128,128)'></span> <span style='color:rgb(127,128,128)'></span> <span style='color:rgb(127,128,128)'></span> <span style='color:rgb(127,128,128)'></span> <span style='color:rgb(127,128,128)'></span> <span style='color:rgb(127,128,128)'></span> <span style='color:rgb(127,128,128)'></span> <span style='color:rgb(127,128,128)'></span> <span style='color:rgb(127,128,128)'></span> <span style='color:rgb(127,128,128)'></span> <span style='color:rgb(127,128,128)'></span> <span style='color:rgb(127,128,128)'></span> <span style='color:rgb(127,128,128)'></span> <span style='color:rgb(127,128,128)'></span> <span style='color:rgb(127,128,128)'></span> <span style='color:rgb(127,128,128)'></span> <span style='color:rgb(127,128,128)'></span> <span style='color:rgb(127,128,128)'></span> <span style='color:rgb(127,128,128)'></span> <span style='color:rgb(127,128,128)'></span> <span style='color:rgb(127,128,128)'></span> <span style='color:rgb(127,128,128)'></span> <span style='color:rgb(127,128,128)'></span> <span style='color:rgb(127,128,128)'></span> <span style='color:rgb(127,128,128)'></span> <span style='color:rgb(127,128,128)'></span> <span style='color:rgb(127,128,128)'></span> <span style='color:rgb(127,128,128)'></span> <span style='color:rgb(127,128,128)'></span> <span style='color:rgb(127,128,128)'></span> <span style='color:rgb(127,128,128)'></span> <span style='color:rgb(127,128,128)'></span> <span style='color:rgb(127,128,128)'></span> <span style='color:rgb(127,128,128)'></span> <span style='color:rgb(127,128,128)'></span> <span style='color:rgb(127,128,128)'></span> <span style='color:rgb(127,128,128)'></span> <span style='color:rgb(127,128,128)'></span> <span style='color:rgb(127,128,128)'></span> <span style='color:rgb(127,128,128)'></span> <span style='color:rgb(127,128,128)'></span> <span style='color:rgb(127,128,128)'></span> <span style='color:rgb(127,128,128)'></span> <span style='color:rgb(127,128,128)'></span> <span style='color:rgb(127,128,128)'></span> <span style='color:rgb(127,128,128)'></span> <span style='color:rgb(127,128,128)'></span> <span style='color:rgb(127,128,128)'></span> <span style='color:rgb(127,128,128)'></span> <span style='color:rgb(127,128,128)'></span> <span style='color:rgb(127,128,128)'></span> <span style='color:rgb(127,128,128)'></span> <span style='color:rgb(127,128,128)'></span> <span style='color:rgb(127,128,128)'></span> <span style='color:rgb(127,128,128)'></span> <span style='color:rgb(127,128,128)'></span> <span style='color:rgb(127,128,128)'></span> <span style='color:rgb(127,128,128)'></span> <span style='color:rgb(127,128,128)'></span> <span style='color:rgb(127,128,128)'></span> <span style='color:rgb(127,128,128)'></span> <span style='color:rgb(127,128,128)'></span> <span style='color:rgb(127,128,128)'></span> <span style='color:rgb(127,128,128)'></span> <span style='color:rgb(127,128,128)'></span> <span style='color:rgb(127,128,128)'></span> <span style='color:rgb(127,128,128)'></span> <span style='color:rgb(127,128,128)'></span> <span style='color:rgb(127,128,128)'></span> <span style='color:rgb(127,128,128)'></span> <span style='color:rgb(127,128,128)'></span> <span style='color:rgb(127,128,128)'></span> <span style='color:rgb(127,128,128)'></span> <span style='color:rgb(127,128,128)'></span> <span style='color:rgb(127,128,128)'></span> <span style='color:rgb(127,128,128)'></span> <span style='color:rgb(127,128,128)'></span> <span style='color:rgb(127,128,128)'></span> <span style='color:rgb(127,128,128)'></span> <span style='color:rgb(127,128,128)'></span> <span style='color:rgb(127,128,128)'></span> <span style='color:rgb(127,128,128)'></span> <span style='color:rgb(127,128,128)'></span> <span style='color:rgb(127,128,128)'></span> <span style='color:rgb(127,128,128)'></span> <span style='color:rgb(127,128,128)'></span> <span style='color:rgb(127,128,128)'></span> <span style='color:rgb(127,128,128)'></span> <span style='color:rgb(127,128,128)'></span> <span style='color:rgb(127,128,128)'></span> <span style='color:rgb(127,128,128)'></span> <span style='color:rgb(127,128,128)'></span> <span style='color:rgb(127,128,128)'></span> <span style='color:rgb(127,128,128)'></span> <span style='color:rgb(127,128,128)'></span> <span style='color:rgb(127,128,128)'></span> <span style='color:rgb(127,128,128)'></span> <span style='color:rgb(127,128,128)'></span> <span style='color:rgb(127,128,128)'></span> <span style='color:rgb(127,128,128)'></span> <span style='color:rgb(127,128,128)'></span> <span style='color:rgb(127,128,128)'></span> <span style='color:rgb(127,128,128)'></span> <span style='color:rgb(127,128,128)'></span> <span style='color:rgb(127,128,128)'></span> <span style='color:rgb(127,128,128)'></span> <span style='color:rgb(127,128,128)'></span> <span style='color:rgb(127,128,128)'></span> <span style='color:rgb(127,128,128)'></span> <span style='color:rgb(127,128,128)'></span> <span style='color:rgb(127,128,128)'></span> <span style='color:rgb(127,128,128)'></span> <span style='color:rgb(127,128,128)'></span> <span style='color:rgb(127,128,128)'></span> <span style='color:rgb(127,128,128)'></span> <span style='color:rgb(127,128,128)'></span> <span style='color:rgb(127,128,128)'></span> <span style='color:rgb(127,128,128)'></span> <span style='color:rgb(127,128,128)'></span> <span style='color:rgb(127,128,128)'></span> <span style='color:rgb(127,128,128)'></span> <span style='color:rgb(127,128,128)'></span> <span style='color:rgb(127,128,128)'></span> <span style='color:rgb(127,128,128)'></span> <span style='color:rgb(127,128,128)'></span> <span style='color:rgb(127,128,128)'></span> <span style='color:rgb(127,128,128)'></span> <span style='color:rgb(127,128,128)'></span> <span style='color:rgb(127,128,128)'></span> <span style='color:rgb(127,128,128)'></span> <span style='color:rgb(127,128,128)'></span> <span style='color:rgb(127,128,128)'></span> <span style='color:rgb(127,128,128)'></span> <span style='color:rgb(127,128,128)'></span> <span style='color:rgb(127,128,128)'></span> <span style='color:rgb(127,128,128)'></span> <span style='color:rgb(127,128,128)'></span> <span style='color:rgb(127,128,128)'></span> <span style='color:rgb(127,128,128)'></span> <span style='color:rgb(127,128,128)'></span> <span style='color:rgb(127,128,128)'></span> <span style='color:rgb(127,128,128)'></span> <span style='color:rgb(127,128,128)'></span> <span style='color:rgb(127,128,128)'></span> <span style='color:rgb(127,128,128)'></span> <span style='color:rgb(127,128,128)'></span> <span style='color:rgb(127,128,128)'></span> <span style='color:rgb(127,128,128)'></span> <span style='color:rgb(127,128,128)'></span> <span style='color:rgb(127,128,128)'></span> <span style='color:rgb(127,128,128)'></span> <span style='color:rgb(127,128,128)'></span> <span style='color:rgb(127,128,128)'></span> <span style='color:rgb(127,128,128)'></span> <span style='color:rgb(127,128,128)'></span> <span style='color:rgb(127,128,128)'></span> <span style='color:rgb(127,128,128)'></span> <span style='color:rgb(127,128,128)'></span> <span style='color:rgb(127,128,128)'></span> <span style='color:rgb(127,128,128)'></span> <span style='color:rgb(127,128,128)'></span> <span style='color:rgb(127,128,128)'></span> <span style='color:rgb(127,128,128)'></span> <span style='color:rgb(127,128,128)'></span> <span style='color:rgb(127,128,128)'></span> <span style='color:rgb(127,128,128)'></span> <span style='color:rgb(127,128,128)'></span> <span style='color:rgb(127,128,128)'></span> <span style='color:rgb(127,128,128)'></span> <span style='color:rgb(127,128,128)'></span>"
            ],
            "text/plain": [
              "<IPython.core.display.HTML object>"
            ]
          },
          "metadata": {}
        },
        {
          "output_type": "stream",
          "name": "stdout",
          "text": [
            "====================\n",
            "LAYER 6->:\n",
            "====================\n",
            "\tToken Attributions:\n"
          ]
        },
        {
          "output_type": "display_data",
          "data": {
            "text/html": [
              " <span style='color:rgb(137,123,123)'>[CLS]</span> <span style='color:rgb(129,127,127)'>super</span> <span style='color:rgb(129,127,127)'>bowl</span> <span style='color:rgb(131,126,126)'>50</span> <span style='color:rgb(129,127,127)'>was</span> <span style='color:rgb(129,127,127)'>an</span> <span style='color:rgb(129,127,127)'>american</span> <span style='color:rgb(128,128,128)'>football</span> <span style='color:rgb(128,128,128)'>game</span> <span style='color:rgb(129,127,127)'>to</span> <span style='color:rgb(129,127,127)'>determine</span> <span style='color:rgb(128,128,128)'>the</span> <span style='color:rgb(130,127,127)'>champion</span> <span style='color:rgb(128,128,128)'>of</span> <span style='color:rgb(128,128,128)'>the</span> <span style='color:rgb(128,128,128)'>national</span> <span style='color:rgb(128,128,128)'>football</span> <span style='color:rgb(131,126,126)'>league</span> <span style='color:rgb(128,128,128)'>(</span> <span style='color:rgb(129,127,127)'>nfl</span> <span style='color:rgb(129,127,127)'>)</span> <span style='color:rgb(128,128,128)'>for</span> <span style='color:rgb(127,128,128)'>the</span> <span style='color:rgb(128,128,128)'>2015</span> <span style='color:rgb(128,128,128)'>season</span> <span style='color:rgb(143,120,120)'>.</span> <span style='color:rgb(140,122,122)'>the</span> <span style='color:rgb(135,124,124)'>american</span> <span style='color:rgb(130,127,127)'>football</span> <span style='color:rgb(140,122,122)'>conference</span> <span style='color:rgb(132,126,126)'>(</span> <span style='color:rgb(149,117,117)'>afc</span> <span style='color:rgb(133,125,125)'>)</span> <span style='color:rgb(162,111,111)'>champion</span> <span style='color:rgb(235,74,74)'>denver</span> <span style='color:rgb(255,64,64)'>broncos</span> <span style='color:rgb(151,116,116)'>defeated</span> <span style='color:rgb(131,126,126)'>the</span> <span style='color:rgb(132,126,126)'>national</span> <span style='color:rgb(128,128,128)'>football</span> <span style='color:rgb(141,121,121)'>conference</span> <span style='color:rgb(129,127,127)'>(</span> <span style='color:rgb(136,124,124)'>nfc</span> <span style='color:rgb(133,125,125)'>)</span> <span style='color:rgb(140,122,122)'>champion</span> <span style='color:rgb(180,102,102)'>carolina</span> <span style='color:rgb(163,110,110)'>panthers</span> <span style='color:rgb(137,123,123)'>24</span> <span style='color:rgb(129,127,127)'>–</span> <span style='color:rgb(139,122,122)'>10</span> <span style='color:rgb(135,124,124)'>to</span> <span style='color:rgb(136,124,124)'>earn</span> <span style='color:rgb(130,127,127)'>their</span> <span style='color:rgb(134,125,125)'>third</span> <span style='color:rgb(128,128,128)'>super</span> <span style='color:rgb(129,127,127)'>bowl</span> <span style='color:rgb(131,126,126)'>title</span> <span style='color:rgb(130,127,127)'>.</span> <span style='color:rgb(129,127,127)'>the</span> <span style='color:rgb(129,127,127)'>game</span> <span style='color:rgb(127,128,128)'>was</span> <span style='color:rgb(128,128,128)'>played</span> <span style='color:rgb(128,128,128)'>on</span> <span style='color:rgb(127,128,128)'>february</span> <span style='color:rgb(127,128,128)'>7</span> <span style='color:rgb(127,128,128)'>,</span> <span style='color:rgb(128,128,128)'>2016</span> <span style='color:rgb(128,128,128)'>,</span> <span style='color:rgb(128,128,128)'>at</span> <span style='color:rgb(129,127,127)'>levi</span> <span style='color:rgb(127,128,128)'>'</span> <span style='color:rgb(127,128,128)'>s</span> <span style='color:rgb(128,128,128)'>stadium</span> <span style='color:rgb(128,128,128)'>in</span> <span style='color:rgb(127,128,128)'>the</span> <span style='color:rgb(127,128,128)'>san</span> <span style='color:rgb(127,128,128)'>francisco</span> <span style='color:rgb(127,128,128)'>bay</span> <span style='color:rgb(127,128,128)'>area</span> <span style='color:rgb(128,128,128)'>at</span> <span style='color:rgb(127,128,128)'>santa</span> <span style='color:rgb(127,128,128)'>clara</span> <span style='color:rgb(128,128,128)'>,</span> <span style='color:rgb(128,128,128)'>california</span> <span style='color:rgb(128,128,128)'>.</span> <span style='color:rgb(127,128,128)'>as</span> <span style='color:rgb(127,128,128)'>this</span> <span style='color:rgb(127,128,128)'>was</span> <span style='color:rgb(127,128,128)'>the</span> <span style='color:rgb(128,128,128)'>50th</span> <span style='color:rgb(127,128,128)'>super</span> <span style='color:rgb(128,128,128)'>bowl</span> <span style='color:rgb(127,128,128)'>,</span> <span style='color:rgb(127,128,128)'>the</span> <span style='color:rgb(128,128,128)'>league</span> <span style='color:rgb(127,128,128)'>emphasized</span> <span style='color:rgb(127,128,128)'>the</span> <span style='color:rgb(127,128,128)'>\"</span> <span style='color:rgb(127,128,128)'>golden</span> <span style='color:rgb(127,128,128)'>anniversary</span> <span style='color:rgb(127,128,128)'>\"</span> <span style='color:rgb(127,128,128)'>with</span> <span style='color:rgb(127,128,128)'>various</span> <span style='color:rgb(127,128,128)'>gold</span> <span style='color:rgb(127,128,128)'>-</span> <span style='color:rgb(127,128,128)'>themed</span> <span style='color:rgb(127,128,128)'>initiatives</span> <span style='color:rgb(127,128,128)'>,</span> <span style='color:rgb(127,128,128)'>as</span> <span style='color:rgb(127,128,128)'>well</span> <span style='color:rgb(127,128,128)'>as</span> <span style='color:rgb(127,128,128)'>temporarily</span> <span style='color:rgb(127,128,128)'>suspend</span> <span style='color:rgb(127,128,128)'>##ing</span> <span style='color:rgb(127,128,128)'>the</span> <span style='color:rgb(127,128,128)'>tradition</span> <span style='color:rgb(127,128,128)'>of</span> <span style='color:rgb(127,128,128)'>naming</span> <span style='color:rgb(127,128,128)'>each</span> <span style='color:rgb(127,128,128)'>super</span> <span style='color:rgb(127,128,128)'>bowl</span> <span style='color:rgb(127,128,128)'>game</span> <span style='color:rgb(127,128,128)'>with</span> <span style='color:rgb(127,128,128)'>roman</span> <span style='color:rgb(127,128,128)'>nu</span> <span style='color:rgb(127,128,128)'>##meral</span> <span style='color:rgb(127,128,128)'>##s</span> <span style='color:rgb(127,128,128)'>(</span> <span style='color:rgb(127,128,128)'>under</span> <span style='color:rgb(127,128,128)'>which</span> <span style='color:rgb(127,128,128)'>the</span> <span style='color:rgb(127,128,128)'>game</span> <span style='color:rgb(127,128,128)'>would</span> <span style='color:rgb(127,128,128)'>have</span> <span style='color:rgb(127,128,128)'>been</span> <span style='color:rgb(127,128,128)'>known</span> <span style='color:rgb(127,128,128)'>as</span> <span style='color:rgb(127,128,128)'>\"</span> <span style='color:rgb(127,128,128)'>super</span> <span style='color:rgb(127,128,128)'>bowl</span> <span style='color:rgb(127,128,128)'>l</span> <span style='color:rgb(127,128,128)'>\"</span> <span style='color:rgb(127,128,128)'>)</span> <span style='color:rgb(127,128,128)'>,</span> <span style='color:rgb(127,128,128)'>so</span> <span style='color:rgb(127,128,128)'>that</span> <span style='color:rgb(127,128,128)'>the</span> <span style='color:rgb(127,128,128)'>logo</span> <span style='color:rgb(127,128,128)'>could</span> <span style='color:rgb(127,128,128)'>prominently</span> <span style='color:rgb(127,128,128)'>feature</span> <span style='color:rgb(127,128,128)'>the</span> <span style='color:rgb(127,128,128)'>arabic</span> <span style='color:rgb(127,128,128)'>nu</span> <span style='color:rgb(127,128,128)'>##meral</span> <span style='color:rgb(127,128,128)'>##s</span> <span style='color:rgb(127,128,128)'>50</span> <span style='color:rgb(131,126,126)'>.</span> <span style='color:rgb(147,118,118)'>[SEP]</span> <span style='color:rgb(169,107,107)'>which</span> <span style='color:rgb(134,125,125)'>nfl</span> <span style='color:rgb(146,119,119)'>team</span> <span style='color:rgb(145,119,119)'>represented</span> <span style='color:rgb(133,125,125)'>the</span> <span style='color:rgb(137,123,123)'>afc</span> <span style='color:rgb(135,124,124)'>at</span> <span style='color:rgb(129,127,127)'>super</span> <span style='color:rgb(129,127,127)'>bowl</span> <span style='color:rgb(134,125,125)'>50</span> <span style='color:rgb(137,123,123)'>?</span> <span style='color:rgb(147,118,118)'>[SEP]</span> <span style='color:rgb(127,128,128)'></span> <span style='color:rgb(127,128,128)'></span> <span style='color:rgb(127,128,128)'></span> <span style='color:rgb(127,128,128)'></span> <span style='color:rgb(127,128,128)'></span> <span style='color:rgb(127,128,128)'></span> <span style='color:rgb(127,128,128)'></span> <span style='color:rgb(127,128,128)'></span> <span style='color:rgb(127,128,128)'></span> <span style='color:rgb(127,128,128)'></span> <span style='color:rgb(127,128,128)'></span> <span style='color:rgb(127,128,128)'></span> <span style='color:rgb(127,128,128)'></span> <span style='color:rgb(127,128,128)'></span> <span style='color:rgb(127,128,128)'></span> <span style='color:rgb(127,128,128)'></span> <span style='color:rgb(127,128,128)'></span> <span style='color:rgb(127,128,128)'></span> <span style='color:rgb(127,128,128)'></span> <span style='color:rgb(127,128,128)'></span> <span style='color:rgb(127,128,128)'></span> <span style='color:rgb(127,128,128)'></span> <span style='color:rgb(127,128,128)'></span> <span style='color:rgb(127,128,128)'></span> <span style='color:rgb(127,128,128)'></span> <span style='color:rgb(127,128,128)'></span> <span style='color:rgb(127,128,128)'></span> <span style='color:rgb(127,128,128)'></span> <span style='color:rgb(127,128,128)'></span> <span style='color:rgb(127,128,128)'></span> <span style='color:rgb(127,128,128)'></span> <span style='color:rgb(127,128,128)'></span> <span style='color:rgb(127,128,128)'></span> <span style='color:rgb(127,128,128)'></span> <span style='color:rgb(127,128,128)'></span> <span style='color:rgb(127,128,128)'></span> <span style='color:rgb(127,128,128)'></span> <span style='color:rgb(127,128,128)'></span> <span style='color:rgb(127,128,128)'></span> <span style='color:rgb(127,128,128)'></span> <span style='color:rgb(127,128,128)'></span> <span style='color:rgb(127,128,128)'></span> <span style='color:rgb(127,128,128)'></span> <span style='color:rgb(127,128,128)'></span> <span style='color:rgb(127,128,128)'></span> <span style='color:rgb(127,128,128)'></span> <span style='color:rgb(127,128,128)'></span> <span style='color:rgb(127,128,128)'></span> <span style='color:rgb(127,128,128)'></span> <span style='color:rgb(127,128,128)'></span> <span style='color:rgb(127,128,128)'></span> <span style='color:rgb(127,128,128)'></span> <span style='color:rgb(127,128,128)'></span> <span style='color:rgb(127,128,128)'></span> <span style='color:rgb(127,128,128)'></span> <span style='color:rgb(127,128,128)'></span> <span style='color:rgb(127,128,128)'></span> <span style='color:rgb(127,128,128)'></span> <span style='color:rgb(127,128,128)'></span> <span style='color:rgb(127,128,128)'></span> <span style='color:rgb(127,128,128)'></span> <span style='color:rgb(127,128,128)'></span> <span style='color:rgb(127,128,128)'></span> <span style='color:rgb(127,128,128)'></span> <span style='color:rgb(127,128,128)'></span> <span style='color:rgb(127,128,128)'></span> <span style='color:rgb(127,128,128)'></span> <span style='color:rgb(127,128,128)'></span> <span style='color:rgb(127,128,128)'></span> <span style='color:rgb(127,128,128)'></span> <span style='color:rgb(127,128,128)'></span> <span style='color:rgb(127,128,128)'></span> <span style='color:rgb(127,128,128)'></span> <span style='color:rgb(127,128,128)'></span> <span style='color:rgb(127,128,128)'></span> <span style='color:rgb(127,128,128)'></span> <span style='color:rgb(127,128,128)'></span> <span style='color:rgb(127,128,128)'></span> <span style='color:rgb(127,128,128)'></span> <span style='color:rgb(127,128,128)'></span> <span style='color:rgb(127,128,128)'></span> <span style='color:rgb(127,128,128)'></span> <span style='color:rgb(127,128,128)'></span> <span style='color:rgb(127,128,128)'></span> <span style='color:rgb(127,128,128)'></span> <span style='color:rgb(127,128,128)'></span> <span style='color:rgb(127,128,128)'></span> <span style='color:rgb(127,128,128)'></span> <span style='color:rgb(127,128,128)'></span> <span style='color:rgb(127,128,128)'></span> <span style='color:rgb(127,128,128)'></span> <span style='color:rgb(127,128,128)'></span> <span style='color:rgb(127,128,128)'></span> <span style='color:rgb(127,128,128)'></span> <span style='color:rgb(127,128,128)'></span> <span style='color:rgb(127,128,128)'></span> <span style='color:rgb(127,128,128)'></span> <span style='color:rgb(127,128,128)'></span> <span style='color:rgb(127,128,128)'></span> <span style='color:rgb(127,128,128)'></span> <span style='color:rgb(127,128,128)'></span> <span style='color:rgb(127,128,128)'></span> <span style='color:rgb(127,128,128)'></span> <span style='color:rgb(127,128,128)'></span> <span style='color:rgb(127,128,128)'></span> <span style='color:rgb(127,128,128)'></span> <span style='color:rgb(127,128,128)'></span> <span style='color:rgb(127,128,128)'></span> <span style='color:rgb(127,128,128)'></span> <span style='color:rgb(127,128,128)'></span> <span style='color:rgb(127,128,128)'></span> <span style='color:rgb(127,128,128)'></span> <span style='color:rgb(127,128,128)'></span> <span style='color:rgb(127,128,128)'></span> <span style='color:rgb(127,128,128)'></span> <span style='color:rgb(127,128,128)'></span> <span style='color:rgb(127,128,128)'></span> <span style='color:rgb(127,128,128)'></span> <span style='color:rgb(127,128,128)'></span> <span style='color:rgb(127,128,128)'></span> <span style='color:rgb(127,128,128)'></span> <span style='color:rgb(127,128,128)'></span> <span style='color:rgb(127,128,128)'></span> <span style='color:rgb(127,128,128)'></span> <span style='color:rgb(127,128,128)'></span> <span style='color:rgb(127,128,128)'></span> <span style='color:rgb(127,128,128)'></span> <span style='color:rgb(127,128,128)'></span> <span style='color:rgb(127,128,128)'></span> <span style='color:rgb(127,128,128)'></span> <span style='color:rgb(127,128,128)'></span> <span style='color:rgb(127,128,128)'></span> <span style='color:rgb(127,128,128)'></span> <span style='color:rgb(127,128,128)'></span> <span style='color:rgb(127,128,128)'></span> <span style='color:rgb(127,128,128)'></span> <span style='color:rgb(127,128,128)'></span> <span style='color:rgb(127,128,128)'></span> <span style='color:rgb(127,128,128)'></span> <span style='color:rgb(127,128,128)'></span> <span style='color:rgb(127,128,128)'></span> <span style='color:rgb(127,128,128)'></span> <span style='color:rgb(127,128,128)'></span> <span style='color:rgb(127,128,128)'></span> <span style='color:rgb(127,128,128)'></span> <span style='color:rgb(127,128,128)'></span> <span style='color:rgb(127,128,128)'></span> <span style='color:rgb(127,128,128)'></span> <span style='color:rgb(127,128,128)'></span> <span style='color:rgb(127,128,128)'></span> <span style='color:rgb(127,128,128)'></span> <span style='color:rgb(127,128,128)'></span> <span style='color:rgb(127,128,128)'></span> <span style='color:rgb(127,128,128)'></span> <span style='color:rgb(127,128,128)'></span> <span style='color:rgb(127,128,128)'></span> <span style='color:rgb(127,128,128)'></span> <span style='color:rgb(127,128,128)'></span> <span style='color:rgb(127,128,128)'></span> <span style='color:rgb(127,128,128)'></span> <span style='color:rgb(127,128,128)'></span> <span style='color:rgb(127,128,128)'></span> <span style='color:rgb(127,128,128)'></span> <span style='color:rgb(127,128,128)'></span> <span style='color:rgb(127,128,128)'></span> <span style='color:rgb(127,128,128)'></span> <span style='color:rgb(127,128,128)'></span> <span style='color:rgb(127,128,128)'></span> <span style='color:rgb(127,128,128)'></span> <span style='color:rgb(127,128,128)'></span> <span style='color:rgb(127,128,128)'></span> <span style='color:rgb(127,128,128)'></span> <span style='color:rgb(127,128,128)'></span> <span style='color:rgb(127,128,128)'></span> <span style='color:rgb(127,128,128)'></span> <span style='color:rgb(127,128,128)'></span> <span style='color:rgb(127,128,128)'></span> <span style='color:rgb(127,128,128)'></span> <span style='color:rgb(127,128,128)'></span> <span style='color:rgb(127,128,128)'></span> <span style='color:rgb(127,128,128)'></span> <span style='color:rgb(127,128,128)'></span> <span style='color:rgb(127,128,128)'></span> <span style='color:rgb(127,128,128)'></span> <span style='color:rgb(127,128,128)'></span> <span style='color:rgb(127,128,128)'></span> <span style='color:rgb(127,128,128)'></span> <span style='color:rgb(127,128,128)'></span> <span style='color:rgb(127,128,128)'></span> <span style='color:rgb(127,128,128)'></span> <span style='color:rgb(127,128,128)'></span> <span style='color:rgb(127,128,128)'></span> <span style='color:rgb(127,128,128)'></span> <span style='color:rgb(127,128,128)'></span> <span style='color:rgb(127,128,128)'></span> <span style='color:rgb(127,128,128)'></span> <span style='color:rgb(127,128,128)'></span> <span style='color:rgb(127,128,128)'></span> <span style='color:rgb(127,128,128)'></span> <span style='color:rgb(127,128,128)'></span> <span style='color:rgb(127,128,128)'></span> <span style='color:rgb(127,128,128)'></span> <span style='color:rgb(127,128,128)'></span> <span style='color:rgb(127,128,128)'></span> <span style='color:rgb(127,128,128)'></span> <span style='color:rgb(127,128,128)'></span> <span style='color:rgb(127,128,128)'></span> <span style='color:rgb(127,128,128)'></span> <span style='color:rgb(127,128,128)'></span> <span style='color:rgb(127,128,128)'></span> <span style='color:rgb(127,128,128)'></span> <span style='color:rgb(127,128,128)'></span> <span style='color:rgb(127,128,128)'></span>"
            ],
            "text/plain": [
              "<IPython.core.display.HTML object>"
            ]
          },
          "metadata": {}
        },
        {
          "output_type": "stream",
          "name": "stdout",
          "text": [
            "====================\n",
            "LAYER 7->:\n",
            "====================\n",
            "\tToken Attributions:\n"
          ]
        },
        {
          "output_type": "display_data",
          "data": {
            "text/html": [
              " <span style='color:rgb(132,126,126)'>[CLS]</span> <span style='color:rgb(130,127,127)'>super</span> <span style='color:rgb(129,127,127)'>bowl</span> <span style='color:rgb(132,126,126)'>50</span> <span style='color:rgb(128,128,128)'>was</span> <span style='color:rgb(128,128,128)'>an</span> <span style='color:rgb(128,128,128)'>american</span> <span style='color:rgb(127,128,128)'>football</span> <span style='color:rgb(127,128,128)'>game</span> <span style='color:rgb(127,128,128)'>to</span> <span style='color:rgb(128,128,128)'>determine</span> <span style='color:rgb(127,128,128)'>the</span> <span style='color:rgb(128,128,128)'>champion</span> <span style='color:rgb(127,128,128)'>of</span> <span style='color:rgb(127,128,128)'>the</span> <span style='color:rgb(127,128,128)'>national</span> <span style='color:rgb(127,128,128)'>football</span> <span style='color:rgb(129,127,127)'>league</span> <span style='color:rgb(127,128,128)'>(</span> <span style='color:rgb(128,128,128)'>nfl</span> <span style='color:rgb(129,127,127)'>)</span> <span style='color:rgb(127,128,128)'>for</span> <span style='color:rgb(127,128,128)'>the</span> <span style='color:rgb(129,127,127)'>2015</span> <span style='color:rgb(128,128,128)'>season</span> <span style='color:rgb(131,126,126)'>.</span> <span style='color:rgb(135,124,124)'>the</span> <span style='color:rgb(132,126,126)'>american</span> <span style='color:rgb(129,127,127)'>football</span> <span style='color:rgb(135,124,124)'>conference</span> <span style='color:rgb(129,127,127)'>(</span> <span style='color:rgb(149,117,117)'>afc</span> <span style='color:rgb(131,126,126)'>)</span> <span style='color:rgb(143,120,120)'>champion</span> <span style='color:rgb(236,74,74)'>denver</span> <span style='color:rgb(255,64,64)'>broncos</span> <span style='color:rgb(137,123,123)'>defeated</span> <span style='color:rgb(130,127,127)'>the</span> <span style='color:rgb(128,128,128)'>national</span> <span style='color:rgb(127,128,128)'>football</span> <span style='color:rgb(133,125,125)'>conference</span> <span style='color:rgb(128,128,128)'>(</span> <span style='color:rgb(133,125,125)'>nfc</span> <span style='color:rgb(131,126,126)'>)</span> <span style='color:rgb(133,125,125)'>champion</span> <span style='color:rgb(178,103,103)'>carolina</span> <span style='color:rgb(161,111,111)'>panthers</span> <span style='color:rgb(131,126,126)'>24</span> <span style='color:rgb(127,128,128)'>–</span> <span style='color:rgb(133,125,125)'>10</span> <span style='color:rgb(129,127,127)'>to</span> <span style='color:rgb(129,127,127)'>earn</span> <span style='color:rgb(128,128,128)'>their</span> <span style='color:rgb(131,126,126)'>third</span> <span style='color:rgb(127,128,128)'>super</span> <span style='color:rgb(128,128,128)'>bowl</span> <span style='color:rgb(130,127,127)'>title</span> <span style='color:rgb(132,126,126)'>.</span> <span style='color:rgb(129,127,127)'>the</span> <span style='color:rgb(129,127,127)'>game</span> <span style='color:rgb(128,128,128)'>was</span> <span style='color:rgb(128,128,128)'>played</span> <span style='color:rgb(128,128,128)'>on</span> <span style='color:rgb(127,128,128)'>february</span> <span style='color:rgb(127,128,128)'>7</span> <span style='color:rgb(127,128,128)'>,</span> <span style='color:rgb(128,128,128)'>2016</span> <span style='color:rgb(127,128,128)'>,</span> <span style='color:rgb(128,128,128)'>at</span> <span style='color:rgb(131,126,126)'>levi</span> <span style='color:rgb(127,128,128)'>'</span> <span style='color:rgb(127,128,128)'>s</span> <span style='color:rgb(129,127,127)'>stadium</span> <span style='color:rgb(128,128,128)'>in</span> <span style='color:rgb(127,128,128)'>the</span> <span style='color:rgb(128,128,128)'>san</span> <span style='color:rgb(127,128,128)'>francisco</span> <span style='color:rgb(127,128,128)'>bay</span> <span style='color:rgb(128,128,128)'>area</span> <span style='color:rgb(128,128,128)'>at</span> <span style='color:rgb(128,128,128)'>santa</span> <span style='color:rgb(127,128,128)'>clara</span> <span style='color:rgb(127,128,128)'>,</span> <span style='color:rgb(131,126,126)'>california</span> <span style='color:rgb(127,128,128)'>.</span> <span style='color:rgb(127,128,128)'>as</span> <span style='color:rgb(127,128,128)'>this</span> <span style='color:rgb(127,128,128)'>was</span> <span style='color:rgb(127,128,128)'>the</span> <span style='color:rgb(129,127,127)'>50th</span> <span style='color:rgb(127,128,128)'>super</span> <span style='color:rgb(128,128,128)'>bowl</span> <span style='color:rgb(127,128,128)'>,</span> <span style='color:rgb(127,128,128)'>the</span> <span style='color:rgb(127,128,128)'>league</span> <span style='color:rgb(127,128,128)'>emphasized</span> <span style='color:rgb(127,128,128)'>the</span> <span style='color:rgb(127,128,128)'>\"</span> <span style='color:rgb(127,128,128)'>golden</span> <span style='color:rgb(127,128,128)'>anniversary</span> <span style='color:rgb(127,128,128)'>\"</span> <span style='color:rgb(127,128,128)'>with</span> <span style='color:rgb(127,128,128)'>various</span> <span style='color:rgb(127,128,128)'>gold</span> <span style='color:rgb(127,128,128)'>-</span> <span style='color:rgb(127,128,128)'>themed</span> <span style='color:rgb(127,128,128)'>initiatives</span> <span style='color:rgb(127,128,128)'>,</span> <span style='color:rgb(127,128,128)'>as</span> <span style='color:rgb(127,128,128)'>well</span> <span style='color:rgb(127,128,128)'>as</span> <span style='color:rgb(127,128,128)'>temporarily</span> <span style='color:rgb(127,128,128)'>suspend</span> <span style='color:rgb(127,128,128)'>##ing</span> <span style='color:rgb(127,128,128)'>the</span> <span style='color:rgb(127,128,128)'>tradition</span> <span style='color:rgb(127,128,128)'>of</span> <span style='color:rgb(127,128,128)'>naming</span> <span style='color:rgb(127,128,128)'>each</span> <span style='color:rgb(127,128,128)'>super</span> <span style='color:rgb(127,128,128)'>bowl</span> <span style='color:rgb(127,128,128)'>game</span> <span style='color:rgb(127,128,128)'>with</span> <span style='color:rgb(127,128,128)'>roman</span> <span style='color:rgb(127,128,128)'>nu</span> <span style='color:rgb(127,128,128)'>##meral</span> <span style='color:rgb(127,128,128)'>##s</span> <span style='color:rgb(127,128,128)'>(</span> <span style='color:rgb(127,128,128)'>under</span> <span style='color:rgb(127,128,128)'>which</span> <span style='color:rgb(127,128,128)'>the</span> <span style='color:rgb(127,128,128)'>game</span> <span style='color:rgb(127,128,128)'>would</span> <span style='color:rgb(127,128,128)'>have</span> <span style='color:rgb(127,128,128)'>been</span> <span style='color:rgb(127,128,128)'>known</span> <span style='color:rgb(127,128,128)'>as</span> <span style='color:rgb(127,128,128)'>\"</span> <span style='color:rgb(127,128,128)'>super</span> <span style='color:rgb(127,128,128)'>bowl</span> <span style='color:rgb(127,128,128)'>l</span> <span style='color:rgb(127,128,128)'>\"</span> <span style='color:rgb(127,128,128)'>)</span> <span style='color:rgb(127,128,128)'>,</span> <span style='color:rgb(127,128,128)'>so</span> <span style='color:rgb(127,128,128)'>that</span> <span style='color:rgb(127,128,128)'>the</span> <span style='color:rgb(127,128,128)'>logo</span> <span style='color:rgb(127,128,128)'>could</span> <span style='color:rgb(127,128,128)'>prominently</span> <span style='color:rgb(127,128,128)'>feature</span> <span style='color:rgb(127,128,128)'>the</span> <span style='color:rgb(127,128,128)'>arabic</span> <span style='color:rgb(127,128,128)'>nu</span> <span style='color:rgb(127,128,128)'>##meral</span> <span style='color:rgb(127,128,128)'>##s</span> <span style='color:rgb(127,128,128)'>50</span> <span style='color:rgb(129,127,127)'>.</span> <span style='color:rgb(157,113,113)'>[SEP]</span> <span style='color:rgb(161,111,111)'>which</span> <span style='color:rgb(130,127,127)'>nfl</span> <span style='color:rgb(147,118,118)'>team</span> <span style='color:rgb(143,120,120)'>represented</span> <span style='color:rgb(131,126,126)'>the</span> <span style='color:rgb(132,126,126)'>afc</span> <span style='color:rgb(129,127,127)'>at</span> <span style='color:rgb(128,128,128)'>super</span> <span style='color:rgb(128,128,128)'>bowl</span> <span style='color:rgb(131,126,126)'>50</span> <span style='color:rgb(139,122,122)'>?</span> <span style='color:rgb(157,113,113)'>[SEP]</span> <span style='color:rgb(127,128,128)'></span> <span style='color:rgb(127,128,128)'></span> <span style='color:rgb(127,128,128)'></span> <span style='color:rgb(127,128,128)'></span> <span style='color:rgb(127,128,128)'></span> <span style='color:rgb(127,128,128)'></span> <span style='color:rgb(127,128,128)'></span> <span style='color:rgb(127,128,128)'></span> <span style='color:rgb(127,128,128)'></span> <span style='color:rgb(127,128,128)'></span> <span style='color:rgb(127,128,128)'></span> <span style='color:rgb(127,128,128)'></span> <span style='color:rgb(127,128,128)'></span> <span style='color:rgb(127,128,128)'></span> <span style='color:rgb(127,128,128)'></span> <span style='color:rgb(127,128,128)'></span> <span style='color:rgb(127,128,128)'></span> <span style='color:rgb(127,128,128)'></span> <span style='color:rgb(127,128,128)'></span> <span style='color:rgb(127,128,128)'></span> <span style='color:rgb(127,128,128)'></span> <span style='color:rgb(127,128,128)'></span> <span style='color:rgb(127,128,128)'></span> <span style='color:rgb(127,128,128)'></span> <span style='color:rgb(127,128,128)'></span> <span style='color:rgb(127,128,128)'></span> <span style='color:rgb(127,128,128)'></span> <span style='color:rgb(127,128,128)'></span> <span style='color:rgb(127,128,128)'></span> <span style='color:rgb(127,128,128)'></span> <span style='color:rgb(127,128,128)'></span> <span style='color:rgb(127,128,128)'></span> <span style='color:rgb(127,128,128)'></span> <span style='color:rgb(127,128,128)'></span> <span style='color:rgb(127,128,128)'></span> <span style='color:rgb(127,128,128)'></span> <span style='color:rgb(127,128,128)'></span> <span style='color:rgb(127,128,128)'></span> <span style='color:rgb(127,128,128)'></span> <span style='color:rgb(127,128,128)'></span> <span style='color:rgb(127,128,128)'></span> <span style='color:rgb(127,128,128)'></span> <span style='color:rgb(127,128,128)'></span> <span style='color:rgb(127,128,128)'></span> <span style='color:rgb(127,128,128)'></span> <span style='color:rgb(127,128,128)'></span> <span style='color:rgb(127,128,128)'></span> <span style='color:rgb(127,128,128)'></span> <span style='color:rgb(127,128,128)'></span> <span style='color:rgb(127,128,128)'></span> <span style='color:rgb(127,128,128)'></span> <span style='color:rgb(127,128,128)'></span> <span style='color:rgb(127,128,128)'></span> <span style='color:rgb(127,128,128)'></span> <span style='color:rgb(127,128,128)'></span> <span style='color:rgb(127,128,128)'></span> <span style='color:rgb(127,128,128)'></span> <span style='color:rgb(127,128,128)'></span> <span style='color:rgb(127,128,128)'></span> <span style='color:rgb(127,128,128)'></span> <span style='color:rgb(127,128,128)'></span> <span style='color:rgb(127,128,128)'></span> <span style='color:rgb(127,128,128)'></span> <span style='color:rgb(127,128,128)'></span> <span style='color:rgb(127,128,128)'></span> <span style='color:rgb(127,128,128)'></span> <span style='color:rgb(127,128,128)'></span> <span style='color:rgb(127,128,128)'></span> <span style='color:rgb(127,128,128)'></span> <span style='color:rgb(127,128,128)'></span> <span style='color:rgb(127,128,128)'></span> <span style='color:rgb(127,128,128)'></span> <span style='color:rgb(127,128,128)'></span> <span style='color:rgb(127,128,128)'></span> <span style='color:rgb(127,128,128)'></span> <span style='color:rgb(127,128,128)'></span> <span style='color:rgb(127,128,128)'></span> <span style='color:rgb(127,128,128)'></span> <span style='color:rgb(127,128,128)'></span> <span style='color:rgb(127,128,128)'></span> <span style='color:rgb(127,128,128)'></span> <span style='color:rgb(127,128,128)'></span> <span style='color:rgb(127,128,128)'></span> <span style='color:rgb(127,128,128)'></span> <span style='color:rgb(127,128,128)'></span> <span style='color:rgb(127,128,128)'></span> <span style='color:rgb(127,128,128)'></span> <span style='color:rgb(127,128,128)'></span> <span style='color:rgb(127,128,128)'></span> <span style='color:rgb(127,128,128)'></span> <span style='color:rgb(127,128,128)'></span> <span style='color:rgb(127,128,128)'></span> <span style='color:rgb(127,128,128)'></span> <span style='color:rgb(127,128,128)'></span> <span style='color:rgb(127,128,128)'></span> <span style='color:rgb(127,128,128)'></span> <span style='color:rgb(127,128,128)'></span> <span style='color:rgb(127,128,128)'></span> <span style='color:rgb(127,128,128)'></span> <span style='color:rgb(127,128,128)'></span> <span style='color:rgb(127,128,128)'></span> <span style='color:rgb(127,128,128)'></span> <span style='color:rgb(127,128,128)'></span> <span style='color:rgb(127,128,128)'></span> <span style='color:rgb(127,128,128)'></span> <span style='color:rgb(127,128,128)'></span> <span style='color:rgb(127,128,128)'></span> <span style='color:rgb(127,128,128)'></span> <span style='color:rgb(127,128,128)'></span> <span style='color:rgb(127,128,128)'></span> <span style='color:rgb(127,128,128)'></span> <span style='color:rgb(127,128,128)'></span> <span style='color:rgb(127,128,128)'></span> <span style='color:rgb(127,128,128)'></span> <span style='color:rgb(127,128,128)'></span> <span style='color:rgb(127,128,128)'></span> <span style='color:rgb(127,128,128)'></span> <span style='color:rgb(127,128,128)'></span> <span style='color:rgb(127,128,128)'></span> <span style='color:rgb(127,128,128)'></span> <span style='color:rgb(127,128,128)'></span> <span style='color:rgb(127,128,128)'></span> <span style='color:rgb(127,128,128)'></span> <span style='color:rgb(127,128,128)'></span> <span style='color:rgb(127,128,128)'></span> <span style='color:rgb(127,128,128)'></span> <span style='color:rgb(127,128,128)'></span> <span style='color:rgb(127,128,128)'></span> <span style='color:rgb(127,128,128)'></span> <span style='color:rgb(127,128,128)'></span> <span style='color:rgb(127,128,128)'></span> <span style='color:rgb(127,128,128)'></span> <span style='color:rgb(127,128,128)'></span> <span style='color:rgb(127,128,128)'></span> <span style='color:rgb(127,128,128)'></span> <span style='color:rgb(127,128,128)'></span> <span style='color:rgb(127,128,128)'></span> <span style='color:rgb(127,128,128)'></span> <span style='color:rgb(127,128,128)'></span> <span style='color:rgb(127,128,128)'></span> <span style='color:rgb(127,128,128)'></span> <span style='color:rgb(127,128,128)'></span> <span style='color:rgb(127,128,128)'></span> <span style='color:rgb(127,128,128)'></span> <span style='color:rgb(127,128,128)'></span> <span style='color:rgb(127,128,128)'></span> <span style='color:rgb(127,128,128)'></span> <span style='color:rgb(127,128,128)'></span> <span style='color:rgb(127,128,128)'></span> <span style='color:rgb(127,128,128)'></span> <span style='color:rgb(127,128,128)'></span> <span style='color:rgb(127,128,128)'></span> <span style='color:rgb(127,128,128)'></span> <span style='color:rgb(127,128,128)'></span> <span style='color:rgb(127,128,128)'></span> <span style='color:rgb(127,128,128)'></span> <span style='color:rgb(127,128,128)'></span> <span style='color:rgb(127,128,128)'></span> <span style='color:rgb(127,128,128)'></span> <span style='color:rgb(127,128,128)'></span> <span style='color:rgb(127,128,128)'></span> <span style='color:rgb(127,128,128)'></span> <span style='color:rgb(127,128,128)'></span> <span style='color:rgb(127,128,128)'></span> <span style='color:rgb(127,128,128)'></span> <span style='color:rgb(127,128,128)'></span> <span style='color:rgb(127,128,128)'></span> <span style='color:rgb(127,128,128)'></span> <span style='color:rgb(127,128,128)'></span> <span style='color:rgb(127,128,128)'></span> <span style='color:rgb(127,128,128)'></span> <span style='color:rgb(127,128,128)'></span> <span style='color:rgb(127,128,128)'></span> <span style='color:rgb(127,128,128)'></span> <span style='color:rgb(127,128,128)'></span> <span style='color:rgb(127,128,128)'></span> <span style='color:rgb(127,128,128)'></span> <span style='color:rgb(127,128,128)'></span> <span style='color:rgb(127,128,128)'></span> <span style='color:rgb(127,128,128)'></span> <span style='color:rgb(127,128,128)'></span> <span style='color:rgb(127,128,128)'></span> <span style='color:rgb(127,128,128)'></span> <span style='color:rgb(127,128,128)'></span> <span style='color:rgb(127,128,128)'></span> <span style='color:rgb(127,128,128)'></span> <span style='color:rgb(127,128,128)'></span> <span style='color:rgb(127,128,128)'></span> <span style='color:rgb(127,128,128)'></span> <span style='color:rgb(127,128,128)'></span> <span style='color:rgb(127,128,128)'></span> <span style='color:rgb(127,128,128)'></span> <span style='color:rgb(127,128,128)'></span> <span style='color:rgb(127,128,128)'></span> <span style='color:rgb(127,128,128)'></span> <span style='color:rgb(127,128,128)'></span> <span style='color:rgb(127,128,128)'></span> <span style='color:rgb(127,128,128)'></span> <span style='color:rgb(127,128,128)'></span> <span style='color:rgb(127,128,128)'></span> <span style='color:rgb(127,128,128)'></span> <span style='color:rgb(127,128,128)'></span> <span style='color:rgb(127,128,128)'></span> <span style='color:rgb(127,128,128)'></span> <span style='color:rgb(127,128,128)'></span> <span style='color:rgb(127,128,128)'></span> <span style='color:rgb(127,128,128)'></span> <span style='color:rgb(127,128,128)'></span> <span style='color:rgb(127,128,128)'></span> <span style='color:rgb(127,128,128)'></span> <span style='color:rgb(127,128,128)'></span> <span style='color:rgb(127,128,128)'></span> <span style='color:rgb(127,128,128)'></span>"
            ],
            "text/plain": [
              "<IPython.core.display.HTML object>"
            ]
          },
          "metadata": {}
        },
        {
          "output_type": "stream",
          "name": "stdout",
          "text": [
            "====================\n",
            "LAYER 8->:\n",
            "====================\n",
            "\tToken Attributions:\n"
          ]
        },
        {
          "output_type": "display_data",
          "data": {
            "text/html": [
              " <span style='color:rgb(129,127,127)'>[CLS]</span> <span style='color:rgb(131,126,126)'>super</span> <span style='color:rgb(127,128,128)'>bowl</span> <span style='color:rgb(130,127,127)'>50</span> <span style='color:rgb(128,128,128)'>was</span> <span style='color:rgb(128,128,128)'>an</span> <span style='color:rgb(129,127,127)'>american</span> <span style='color:rgb(127,128,128)'>football</span> <span style='color:rgb(127,128,128)'>game</span> <span style='color:rgb(127,128,128)'>to</span> <span style='color:rgb(128,128,128)'>determine</span> <span style='color:rgb(128,128,128)'>the</span> <span style='color:rgb(129,127,127)'>champion</span> <span style='color:rgb(127,128,128)'>of</span> <span style='color:rgb(127,128,128)'>the</span> <span style='color:rgb(128,128,128)'>national</span> <span style='color:rgb(127,128,128)'>football</span> <span style='color:rgb(129,127,127)'>league</span> <span style='color:rgb(127,128,128)'>(</span> <span style='color:rgb(129,127,127)'>nfl</span> <span style='color:rgb(128,128,128)'>)</span> <span style='color:rgb(127,128,128)'>for</span> <span style='color:rgb(127,128,128)'>the</span> <span style='color:rgb(130,127,127)'>2015</span> <span style='color:rgb(128,128,128)'>season</span> <span style='color:rgb(128,128,128)'>.</span> <span style='color:rgb(131,126,126)'>the</span> <span style='color:rgb(134,125,125)'>american</span> <span style='color:rgb(128,128,128)'>football</span> <span style='color:rgb(130,127,127)'>conference</span> <span style='color:rgb(128,128,128)'>(</span> <span style='color:rgb(136,124,124)'>afc</span> <span style='color:rgb(129,127,127)'>)</span> <span style='color:rgb(135,124,124)'>champion</span> <span style='color:rgb(255,64,64)'>denver</span> <span style='color:rgb(222,81,81)'>broncos</span> <span style='color:rgb(130,127,127)'>defeated</span> <span style='color:rgb(128,128,128)'>the</span> <span style='color:rgb(128,128,128)'>national</span> <span style='color:rgb(127,128,128)'>football</span> <span style='color:rgb(129,127,127)'>conference</span> <span style='color:rgb(127,128,128)'>(</span> <span style='color:rgb(130,127,127)'>nfc</span> <span style='color:rgb(129,127,127)'>)</span> <span style='color:rgb(130,127,127)'>champion</span> <span style='color:rgb(162,111,111)'>carolina</span> <span style='color:rgb(150,117,117)'>panthers</span> <span style='color:rgb(131,126,126)'>24</span> <span style='color:rgb(127,128,128)'>–</span> <span style='color:rgb(131,126,126)'>10</span> <span style='color:rgb(129,127,127)'>to</span> <span style='color:rgb(128,128,128)'>earn</span> <span style='color:rgb(128,128,128)'>their</span> <span style='color:rgb(129,127,127)'>third</span> <span style='color:rgb(127,128,128)'>super</span> <span style='color:rgb(128,128,128)'>bowl</span> <span style='color:rgb(128,128,128)'>title</span> <span style='color:rgb(128,128,128)'>.</span> <span style='color:rgb(127,128,128)'>the</span> <span style='color:rgb(128,128,128)'>game</span> <span style='color:rgb(127,128,128)'>was</span> <span style='color:rgb(127,128,128)'>played</span> <span style='color:rgb(127,128,128)'>on</span> <span style='color:rgb(127,128,128)'>february</span> <span style='color:rgb(127,128,128)'>7</span> <span style='color:rgb(127,128,128)'>,</span> <span style='color:rgb(128,128,128)'>2016</span> <span style='color:rgb(127,128,128)'>,</span> <span style='color:rgb(127,128,128)'>at</span> <span style='color:rgb(130,127,127)'>levi</span> <span style='color:rgb(127,128,128)'>'</span> <span style='color:rgb(127,128,128)'>s</span> <span style='color:rgb(128,128,128)'>stadium</span> <span style='color:rgb(127,128,128)'>in</span> <span style='color:rgb(127,128,128)'>the</span> <span style='color:rgb(127,128,128)'>san</span> <span style='color:rgb(127,128,128)'>francisco</span> <span style='color:rgb(127,128,128)'>bay</span> <span style='color:rgb(127,128,128)'>area</span> <span style='color:rgb(127,128,128)'>at</span> <span style='color:rgb(128,128,128)'>santa</span> <span style='color:rgb(127,128,128)'>clara</span> <span style='color:rgb(127,128,128)'>,</span> <span style='color:rgb(130,127,127)'>california</span> <span style='color:rgb(127,128,128)'>.</span> <span style='color:rgb(127,128,128)'>as</span> <span style='color:rgb(127,128,128)'>this</span> <span style='color:rgb(127,128,128)'>was</span> <span style='color:rgb(127,128,128)'>the</span> <span style='color:rgb(130,127,127)'>50th</span> <span style='color:rgb(127,128,128)'>super</span> <span style='color:rgb(127,128,128)'>bowl</span> <span style='color:rgb(127,128,128)'>,</span> <span style='color:rgb(127,128,128)'>the</span> <span style='color:rgb(128,128,128)'>league</span> <span style='color:rgb(127,128,128)'>emphasized</span> <span style='color:rgb(127,128,128)'>the</span> <span style='color:rgb(127,128,128)'>\"</span> <span style='color:rgb(128,128,128)'>golden</span> <span style='color:rgb(127,128,128)'>anniversary</span> <span style='color:rgb(127,128,128)'>\"</span> <span style='color:rgb(127,128,128)'>with</span> <span style='color:rgb(127,128,128)'>various</span> <span style='color:rgb(127,128,128)'>gold</span> <span style='color:rgb(127,128,128)'>-</span> <span style='color:rgb(127,128,128)'>themed</span> <span style='color:rgb(127,128,128)'>initiatives</span> <span style='color:rgb(127,128,128)'>,</span> <span style='color:rgb(127,128,128)'>as</span> <span style='color:rgb(127,128,128)'>well</span> <span style='color:rgb(127,128,128)'>as</span> <span style='color:rgb(127,128,128)'>temporarily</span> <span style='color:rgb(127,128,128)'>suspend</span> <span style='color:rgb(127,128,128)'>##ing</span> <span style='color:rgb(127,128,128)'>the</span> <span style='color:rgb(127,128,128)'>tradition</span> <span style='color:rgb(127,128,128)'>of</span> <span style='color:rgb(127,128,128)'>naming</span> <span style='color:rgb(127,128,128)'>each</span> <span style='color:rgb(127,128,128)'>super</span> <span style='color:rgb(127,128,128)'>bowl</span> <span style='color:rgb(127,128,128)'>game</span> <span style='color:rgb(127,128,128)'>with</span> <span style='color:rgb(127,128,128)'>roman</span> <span style='color:rgb(127,128,128)'>nu</span> <span style='color:rgb(127,128,128)'>##meral</span> <span style='color:rgb(127,128,128)'>##s</span> <span style='color:rgb(127,128,128)'>(</span> <span style='color:rgb(127,128,128)'>under</span> <span style='color:rgb(127,128,128)'>which</span> <span style='color:rgb(127,128,128)'>the</span> <span style='color:rgb(127,128,128)'>game</span> <span style='color:rgb(127,128,128)'>would</span> <span style='color:rgb(127,128,128)'>have</span> <span style='color:rgb(127,128,128)'>been</span> <span style='color:rgb(127,128,128)'>known</span> <span style='color:rgb(127,128,128)'>as</span> <span style='color:rgb(127,128,128)'>\"</span> <span style='color:rgb(127,128,128)'>super</span> <span style='color:rgb(127,128,128)'>bowl</span> <span style='color:rgb(127,128,128)'>l</span> <span style='color:rgb(127,128,128)'>\"</span> <span style='color:rgb(127,128,128)'>)</span> <span style='color:rgb(127,128,128)'>,</span> <span style='color:rgb(127,128,128)'>so</span> <span style='color:rgb(127,128,128)'>that</span> <span style='color:rgb(127,128,128)'>the</span> <span style='color:rgb(127,128,128)'>logo</span> <span style='color:rgb(127,128,128)'>could</span> <span style='color:rgb(127,128,128)'>prominently</span> <span style='color:rgb(127,128,128)'>feature</span> <span style='color:rgb(127,128,128)'>the</span> <span style='color:rgb(127,128,128)'>arabic</span> <span style='color:rgb(127,128,128)'>nu</span> <span style='color:rgb(127,128,128)'>##meral</span> <span style='color:rgb(127,128,128)'>##s</span> <span style='color:rgb(127,128,128)'>50</span> <span style='color:rgb(129,127,127)'>.</span> <span style='color:rgb(142,121,121)'>[SEP]</span> <span style='color:rgb(148,118,118)'>which</span> <span style='color:rgb(133,125,125)'>nfl</span> <span style='color:rgb(146,119,119)'>team</span> <span style='color:rgb(137,123,123)'>represented</span> <span style='color:rgb(133,125,125)'>the</span> <span style='color:rgb(133,125,125)'>afc</span> <span style='color:rgb(129,127,127)'>at</span> <span style='color:rgb(129,127,127)'>super</span> <span style='color:rgb(128,128,128)'>bowl</span> <span style='color:rgb(132,126,126)'>50</span> <span style='color:rgb(133,125,125)'>?</span> <span style='color:rgb(142,121,121)'>[SEP]</span> <span style='color:rgb(127,128,128)'></span> <span style='color:rgb(127,128,128)'></span> <span style='color:rgb(127,128,128)'></span> <span style='color:rgb(127,128,128)'></span> <span style='color:rgb(127,128,128)'></span> <span style='color:rgb(127,128,128)'></span> <span style='color:rgb(127,128,128)'></span> <span style='color:rgb(127,128,128)'></span> <span style='color:rgb(127,128,128)'></span> <span style='color:rgb(127,128,128)'></span> <span style='color:rgb(127,128,128)'></span> <span style='color:rgb(127,128,128)'></span> <span style='color:rgb(127,128,128)'></span> <span style='color:rgb(127,128,128)'></span> <span style='color:rgb(127,128,128)'></span> <span style='color:rgb(127,128,128)'></span> <span style='color:rgb(127,128,128)'></span> <span style='color:rgb(127,128,128)'></span> <span style='color:rgb(127,128,128)'></span> <span style='color:rgb(127,128,128)'></span> <span style='color:rgb(127,128,128)'></span> <span style='color:rgb(127,128,128)'></span> <span style='color:rgb(127,128,128)'></span> <span style='color:rgb(127,128,128)'></span> <span style='color:rgb(127,128,128)'></span> <span style='color:rgb(127,128,128)'></span> <span style='color:rgb(127,128,128)'></span> <span style='color:rgb(127,128,128)'></span> <span style='color:rgb(127,128,128)'></span> <span style='color:rgb(127,128,128)'></span> <span style='color:rgb(127,128,128)'></span> <span style='color:rgb(127,128,128)'></span> <span style='color:rgb(127,128,128)'></span> <span style='color:rgb(127,128,128)'></span> <span style='color:rgb(127,128,128)'></span> <span style='color:rgb(127,128,128)'></span> <span style='color:rgb(127,128,128)'></span> <span style='color:rgb(127,128,128)'></span> <span style='color:rgb(127,128,128)'></span> <span style='color:rgb(127,128,128)'></span> <span style='color:rgb(127,128,128)'></span> <span style='color:rgb(127,128,128)'></span> <span style='color:rgb(127,128,128)'></span> <span style='color:rgb(127,128,128)'></span> <span style='color:rgb(127,128,128)'></span> <span style='color:rgb(127,128,128)'></span> <span style='color:rgb(127,128,128)'></span> <span style='color:rgb(127,128,128)'></span> <span style='color:rgb(127,128,128)'></span> <span style='color:rgb(127,128,128)'></span> <span style='color:rgb(127,128,128)'></span> <span style='color:rgb(127,128,128)'></span> <span style='color:rgb(127,128,128)'></span> <span style='color:rgb(127,128,128)'></span> <span style='color:rgb(127,128,128)'></span> <span style='color:rgb(127,128,128)'></span> <span style='color:rgb(127,128,128)'></span> <span style='color:rgb(127,128,128)'></span> <span style='color:rgb(127,128,128)'></span> <span style='color:rgb(127,128,128)'></span> <span style='color:rgb(127,128,128)'></span> <span style='color:rgb(127,128,128)'></span> <span style='color:rgb(127,128,128)'></span> <span style='color:rgb(127,128,128)'></span> <span style='color:rgb(127,128,128)'></span> <span style='color:rgb(127,128,128)'></span> <span style='color:rgb(127,128,128)'></span> <span style='color:rgb(127,128,128)'></span> <span style='color:rgb(127,128,128)'></span> <span style='color:rgb(127,128,128)'></span> <span style='color:rgb(127,128,128)'></span> <span style='color:rgb(127,128,128)'></span> <span style='color:rgb(127,128,128)'></span> <span style='color:rgb(127,128,128)'></span> <span style='color:rgb(127,128,128)'></span> <span style='color:rgb(127,128,128)'></span> <span style='color:rgb(127,128,128)'></span> <span style='color:rgb(127,128,128)'></span> <span style='color:rgb(127,128,128)'></span> <span style='color:rgb(127,128,128)'></span> <span style='color:rgb(127,128,128)'></span> <span style='color:rgb(127,128,128)'></span> <span style='color:rgb(127,128,128)'></span> <span style='color:rgb(127,128,128)'></span> <span style='color:rgb(127,128,128)'></span> <span style='color:rgb(127,128,128)'></span> <span style='color:rgb(127,128,128)'></span> <span style='color:rgb(127,128,128)'></span> <span style='color:rgb(127,128,128)'></span> <span style='color:rgb(127,128,128)'></span> <span style='color:rgb(127,128,128)'></span> <span style='color:rgb(127,128,128)'></span> <span style='color:rgb(127,128,128)'></span> <span style='color:rgb(127,128,128)'></span> <span style='color:rgb(127,128,128)'></span> <span style='color:rgb(127,128,128)'></span> <span style='color:rgb(127,128,128)'></span> <span style='color:rgb(127,128,128)'></span> <span style='color:rgb(127,128,128)'></span> <span style='color:rgb(127,128,128)'></span> <span style='color:rgb(127,128,128)'></span> <span style='color:rgb(127,128,128)'></span> <span style='color:rgb(127,128,128)'></span> <span style='color:rgb(127,128,128)'></span> <span style='color:rgb(127,128,128)'></span> <span style='color:rgb(127,128,128)'></span> <span style='color:rgb(127,128,128)'></span> <span style='color:rgb(127,128,128)'></span> <span style='color:rgb(127,128,128)'></span> <span style='color:rgb(127,128,128)'></span> <span style='color:rgb(127,128,128)'></span> <span style='color:rgb(127,128,128)'></span> <span style='color:rgb(127,128,128)'></span> <span style='color:rgb(127,128,128)'></span> <span style='color:rgb(127,128,128)'></span> <span style='color:rgb(127,128,128)'></span> <span style='color:rgb(127,128,128)'></span> <span style='color:rgb(127,128,128)'></span> <span style='color:rgb(127,128,128)'></span> <span style='color:rgb(127,128,128)'></span> <span style='color:rgb(127,128,128)'></span> <span style='color:rgb(127,128,128)'></span> <span style='color:rgb(127,128,128)'></span> <span style='color:rgb(127,128,128)'></span> <span style='color:rgb(127,128,128)'></span> <span style='color:rgb(127,128,128)'></span> <span style='color:rgb(127,128,128)'></span> <span style='color:rgb(127,128,128)'></span> <span style='color:rgb(127,128,128)'></span> <span style='color:rgb(127,128,128)'></span> <span style='color:rgb(127,128,128)'></span> <span style='color:rgb(127,128,128)'></span> <span style='color:rgb(127,128,128)'></span> <span style='color:rgb(127,128,128)'></span> <span style='color:rgb(127,128,128)'></span> <span style='color:rgb(127,128,128)'></span> <span style='color:rgb(127,128,128)'></span> <span style='color:rgb(127,128,128)'></span> <span style='color:rgb(127,128,128)'></span> <span style='color:rgb(127,128,128)'></span> <span style='color:rgb(127,128,128)'></span> <span style='color:rgb(127,128,128)'></span> <span style='color:rgb(127,128,128)'></span> <span style='color:rgb(127,128,128)'></span> <span style='color:rgb(127,128,128)'></span> <span style='color:rgb(127,128,128)'></span> <span style='color:rgb(127,128,128)'></span> <span style='color:rgb(127,128,128)'></span> <span style='color:rgb(127,128,128)'></span> <span style='color:rgb(127,128,128)'></span> <span style='color:rgb(127,128,128)'></span> <span style='color:rgb(127,128,128)'></span> <span style='color:rgb(127,128,128)'></span> <span style='color:rgb(127,128,128)'></span> <span style='color:rgb(127,128,128)'></span> <span style='color:rgb(127,128,128)'></span> <span style='color:rgb(127,128,128)'></span> <span style='color:rgb(127,128,128)'></span> <span style='color:rgb(127,128,128)'></span> <span style='color:rgb(127,128,128)'></span> <span style='color:rgb(127,128,128)'></span> <span style='color:rgb(127,128,128)'></span> <span style='color:rgb(127,128,128)'></span> <span style='color:rgb(127,128,128)'></span> <span style='color:rgb(127,128,128)'></span> <span style='color:rgb(127,128,128)'></span> <span style='color:rgb(127,128,128)'></span> <span style='color:rgb(127,128,128)'></span> <span style='color:rgb(127,128,128)'></span> <span style='color:rgb(127,128,128)'></span> <span style='color:rgb(127,128,128)'></span> <span style='color:rgb(127,128,128)'></span> <span style='color:rgb(127,128,128)'></span> <span style='color:rgb(127,128,128)'></span> <span style='color:rgb(127,128,128)'></span> <span style='color:rgb(127,128,128)'></span> <span style='color:rgb(127,128,128)'></span> <span style='color:rgb(127,128,128)'></span> <span style='color:rgb(127,128,128)'></span> <span style='color:rgb(127,128,128)'></span> <span style='color:rgb(127,128,128)'></span> <span style='color:rgb(127,128,128)'></span> <span style='color:rgb(127,128,128)'></span> <span style='color:rgb(127,128,128)'></span> <span style='color:rgb(127,128,128)'></span> <span style='color:rgb(127,128,128)'></span> <span style='color:rgb(127,128,128)'></span> <span style='color:rgb(127,128,128)'></span> <span style='color:rgb(127,128,128)'></span> <span style='color:rgb(127,128,128)'></span> <span style='color:rgb(127,128,128)'></span> <span style='color:rgb(127,128,128)'></span> <span style='color:rgb(127,128,128)'></span> <span style='color:rgb(127,128,128)'></span> <span style='color:rgb(127,128,128)'></span> <span style='color:rgb(127,128,128)'></span> <span style='color:rgb(127,128,128)'></span> <span style='color:rgb(127,128,128)'></span> <span style='color:rgb(127,128,128)'></span> <span style='color:rgb(127,128,128)'></span> <span style='color:rgb(127,128,128)'></span> <span style='color:rgb(127,128,128)'></span> <span style='color:rgb(127,128,128)'></span> <span style='color:rgb(127,128,128)'></span> <span style='color:rgb(127,128,128)'></span> <span style='color:rgb(127,128,128)'></span> <span style='color:rgb(127,128,128)'></span> <span style='color:rgb(127,128,128)'></span> <span style='color:rgb(127,128,128)'></span> <span style='color:rgb(127,128,128)'></span> <span style='color:rgb(127,128,128)'></span> <span style='color:rgb(127,128,128)'></span> <span style='color:rgb(127,128,128)'></span>"
            ],
            "text/plain": [
              "<IPython.core.display.HTML object>"
            ]
          },
          "metadata": {}
        },
        {
          "output_type": "stream",
          "name": "stdout",
          "text": [
            "====================\n",
            "LAYER 9->:\n",
            "====================\n",
            "\tToken Attributions:\n"
          ]
        },
        {
          "output_type": "display_data",
          "data": {
            "text/html": [
              " <span style='color:rgb(136,124,124)'>[CLS]</span> <span style='color:rgb(130,127,127)'>super</span> <span style='color:rgb(127,128,128)'>bowl</span> <span style='color:rgb(129,127,127)'>50</span> <span style='color:rgb(127,128,128)'>was</span> <span style='color:rgb(128,128,128)'>an</span> <span style='color:rgb(129,127,127)'>american</span> <span style='color:rgb(128,128,128)'>football</span> <span style='color:rgb(128,128,128)'>game</span> <span style='color:rgb(127,128,128)'>to</span> <span style='color:rgb(128,128,128)'>determine</span> <span style='color:rgb(128,128,128)'>the</span> <span style='color:rgb(130,127,127)'>champion</span> <span style='color:rgb(127,128,128)'>of</span> <span style='color:rgb(127,128,128)'>the</span> <span style='color:rgb(129,127,127)'>national</span> <span style='color:rgb(127,128,128)'>football</span> <span style='color:rgb(129,127,127)'>league</span> <span style='color:rgb(127,128,128)'>(</span> <span style='color:rgb(130,127,127)'>nfl</span> <span style='color:rgb(129,127,127)'>)</span> <span style='color:rgb(127,128,128)'>for</span> <span style='color:rgb(128,128,128)'>the</span> <span style='color:rgb(134,125,125)'>2015</span> <span style='color:rgb(129,127,127)'>season</span> <span style='color:rgb(128,128,128)'>.</span> <span style='color:rgb(136,124,124)'>the</span> <span style='color:rgb(137,123,123)'>american</span> <span style='color:rgb(128,128,128)'>football</span> <span style='color:rgb(129,127,127)'>conference</span> <span style='color:rgb(127,128,128)'>(</span> <span style='color:rgb(130,127,127)'>afc</span> <span style='color:rgb(130,127,127)'>)</span> <span style='color:rgb(140,122,122)'>champion</span> <span style='color:rgb(255,64,64)'>denver</span> <span style='color:rgb(211,86,86)'>broncos</span> <span style='color:rgb(129,127,127)'>defeated</span> <span style='color:rgb(128,128,128)'>the</span> <span style='color:rgb(128,128,128)'>national</span> <span style='color:rgb(127,128,128)'>football</span> <span style='color:rgb(128,128,128)'>conference</span> <span style='color:rgb(127,128,128)'>(</span> <span style='color:rgb(130,127,127)'>nfc</span> <span style='color:rgb(128,128,128)'>)</span> <span style='color:rgb(129,127,127)'>champion</span> <span style='color:rgb(159,112,112)'>carolina</span> <span style='color:rgb(147,118,118)'>panthers</span> <span style='color:rgb(133,125,125)'>24</span> <span style='color:rgb(127,128,128)'>–</span> <span style='color:rgb(136,124,124)'>10</span> <span style='color:rgb(130,127,127)'>to</span> <span style='color:rgb(128,128,128)'>earn</span> <span style='color:rgb(128,128,128)'>their</span> <span style='color:rgb(135,124,124)'>third</span> <span style='color:rgb(128,128,128)'>super</span> <span style='color:rgb(128,128,128)'>bowl</span> <span style='color:rgb(128,128,128)'>title</span> <span style='color:rgb(128,128,128)'>.</span> <span style='color:rgb(127,128,128)'>the</span> <span style='color:rgb(128,128,128)'>game</span> <span style='color:rgb(127,128,128)'>was</span> <span style='color:rgb(127,128,128)'>played</span> <span style='color:rgb(127,128,128)'>on</span> <span style='color:rgb(128,128,128)'>february</span> <span style='color:rgb(127,128,128)'>7</span> <span style='color:rgb(127,128,128)'>,</span> <span style='color:rgb(130,127,127)'>2016</span> <span style='color:rgb(127,128,128)'>,</span> <span style='color:rgb(127,128,128)'>at</span> <span style='color:rgb(128,128,128)'>levi</span> <span style='color:rgb(127,128,128)'>'</span> <span style='color:rgb(127,128,128)'>s</span> <span style='color:rgb(128,128,128)'>stadium</span> <span style='color:rgb(127,128,128)'>in</span> <span style='color:rgb(127,128,128)'>the</span> <span style='color:rgb(127,128,128)'>san</span> <span style='color:rgb(127,128,128)'>francisco</span> <span style='color:rgb(127,128,128)'>bay</span> <span style='color:rgb(127,128,128)'>area</span> <span style='color:rgb(127,128,128)'>at</span> <span style='color:rgb(128,128,128)'>santa</span> <span style='color:rgb(127,128,128)'>clara</span> <span style='color:rgb(127,128,128)'>,</span> <span style='color:rgb(130,127,127)'>california</span> <span style='color:rgb(128,128,128)'>.</span> <span style='color:rgb(127,128,128)'>as</span> <span style='color:rgb(127,128,128)'>this</span> <span style='color:rgb(127,128,128)'>was</span> <span style='color:rgb(128,128,128)'>the</span> <span style='color:rgb(135,124,124)'>50th</span> <span style='color:rgb(127,128,128)'>super</span> <span style='color:rgb(128,128,128)'>bowl</span> <span style='color:rgb(127,128,128)'>,</span> <span style='color:rgb(127,128,128)'>the</span> <span style='color:rgb(127,128,128)'>league</span> <span style='color:rgb(127,128,128)'>emphasized</span> <span style='color:rgb(127,128,128)'>the</span> <span style='color:rgb(127,128,128)'>\"</span> <span style='color:rgb(128,128,128)'>golden</span> <span style='color:rgb(128,128,128)'>anniversary</span> <span style='color:rgb(127,128,128)'>\"</span> <span style='color:rgb(127,128,128)'>with</span> <span style='color:rgb(127,128,128)'>various</span> <span style='color:rgb(128,128,128)'>gold</span> <span style='color:rgb(127,128,128)'>-</span> <span style='color:rgb(127,128,128)'>themed</span> <span style='color:rgb(127,128,128)'>initiatives</span> <span style='color:rgb(127,128,128)'>,</span> <span style='color:rgb(127,128,128)'>as</span> <span style='color:rgb(127,128,128)'>well</span> <span style='color:rgb(127,128,128)'>as</span> <span style='color:rgb(127,128,128)'>temporarily</span> <span style='color:rgb(127,128,128)'>suspend</span> <span style='color:rgb(127,128,128)'>##ing</span> <span style='color:rgb(127,128,128)'>the</span> <span style='color:rgb(127,128,128)'>tradition</span> <span style='color:rgb(127,128,128)'>of</span> <span style='color:rgb(127,128,128)'>naming</span> <span style='color:rgb(127,128,128)'>each</span> <span style='color:rgb(127,128,128)'>super</span> <span style='color:rgb(127,128,128)'>bowl</span> <span style='color:rgb(127,128,128)'>game</span> <span style='color:rgb(127,128,128)'>with</span> <span style='color:rgb(127,128,128)'>roman</span> <span style='color:rgb(127,128,128)'>nu</span> <span style='color:rgb(127,128,128)'>##meral</span> <span style='color:rgb(127,128,128)'>##s</span> <span style='color:rgb(127,128,128)'>(</span> <span style='color:rgb(127,128,128)'>under</span> <span style='color:rgb(127,128,128)'>which</span> <span style='color:rgb(127,128,128)'>the</span> <span style='color:rgb(127,128,128)'>game</span> <span style='color:rgb(127,128,128)'>would</span> <span style='color:rgb(127,128,128)'>have</span> <span style='color:rgb(127,128,128)'>been</span> <span style='color:rgb(127,128,128)'>known</span> <span style='color:rgb(127,128,128)'>as</span> <span style='color:rgb(127,128,128)'>\"</span> <span style='color:rgb(127,128,128)'>super</span> <span style='color:rgb(127,128,128)'>bowl</span> <span style='color:rgb(127,128,128)'>l</span> <span style='color:rgb(127,128,128)'>\"</span> <span style='color:rgb(127,128,128)'>)</span> <span style='color:rgb(127,128,128)'>,</span> <span style='color:rgb(127,128,128)'>so</span> <span style='color:rgb(127,128,128)'>that</span> <span style='color:rgb(127,128,128)'>the</span> <span style='color:rgb(127,128,128)'>logo</span> <span style='color:rgb(127,128,128)'>could</span> <span style='color:rgb(127,128,128)'>prominently</span> <span style='color:rgb(127,128,128)'>feature</span> <span style='color:rgb(127,128,128)'>the</span> <span style='color:rgb(127,128,128)'>arabic</span> <span style='color:rgb(127,128,128)'>nu</span> <span style='color:rgb(127,128,128)'>##meral</span> <span style='color:rgb(127,128,128)'>##s</span> <span style='color:rgb(127,128,128)'>50</span> <span style='color:rgb(129,127,127)'>.</span> <span style='color:rgb(128,128,128)'>[SEP]</span> <span style='color:rgb(177,103,103)'>which</span> <span style='color:rgb(131,126,126)'>nfl</span> <span style='color:rgb(168,108,108)'>team</span> <span style='color:rgb(132,126,126)'>represented</span> <span style='color:rgb(132,126,126)'>the</span> <span style='color:rgb(143,120,120)'>afc</span> <span style='color:rgb(129,127,127)'>at</span> <span style='color:rgb(130,127,127)'>super</span> <span style='color:rgb(129,127,127)'>bowl</span> <span style='color:rgb(130,127,127)'>50</span> <span style='color:rgb(146,119,119)'>?</span> <span style='color:rgb(128,128,128)'>[SEP]</span> <span style='color:rgb(127,128,128)'></span> <span style='color:rgb(127,128,128)'></span> <span style='color:rgb(127,128,128)'></span> <span style='color:rgb(127,128,128)'></span> <span style='color:rgb(127,128,128)'></span> <span style='color:rgb(127,128,128)'></span> <span style='color:rgb(127,128,128)'></span> <span style='color:rgb(127,128,128)'></span> <span style='color:rgb(127,128,128)'></span> <span style='color:rgb(127,128,128)'></span> <span style='color:rgb(127,128,128)'></span> <span style='color:rgb(127,128,128)'></span> <span style='color:rgb(127,128,128)'></span> <span style='color:rgb(127,128,128)'></span> <span style='color:rgb(127,128,128)'></span> <span style='color:rgb(127,128,128)'></span> <span style='color:rgb(127,128,128)'></span> <span style='color:rgb(127,128,128)'></span> <span style='color:rgb(127,128,128)'></span> <span style='color:rgb(127,128,128)'></span> <span style='color:rgb(127,128,128)'></span> <span style='color:rgb(127,128,128)'></span> <span style='color:rgb(127,128,128)'></span> <span style='color:rgb(127,128,128)'></span> <span style='color:rgb(127,128,128)'></span> <span style='color:rgb(127,128,128)'></span> <span style='color:rgb(127,128,128)'></span> <span style='color:rgb(127,128,128)'></span> <span style='color:rgb(127,128,128)'></span> <span style='color:rgb(127,128,128)'></span> <span style='color:rgb(127,128,128)'></span> <span style='color:rgb(127,128,128)'></span> <span style='color:rgb(127,128,128)'></span> <span style='color:rgb(127,128,128)'></span> <span style='color:rgb(127,128,128)'></span> <span style='color:rgb(127,128,128)'></span> <span style='color:rgb(127,128,128)'></span> <span style='color:rgb(127,128,128)'></span> <span style='color:rgb(127,128,128)'></span> <span style='color:rgb(127,128,128)'></span> <span style='color:rgb(127,128,128)'></span> <span style='color:rgb(127,128,128)'></span> <span style='color:rgb(127,128,128)'></span> <span style='color:rgb(127,128,128)'></span> <span style='color:rgb(127,128,128)'></span> <span style='color:rgb(127,128,128)'></span> <span style='color:rgb(127,128,128)'></span> <span style='color:rgb(127,128,128)'></span> <span style='color:rgb(127,128,128)'></span> <span style='color:rgb(127,128,128)'></span> <span style='color:rgb(127,128,128)'></span> <span style='color:rgb(127,128,128)'></span> <span style='color:rgb(127,128,128)'></span> <span style='color:rgb(127,128,128)'></span> <span style='color:rgb(127,128,128)'></span> <span style='color:rgb(127,128,128)'></span> <span style='color:rgb(127,128,128)'></span> <span style='color:rgb(127,128,128)'></span> <span style='color:rgb(127,128,128)'></span> <span style='color:rgb(127,128,128)'></span> <span style='color:rgb(127,128,128)'></span> <span style='color:rgb(127,128,128)'></span> <span style='color:rgb(127,128,128)'></span> <span style='color:rgb(127,128,128)'></span> <span style='color:rgb(127,128,128)'></span> <span style='color:rgb(127,128,128)'></span> <span style='color:rgb(127,128,128)'></span> <span style='color:rgb(127,128,128)'></span> <span style='color:rgb(127,128,128)'></span> <span style='color:rgb(127,128,128)'></span> <span style='color:rgb(127,128,128)'></span> <span style='color:rgb(127,128,128)'></span> <span style='color:rgb(127,128,128)'></span> <span style='color:rgb(127,128,128)'></span> <span style='color:rgb(127,128,128)'></span> <span style='color:rgb(127,128,128)'></span> <span style='color:rgb(127,128,128)'></span> <span style='color:rgb(127,128,128)'></span> <span style='color:rgb(127,128,128)'></span> <span style='color:rgb(127,128,128)'></span> <span style='color:rgb(127,128,128)'></span> <span style='color:rgb(127,128,128)'></span> <span style='color:rgb(127,128,128)'></span> <span style='color:rgb(127,128,128)'></span> <span style='color:rgb(127,128,128)'></span> <span style='color:rgb(127,128,128)'></span> <span style='color:rgb(127,128,128)'></span> <span style='color:rgb(127,128,128)'></span> <span style='color:rgb(127,128,128)'></span> <span style='color:rgb(127,128,128)'></span> <span style='color:rgb(127,128,128)'></span> <span style='color:rgb(127,128,128)'></span> <span style='color:rgb(127,128,128)'></span> <span style='color:rgb(127,128,128)'></span> <span style='color:rgb(127,128,128)'></span> <span style='color:rgb(127,128,128)'></span> <span style='color:rgb(127,128,128)'></span> <span style='color:rgb(127,128,128)'></span> <span style='color:rgb(127,128,128)'></span> <span style='color:rgb(127,128,128)'></span> <span style='color:rgb(127,128,128)'></span> <span style='color:rgb(127,128,128)'></span> <span style='color:rgb(127,128,128)'></span> <span style='color:rgb(127,128,128)'></span> <span style='color:rgb(127,128,128)'></span> <span style='color:rgb(127,128,128)'></span> <span style='color:rgb(127,128,128)'></span> <span style='color:rgb(127,128,128)'></span> <span style='color:rgb(127,128,128)'></span> <span style='color:rgb(127,128,128)'></span> <span style='color:rgb(127,128,128)'></span> <span style='color:rgb(127,128,128)'></span> <span style='color:rgb(127,128,128)'></span> <span style='color:rgb(127,128,128)'></span> <span style='color:rgb(127,128,128)'></span> <span style='color:rgb(127,128,128)'></span> <span style='color:rgb(127,128,128)'></span> <span style='color:rgb(127,128,128)'></span> <span style='color:rgb(127,128,128)'></span> <span style='color:rgb(127,128,128)'></span> <span style='color:rgb(127,128,128)'></span> <span style='color:rgb(127,128,128)'></span> <span style='color:rgb(127,128,128)'></span> <span style='color:rgb(127,128,128)'></span> <span style='color:rgb(127,128,128)'></span> <span style='color:rgb(127,128,128)'></span> <span style='color:rgb(127,128,128)'></span> <span style='color:rgb(127,128,128)'></span> <span style='color:rgb(127,128,128)'></span> <span style='color:rgb(127,128,128)'></span> <span style='color:rgb(127,128,128)'></span> <span style='color:rgb(127,128,128)'></span> <span style='color:rgb(127,128,128)'></span> <span style='color:rgb(127,128,128)'></span> <span style='color:rgb(127,128,128)'></span> <span style='color:rgb(127,128,128)'></span> <span style='color:rgb(127,128,128)'></span> <span style='color:rgb(127,128,128)'></span> <span style='color:rgb(127,128,128)'></span> <span style='color:rgb(127,128,128)'></span> <span style='color:rgb(127,128,128)'></span> <span style='color:rgb(127,128,128)'></span> <span style='color:rgb(127,128,128)'></span> <span style='color:rgb(127,128,128)'></span> <span style='color:rgb(127,128,128)'></span> <span style='color:rgb(127,128,128)'></span> <span style='color:rgb(127,128,128)'></span> <span style='color:rgb(127,128,128)'></span> <span style='color:rgb(127,128,128)'></span> <span style='color:rgb(127,128,128)'></span> <span style='color:rgb(127,128,128)'></span> <span style='color:rgb(127,128,128)'></span> <span style='color:rgb(127,128,128)'></span> <span style='color:rgb(127,128,128)'></span> <span style='color:rgb(127,128,128)'></span> <span style='color:rgb(127,128,128)'></span> <span style='color:rgb(127,128,128)'></span> <span style='color:rgb(127,128,128)'></span> <span style='color:rgb(127,128,128)'></span> <span style='color:rgb(127,128,128)'></span> <span style='color:rgb(127,128,128)'></span> <span style='color:rgb(127,128,128)'></span> <span style='color:rgb(127,128,128)'></span> <span style='color:rgb(127,128,128)'></span> <span style='color:rgb(127,128,128)'></span> <span style='color:rgb(127,128,128)'></span> <span style='color:rgb(127,128,128)'></span> <span style='color:rgb(127,128,128)'></span> <span style='color:rgb(127,128,128)'></span> <span style='color:rgb(127,128,128)'></span> <span style='color:rgb(127,128,128)'></span> <span style='color:rgb(127,128,128)'></span> <span style='color:rgb(127,128,128)'></span> <span style='color:rgb(127,128,128)'></span> <span style='color:rgb(127,128,128)'></span> <span style='color:rgb(127,128,128)'></span> <span style='color:rgb(127,128,128)'></span> <span style='color:rgb(127,128,128)'></span> <span style='color:rgb(127,128,128)'></span> <span style='color:rgb(127,128,128)'></span> <span style='color:rgb(127,128,128)'></span> <span style='color:rgb(127,128,128)'></span> <span style='color:rgb(127,128,128)'></span> <span style='color:rgb(127,128,128)'></span> <span style='color:rgb(127,128,128)'></span> <span style='color:rgb(127,128,128)'></span> <span style='color:rgb(127,128,128)'></span> <span style='color:rgb(127,128,128)'></span> <span style='color:rgb(127,128,128)'></span> <span style='color:rgb(127,128,128)'></span> <span style='color:rgb(127,128,128)'></span> <span style='color:rgb(127,128,128)'></span> <span style='color:rgb(127,128,128)'></span> <span style='color:rgb(127,128,128)'></span> <span style='color:rgb(127,128,128)'></span> <span style='color:rgb(127,128,128)'></span> <span style='color:rgb(127,128,128)'></span> <span style='color:rgb(127,128,128)'></span> <span style='color:rgb(127,128,128)'></span> <span style='color:rgb(127,128,128)'></span> <span style='color:rgb(127,128,128)'></span> <span style='color:rgb(127,128,128)'></span> <span style='color:rgb(127,128,128)'></span> <span style='color:rgb(127,128,128)'></span> <span style='color:rgb(127,128,128)'></span> <span style='color:rgb(127,128,128)'></span> <span style='color:rgb(127,128,128)'></span> <span style='color:rgb(127,128,128)'></span> <span style='color:rgb(127,128,128)'></span> <span style='color:rgb(127,128,128)'></span> <span style='color:rgb(127,128,128)'></span> <span style='color:rgb(127,128,128)'></span> <span style='color:rgb(127,128,128)'></span>"
            ],
            "text/plain": [
              "<IPython.core.display.HTML object>"
            ]
          },
          "metadata": {}
        },
        {
          "output_type": "stream",
          "name": "stdout",
          "text": [
            "====================\n",
            "LAYER 10->:\n",
            "====================\n",
            "\tToken Attributions:\n"
          ]
        },
        {
          "output_type": "display_data",
          "data": {
            "text/html": [
              " <span style='color:rgb(128,128,128)'>[CLS]</span> <span style='color:rgb(129,127,127)'>super</span> <span style='color:rgb(127,128,128)'>bowl</span> <span style='color:rgb(129,127,127)'>50</span> <span style='color:rgb(127,128,128)'>was</span> <span style='color:rgb(127,128,128)'>an</span> <span style='color:rgb(129,127,127)'>american</span> <span style='color:rgb(127,128,128)'>football</span> <span style='color:rgb(128,128,128)'>game</span> <span style='color:rgb(127,128,128)'>to</span> <span style='color:rgb(128,128,128)'>determine</span> <span style='color:rgb(129,127,127)'>the</span> <span style='color:rgb(133,125,125)'>champion</span> <span style='color:rgb(127,128,128)'>of</span> <span style='color:rgb(128,128,128)'>the</span> <span style='color:rgb(131,126,126)'>national</span> <span style='color:rgb(127,128,128)'>football</span> <span style='color:rgb(137,123,123)'>league</span> <span style='color:rgb(127,128,128)'>(</span> <span style='color:rgb(135,124,124)'>nfl</span> <span style='color:rgb(136,124,124)'>)</span> <span style='color:rgb(128,128,128)'>for</span> <span style='color:rgb(128,128,128)'>the</span> <span style='color:rgb(136,124,124)'>2015</span> <span style='color:rgb(131,126,126)'>season</span> <span style='color:rgb(129,127,127)'>.</span> <span style='color:rgb(140,122,122)'>the</span> <span style='color:rgb(146,119,119)'>american</span> <span style='color:rgb(128,128,128)'>football</span> <span style='color:rgb(141,121,121)'>conference</span> <span style='color:rgb(128,128,128)'>(</span> <span style='color:rgb(134,125,125)'>afc</span> <span style='color:rgb(149,117,117)'>)</span> <span style='color:rgb(136,124,124)'>champion</span> <span style='color:rgb(240,72,72)'>denver</span> <span style='color:rgb(255,64,64)'>broncos</span> <span style='color:rgb(128,128,128)'>defeated</span> <span style='color:rgb(128,128,128)'>the</span> <span style='color:rgb(130,127,127)'>national</span> <span style='color:rgb(127,128,128)'>football</span> <span style='color:rgb(130,127,127)'>conference</span> <span style='color:rgb(127,128,128)'>(</span> <span style='color:rgb(134,125,125)'>nfc</span> <span style='color:rgb(141,121,121)'>)</span> <span style='color:rgb(128,128,128)'>champion</span> <span style='color:rgb(194,95,95)'>carolina</span> <span style='color:rgb(209,87,87)'>panthers</span> <span style='color:rgb(132,126,126)'>24</span> <span style='color:rgb(127,128,128)'>–</span> <span style='color:rgb(143,120,120)'>10</span> <span style='color:rgb(128,128,128)'>to</span> <span style='color:rgb(127,128,128)'>earn</span> <span style='color:rgb(127,128,128)'>their</span> <span style='color:rgb(132,126,126)'>third</span> <span style='color:rgb(127,128,128)'>super</span> <span style='color:rgb(127,128,128)'>bowl</span> <span style='color:rgb(128,128,128)'>title</span> <span style='color:rgb(128,128,128)'>.</span> <span style='color:rgb(127,128,128)'>the</span> <span style='color:rgb(127,128,128)'>game</span> <span style='color:rgb(127,128,128)'>was</span> <span style='color:rgb(127,128,128)'>played</span> <span style='color:rgb(127,128,128)'>on</span> <span style='color:rgb(128,128,128)'>february</span> <span style='color:rgb(127,128,128)'>7</span> <span style='color:rgb(127,128,128)'>,</span> <span style='color:rgb(131,126,126)'>2016</span> <span style='color:rgb(127,128,128)'>,</span> <span style='color:rgb(127,128,128)'>at</span> <span style='color:rgb(128,128,128)'>levi</span> <span style='color:rgb(127,128,128)'>'</span> <span style='color:rgb(127,128,128)'>s</span> <span style='color:rgb(128,128,128)'>stadium</span> <span style='color:rgb(127,128,128)'>in</span> <span style='color:rgb(127,128,128)'>the</span> <span style='color:rgb(127,128,128)'>san</span> <span style='color:rgb(127,128,128)'>francisco</span> <span style='color:rgb(127,128,128)'>bay</span> <span style='color:rgb(127,128,128)'>area</span> <span style='color:rgb(127,128,128)'>at</span> <span style='color:rgb(128,128,128)'>santa</span> <span style='color:rgb(127,128,128)'>clara</span> <span style='color:rgb(127,128,128)'>,</span> <span style='color:rgb(140,122,122)'>california</span> <span style='color:rgb(127,128,128)'>.</span> <span style='color:rgb(127,128,128)'>as</span> <span style='color:rgb(127,128,128)'>this</span> <span style='color:rgb(127,128,128)'>was</span> <span style='color:rgb(127,128,128)'>the</span> <span style='color:rgb(133,125,125)'>50th</span> <span style='color:rgb(127,128,128)'>super</span> <span style='color:rgb(128,128,128)'>bowl</span> <span style='color:rgb(127,128,128)'>,</span> <span style='color:rgb(127,128,128)'>the</span> <span style='color:rgb(127,128,128)'>league</span> <span style='color:rgb(127,128,128)'>emphasized</span> <span style='color:rgb(127,128,128)'>the</span> <span style='color:rgb(127,128,128)'>\"</span> <span style='color:rgb(127,128,128)'>golden</span> <span style='color:rgb(127,128,128)'>anniversary</span> <span style='color:rgb(127,128,128)'>\"</span> <span style='color:rgb(127,128,128)'>with</span> <span style='color:rgb(127,128,128)'>various</span> <span style='color:rgb(127,128,128)'>gold</span> <span style='color:rgb(127,128,128)'>-</span> <span style='color:rgb(127,128,128)'>themed</span> <span style='color:rgb(127,128,128)'>initiatives</span> <span style='color:rgb(127,128,128)'>,</span> <span style='color:rgb(127,128,128)'>as</span> <span style='color:rgb(127,128,128)'>well</span> <span style='color:rgb(127,128,128)'>as</span> <span style='color:rgb(127,128,128)'>temporarily</span> <span style='color:rgb(127,128,128)'>suspend</span> <span style='color:rgb(127,128,128)'>##ing</span> <span style='color:rgb(127,128,128)'>the</span> <span style='color:rgb(127,128,128)'>tradition</span> <span style='color:rgb(127,128,128)'>of</span> <span style='color:rgb(127,128,128)'>naming</span> <span style='color:rgb(127,128,128)'>each</span> <span style='color:rgb(127,128,128)'>super</span> <span style='color:rgb(127,128,128)'>bowl</span> <span style='color:rgb(127,128,128)'>game</span> <span style='color:rgb(127,128,128)'>with</span> <span style='color:rgb(127,128,128)'>roman</span> <span style='color:rgb(127,128,128)'>nu</span> <span style='color:rgb(127,128,128)'>##meral</span> <span style='color:rgb(127,128,128)'>##s</span> <span style='color:rgb(127,128,128)'>(</span> <span style='color:rgb(127,128,128)'>under</span> <span style='color:rgb(127,128,128)'>which</span> <span style='color:rgb(127,128,128)'>the</span> <span style='color:rgb(127,128,128)'>game</span> <span style='color:rgb(127,128,128)'>would</span> <span style='color:rgb(127,128,128)'>have</span> <span style='color:rgb(127,128,128)'>been</span> <span style='color:rgb(127,128,128)'>known</span> <span style='color:rgb(127,128,128)'>as</span> <span style='color:rgb(127,128,128)'>\"</span> <span style='color:rgb(127,128,128)'>super</span> <span style='color:rgb(127,128,128)'>bowl</span> <span style='color:rgb(127,128,128)'>l</span> <span style='color:rgb(127,128,128)'>\"</span> <span style='color:rgb(127,128,128)'>)</span> <span style='color:rgb(127,128,128)'>,</span> <span style='color:rgb(127,128,128)'>so</span> <span style='color:rgb(127,128,128)'>that</span> <span style='color:rgb(127,128,128)'>the</span> <span style='color:rgb(127,128,128)'>logo</span> <span style='color:rgb(127,128,128)'>could</span> <span style='color:rgb(127,128,128)'>prominently</span> <span style='color:rgb(127,128,128)'>feature</span> <span style='color:rgb(127,128,128)'>the</span> <span style='color:rgb(127,128,128)'>arabic</span> <span style='color:rgb(127,128,128)'>nu</span> <span style='color:rgb(127,128,128)'>##meral</span> <span style='color:rgb(127,128,128)'>##s</span> <span style='color:rgb(127,128,128)'>50</span> <span style='color:rgb(130,127,127)'>.</span> <span style='color:rgb(129,127,127)'>[SEP]</span> <span style='color:rgb(129,127,127)'>which</span> <span style='color:rgb(128,128,128)'>nfl</span> <span style='color:rgb(129,127,127)'>team</span> <span style='color:rgb(128,128,128)'>represented</span> <span style='color:rgb(127,128,128)'>the</span> <span style='color:rgb(127,128,128)'>afc</span> <span style='color:rgb(127,128,128)'>at</span> <span style='color:rgb(127,128,128)'>super</span> <span style='color:rgb(127,128,128)'>bowl</span> <span style='color:rgb(127,128,128)'>50</span> <span style='color:rgb(129,127,127)'>?</span> <span style='color:rgb(129,127,127)'>[SEP]</span> <span style='color:rgb(127,128,128)'></span> <span style='color:rgb(127,128,128)'></span> <span style='color:rgb(127,128,128)'></span> <span style='color:rgb(127,128,128)'></span> <span style='color:rgb(127,128,128)'></span> <span style='color:rgb(127,128,128)'></span> <span style='color:rgb(127,128,128)'></span> <span style='color:rgb(127,128,128)'></span> <span style='color:rgb(127,128,128)'></span> <span style='color:rgb(127,128,128)'></span> <span style='color:rgb(127,128,128)'></span> <span style='color:rgb(127,128,128)'></span> <span style='color:rgb(127,128,128)'></span> <span style='color:rgb(127,128,128)'></span> <span style='color:rgb(127,128,128)'></span> <span style='color:rgb(127,128,128)'></span> <span style='color:rgb(127,128,128)'></span> <span style='color:rgb(127,128,128)'></span> <span style='color:rgb(127,128,128)'></span> <span style='color:rgb(127,128,128)'></span> <span style='color:rgb(127,128,128)'></span> <span style='color:rgb(127,128,128)'></span> <span style='color:rgb(127,128,128)'></span> <span style='color:rgb(127,128,128)'></span> <span style='color:rgb(127,128,128)'></span> <span style='color:rgb(127,128,128)'></span> <span style='color:rgb(127,128,128)'></span> <span style='color:rgb(127,128,128)'></span> <span style='color:rgb(127,128,128)'></span> <span style='color:rgb(127,128,128)'></span> <span style='color:rgb(127,128,128)'></span> <span style='color:rgb(127,128,128)'></span> <span style='color:rgb(127,128,128)'></span> <span style='color:rgb(127,128,128)'></span> <span style='color:rgb(127,128,128)'></span> <span style='color:rgb(127,128,128)'></span> <span style='color:rgb(127,128,128)'></span> <span style='color:rgb(127,128,128)'></span> <span style='color:rgb(127,128,128)'></span> <span style='color:rgb(127,128,128)'></span> <span style='color:rgb(127,128,128)'></span> <span style='color:rgb(127,128,128)'></span> <span style='color:rgb(127,128,128)'></span> <span style='color:rgb(127,128,128)'></span> <span style='color:rgb(127,128,128)'></span> <span style='color:rgb(127,128,128)'></span> <span style='color:rgb(127,128,128)'></span> <span style='color:rgb(127,128,128)'></span> <span style='color:rgb(127,128,128)'></span> <span style='color:rgb(127,128,128)'></span> <span style='color:rgb(127,128,128)'></span> <span style='color:rgb(127,128,128)'></span> <span style='color:rgb(127,128,128)'></span> <span style='color:rgb(127,128,128)'></span> <span style='color:rgb(127,128,128)'></span> <span style='color:rgb(127,128,128)'></span> <span style='color:rgb(127,128,128)'></span> <span style='color:rgb(127,128,128)'></span> <span style='color:rgb(127,128,128)'></span> <span style='color:rgb(127,128,128)'></span> <span style='color:rgb(127,128,128)'></span> <span style='color:rgb(127,128,128)'></span> <span style='color:rgb(127,128,128)'></span> <span style='color:rgb(127,128,128)'></span> <span style='color:rgb(127,128,128)'></span> <span style='color:rgb(127,128,128)'></span> <span style='color:rgb(127,128,128)'></span> <span style='color:rgb(127,128,128)'></span> <span style='color:rgb(127,128,128)'></span> <span style='color:rgb(127,128,128)'></span> <span style='color:rgb(127,128,128)'></span> <span style='color:rgb(127,128,128)'></span> <span style='color:rgb(127,128,128)'></span> <span style='color:rgb(127,128,128)'></span> <span style='color:rgb(127,128,128)'></span> <span style='color:rgb(127,128,128)'></span> <span style='color:rgb(127,128,128)'></span> <span style='color:rgb(127,128,128)'></span> <span style='color:rgb(127,128,128)'></span> <span style='color:rgb(127,128,128)'></span> <span style='color:rgb(127,128,128)'></span> <span style='color:rgb(127,128,128)'></span> <span style='color:rgb(127,128,128)'></span> <span style='color:rgb(127,128,128)'></span> <span style='color:rgb(127,128,128)'></span> <span style='color:rgb(127,128,128)'></span> <span style='color:rgb(127,128,128)'></span> <span style='color:rgb(127,128,128)'></span> <span style='color:rgb(127,128,128)'></span> <span style='color:rgb(127,128,128)'></span> <span style='color:rgb(127,128,128)'></span> <span style='color:rgb(127,128,128)'></span> <span style='color:rgb(127,128,128)'></span> <span style='color:rgb(127,128,128)'></span> <span style='color:rgb(127,128,128)'></span> <span style='color:rgb(127,128,128)'></span> <span style='color:rgb(127,128,128)'></span> <span style='color:rgb(127,128,128)'></span> <span style='color:rgb(127,128,128)'></span> <span style='color:rgb(127,128,128)'></span> <span style='color:rgb(127,128,128)'></span> <span style='color:rgb(127,128,128)'></span> <span style='color:rgb(127,128,128)'></span> <span style='color:rgb(127,128,128)'></span> <span style='color:rgb(127,128,128)'></span> <span style='color:rgb(127,128,128)'></span> <span style='color:rgb(127,128,128)'></span> <span style='color:rgb(127,128,128)'></span> <span style='color:rgb(127,128,128)'></span> <span style='color:rgb(127,128,128)'></span> <span style='color:rgb(127,128,128)'></span> <span style='color:rgb(127,128,128)'></span> <span style='color:rgb(127,128,128)'></span> <span style='color:rgb(127,128,128)'></span> <span style='color:rgb(127,128,128)'></span> <span style='color:rgb(127,128,128)'></span> <span style='color:rgb(127,128,128)'></span> <span style='color:rgb(127,128,128)'></span> <span style='color:rgb(127,128,128)'></span> <span style='color:rgb(127,128,128)'></span> <span style='color:rgb(127,128,128)'></span> <span style='color:rgb(127,128,128)'></span> <span style='color:rgb(127,128,128)'></span> <span style='color:rgb(127,128,128)'></span> <span style='color:rgb(127,128,128)'></span> <span style='color:rgb(127,128,128)'></span> <span style='color:rgb(127,128,128)'></span> <span style='color:rgb(127,128,128)'></span> <span style='color:rgb(127,128,128)'></span> <span style='color:rgb(127,128,128)'></span> <span style='color:rgb(127,128,128)'></span> <span style='color:rgb(127,128,128)'></span> <span style='color:rgb(127,128,128)'></span> <span style='color:rgb(127,128,128)'></span> <span style='color:rgb(127,128,128)'></span> <span style='color:rgb(127,128,128)'></span> <span style='color:rgb(127,128,128)'></span> <span style='color:rgb(127,128,128)'></span> <span style='color:rgb(127,128,128)'></span> <span style='color:rgb(127,128,128)'></span> <span style='color:rgb(127,128,128)'></span> <span style='color:rgb(127,128,128)'></span> <span style='color:rgb(127,128,128)'></span> <span style='color:rgb(127,128,128)'></span> <span style='color:rgb(127,128,128)'></span> <span style='color:rgb(127,128,128)'></span> <span style='color:rgb(127,128,128)'></span> <span style='color:rgb(127,128,128)'></span> <span style='color:rgb(127,128,128)'></span> <span style='color:rgb(127,128,128)'></span> <span style='color:rgb(127,128,128)'></span> <span style='color:rgb(127,128,128)'></span> <span style='color:rgb(127,128,128)'></span> <span style='color:rgb(127,128,128)'></span> <span style='color:rgb(127,128,128)'></span> <span style='color:rgb(127,128,128)'></span> <span style='color:rgb(127,128,128)'></span> <span style='color:rgb(127,128,128)'></span> <span style='color:rgb(127,128,128)'></span> <span style='color:rgb(127,128,128)'></span> <span style='color:rgb(127,128,128)'></span> <span style='color:rgb(127,128,128)'></span> <span style='color:rgb(127,128,128)'></span> <span style='color:rgb(127,128,128)'></span> <span style='color:rgb(127,128,128)'></span> <span style='color:rgb(127,128,128)'></span> <span style='color:rgb(127,128,128)'></span> <span style='color:rgb(127,128,128)'></span> <span style='color:rgb(127,128,128)'></span> <span style='color:rgb(127,128,128)'></span> <span style='color:rgb(127,128,128)'></span> <span style='color:rgb(127,128,128)'></span> <span style='color:rgb(127,128,128)'></span> <span style='color:rgb(127,128,128)'></span> <span style='color:rgb(127,128,128)'></span> <span style='color:rgb(127,128,128)'></span> <span style='color:rgb(127,128,128)'></span> <span style='color:rgb(127,128,128)'></span> <span style='color:rgb(127,128,128)'></span> <span style='color:rgb(127,128,128)'></span> <span style='color:rgb(127,128,128)'></span> <span style='color:rgb(127,128,128)'></span> <span style='color:rgb(127,128,128)'></span> <span style='color:rgb(127,128,128)'></span> <span style='color:rgb(127,128,128)'></span> <span style='color:rgb(127,128,128)'></span> <span style='color:rgb(127,128,128)'></span> <span style='color:rgb(127,128,128)'></span> <span style='color:rgb(127,128,128)'></span> <span style='color:rgb(127,128,128)'></span> <span style='color:rgb(127,128,128)'></span> <span style='color:rgb(127,128,128)'></span> <span style='color:rgb(127,128,128)'></span> <span style='color:rgb(127,128,128)'></span> <span style='color:rgb(127,128,128)'></span> <span style='color:rgb(127,128,128)'></span> <span style='color:rgb(127,128,128)'></span> <span style='color:rgb(127,128,128)'></span> <span style='color:rgb(127,128,128)'></span> <span style='color:rgb(127,128,128)'></span> <span style='color:rgb(127,128,128)'></span> <span style='color:rgb(127,128,128)'></span> <span style='color:rgb(127,128,128)'></span> <span style='color:rgb(127,128,128)'></span> <span style='color:rgb(127,128,128)'></span> <span style='color:rgb(127,128,128)'></span> <span style='color:rgb(127,128,128)'></span> <span style='color:rgb(127,128,128)'></span> <span style='color:rgb(127,128,128)'></span> <span style='color:rgb(127,128,128)'></span> <span style='color:rgb(127,128,128)'></span> <span style='color:rgb(127,128,128)'></span> <span style='color:rgb(127,128,128)'></span>"
            ],
            "text/plain": [
              "<IPython.core.display.HTML object>"
            ]
          },
          "metadata": {}
        },
        {
          "output_type": "stream",
          "name": "stdout",
          "text": [
            "====================\n",
            "LAYER 11->:\n",
            "====================\n",
            "\tToken Attributions:\n"
          ]
        },
        {
          "output_type": "display_data",
          "data": {
            "text/html": [
              " <span style='color:rgb(127,128,128)'>[CLS]</span> <span style='color:rgb(127,128,128)'>super</span> <span style='color:rgb(127,128,128)'>bowl</span> <span style='color:rgb(127,128,128)'>50</span> <span style='color:rgb(127,128,128)'>was</span> <span style='color:rgb(127,128,128)'>an</span> <span style='color:rgb(127,128,128)'>american</span> <span style='color:rgb(127,128,128)'>football</span> <span style='color:rgb(127,128,128)'>game</span> <span style='color:rgb(127,128,128)'>to</span> <span style='color:rgb(127,128,128)'>determine</span> <span style='color:rgb(128,128,128)'>the</span> <span style='color:rgb(128,128,128)'>champion</span> <span style='color:rgb(127,128,128)'>of</span> <span style='color:rgb(127,128,128)'>the</span> <span style='color:rgb(129,127,127)'>national</span> <span style='color:rgb(127,128,128)'>football</span> <span style='color:rgb(131,126,126)'>league</span> <span style='color:rgb(127,128,128)'>(</span> <span style='color:rgb(130,127,127)'>nfl</span> <span style='color:rgb(134,125,125)'>)</span> <span style='color:rgb(127,128,128)'>for</span> <span style='color:rgb(127,128,128)'>the</span> <span style='color:rgb(128,128,128)'>2015</span> <span style='color:rgb(128,128,128)'>season</span> <span style='color:rgb(127,128,128)'>.</span> <span style='color:rgb(132,126,126)'>the</span> <span style='color:rgb(137,123,123)'>american</span> <span style='color:rgb(127,128,128)'>football</span> <span style='color:rgb(132,126,126)'>conference</span> <span style='color:rgb(127,128,128)'>(</span> <span style='color:rgb(129,127,127)'>afc</span> <span style='color:rgb(143,120,120)'>)</span> <span style='color:rgb(129,127,127)'>champion</span> <span style='color:rgb(182,101,101)'>denver</span> <span style='color:rgb(231,76,76)'>broncos</span> <span style='color:rgb(127,128,128)'>defeated</span> <span style='color:rgb(128,128,128)'>the</span> <span style='color:rgb(129,127,127)'>national</span> <span style='color:rgb(127,128,128)'>football</span> <span style='color:rgb(128,128,128)'>conference</span> <span style='color:rgb(127,128,128)'>(</span> <span style='color:rgb(133,125,125)'>nfc</span> <span style='color:rgb(143,120,120)'>)</span> <span style='color:rgb(127,128,128)'>champion</span> <span style='color:rgb(218,83,83)'>carolina</span> <span style='color:rgb(255,64,64)'>panthers</span> <span style='color:rgb(128,128,128)'>24</span> <span style='color:rgb(127,128,128)'>–</span> <span style='color:rgb(136,124,124)'>10</span> <span style='color:rgb(127,128,128)'>to</span> <span style='color:rgb(127,128,128)'>earn</span> <span style='color:rgb(127,128,128)'>their</span> <span style='color:rgb(128,128,128)'>third</span> <span style='color:rgb(127,128,128)'>super</span> <span style='color:rgb(127,128,128)'>bowl</span> <span style='color:rgb(127,128,128)'>title</span> <span style='color:rgb(127,128,128)'>.</span> <span style='color:rgb(127,128,128)'>the</span> <span style='color:rgb(127,128,128)'>game</span> <span style='color:rgb(127,128,128)'>was</span> <span style='color:rgb(127,128,128)'>played</span> <span style='color:rgb(127,128,128)'>on</span> <span style='color:rgb(127,128,128)'>february</span> <span style='color:rgb(127,128,128)'>7</span> <span style='color:rgb(127,128,128)'>,</span> <span style='color:rgb(127,128,128)'>2016</span> <span style='color:rgb(127,128,128)'>,</span> <span style='color:rgb(127,128,128)'>at</span> <span style='color:rgb(127,128,128)'>levi</span> <span style='color:rgb(127,128,128)'>'</span> <span style='color:rgb(127,128,128)'>s</span> <span style='color:rgb(127,128,128)'>stadium</span> <span style='color:rgb(127,128,128)'>in</span> <span style='color:rgb(127,128,128)'>the</span> <span style='color:rgb(127,128,128)'>san</span> <span style='color:rgb(127,128,128)'>francisco</span> <span style='color:rgb(127,128,128)'>bay</span> <span style='color:rgb(127,128,128)'>area</span> <span style='color:rgb(127,128,128)'>at</span> <span style='color:rgb(127,128,128)'>santa</span> <span style='color:rgb(127,128,128)'>clara</span> <span style='color:rgb(127,128,128)'>,</span> <span style='color:rgb(131,126,126)'>california</span> <span style='color:rgb(127,128,128)'>.</span> <span style='color:rgb(127,128,128)'>as</span> <span style='color:rgb(127,128,128)'>this</span> <span style='color:rgb(127,128,128)'>was</span> <span style='color:rgb(127,128,128)'>the</span> <span style='color:rgb(128,128,128)'>50th</span> <span style='color:rgb(127,128,128)'>super</span> <span style='color:rgb(127,128,128)'>bowl</span> <span style='color:rgb(127,128,128)'>,</span> <span style='color:rgb(127,128,128)'>the</span> <span style='color:rgb(127,128,128)'>league</span> <span style='color:rgb(127,128,128)'>emphasized</span> <span style='color:rgb(127,128,128)'>the</span> <span style='color:rgb(127,128,128)'>\"</span> <span style='color:rgb(127,128,128)'>golden</span> <span style='color:rgb(127,128,128)'>anniversary</span> <span style='color:rgb(127,128,128)'>\"</span> <span style='color:rgb(127,128,128)'>with</span> <span style='color:rgb(127,128,128)'>various</span> <span style='color:rgb(127,128,128)'>gold</span> <span style='color:rgb(127,128,128)'>-</span> <span style='color:rgb(127,128,128)'>themed</span> <span style='color:rgb(127,128,128)'>initiatives</span> <span style='color:rgb(127,128,128)'>,</span> <span style='color:rgb(127,128,128)'>as</span> <span style='color:rgb(127,128,128)'>well</span> <span style='color:rgb(127,128,128)'>as</span> <span style='color:rgb(127,128,128)'>temporarily</span> <span style='color:rgb(127,128,128)'>suspend</span> <span style='color:rgb(127,128,128)'>##ing</span> <span style='color:rgb(127,128,128)'>the</span> <span style='color:rgb(127,128,128)'>tradition</span> <span style='color:rgb(127,128,128)'>of</span> <span style='color:rgb(127,128,128)'>naming</span> <span style='color:rgb(127,128,128)'>each</span> <span style='color:rgb(127,128,128)'>super</span> <span style='color:rgb(127,128,128)'>bowl</span> <span style='color:rgb(127,128,128)'>game</span> <span style='color:rgb(127,128,128)'>with</span> <span style='color:rgb(127,128,128)'>roman</span> <span style='color:rgb(127,128,128)'>nu</span> <span style='color:rgb(127,128,128)'>##meral</span> <span style='color:rgb(127,128,128)'>##s</span> <span style='color:rgb(127,128,128)'>(</span> <span style='color:rgb(127,128,128)'>under</span> <span style='color:rgb(127,128,128)'>which</span> <span style='color:rgb(127,128,128)'>the</span> <span style='color:rgb(127,128,128)'>game</span> <span style='color:rgb(127,128,128)'>would</span> <span style='color:rgb(127,128,128)'>have</span> <span style='color:rgb(127,128,128)'>been</span> <span style='color:rgb(127,128,128)'>known</span> <span style='color:rgb(127,128,128)'>as</span> <span style='color:rgb(127,128,128)'>\"</span> <span style='color:rgb(127,128,128)'>super</span> <span style='color:rgb(127,128,128)'>bowl</span> <span style='color:rgb(127,128,128)'>l</span> <span style='color:rgb(127,128,128)'>\"</span> <span style='color:rgb(127,128,128)'>)</span> <span style='color:rgb(127,128,128)'>,</span> <span style='color:rgb(127,128,128)'>so</span> <span style='color:rgb(127,128,128)'>that</span> <span style='color:rgb(127,128,128)'>the</span> <span style='color:rgb(127,128,128)'>logo</span> <span style='color:rgb(127,128,128)'>could</span> <span style='color:rgb(127,128,128)'>prominently</span> <span style='color:rgb(127,128,128)'>feature</span> <span style='color:rgb(127,128,128)'>the</span> <span style='color:rgb(127,128,128)'>arabic</span> <span style='color:rgb(127,128,128)'>nu</span> <span style='color:rgb(127,128,128)'>##meral</span> <span style='color:rgb(127,128,128)'>##s</span> <span style='color:rgb(127,128,128)'>50</span> <span style='color:rgb(129,127,127)'>.</span> <span style='color:rgb(129,127,127)'>[SEP]</span> <span style='color:rgb(127,128,128)'>which</span> <span style='color:rgb(127,128,128)'>nfl</span> <span style='color:rgb(127,128,128)'>team</span> <span style='color:rgb(127,128,128)'>represented</span> <span style='color:rgb(127,128,128)'>the</span> <span style='color:rgb(127,128,128)'>afc</span> <span style='color:rgb(127,128,128)'>at</span> <span style='color:rgb(127,128,128)'>super</span> <span style='color:rgb(127,128,128)'>bowl</span> <span style='color:rgb(127,128,128)'>50</span> <span style='color:rgb(127,128,128)'>?</span> <span style='color:rgb(129,127,127)'>[SEP]</span> <span style='color:rgb(127,128,128)'></span> <span style='color:rgb(127,128,128)'></span> <span style='color:rgb(127,128,128)'></span> <span style='color:rgb(127,128,128)'></span> <span style='color:rgb(127,128,128)'></span> <span style='color:rgb(127,128,128)'></span> <span style='color:rgb(127,128,128)'></span> <span style='color:rgb(127,128,128)'></span> <span style='color:rgb(127,128,128)'></span> <span style='color:rgb(127,128,128)'></span> <span style='color:rgb(127,128,128)'></span> <span style='color:rgb(127,128,128)'></span> <span style='color:rgb(127,128,128)'></span> <span style='color:rgb(127,128,128)'></span> <span style='color:rgb(127,128,128)'></span> <span style='color:rgb(127,128,128)'></span> <span style='color:rgb(127,128,128)'></span> <span style='color:rgb(127,128,128)'></span> <span style='color:rgb(127,128,128)'></span> <span style='color:rgb(127,128,128)'></span> <span style='color:rgb(127,128,128)'></span> <span style='color:rgb(127,128,128)'></span> <span style='color:rgb(127,128,128)'></span> <span style='color:rgb(127,128,128)'></span> <span style='color:rgb(127,128,128)'></span> <span style='color:rgb(127,128,128)'></span> <span style='color:rgb(127,128,128)'></span> <span style='color:rgb(127,128,128)'></span> <span style='color:rgb(127,128,128)'></span> <span style='color:rgb(127,128,128)'></span> <span style='color:rgb(127,128,128)'></span> <span style='color:rgb(127,128,128)'></span> <span style='color:rgb(127,128,128)'></span> <span style='color:rgb(127,128,128)'></span> <span style='color:rgb(127,128,128)'></span> <span style='color:rgb(127,128,128)'></span> <span style='color:rgb(127,128,128)'></span> <span style='color:rgb(127,128,128)'></span> <span style='color:rgb(127,128,128)'></span> <span style='color:rgb(127,128,128)'></span> <span style='color:rgb(127,128,128)'></span> <span style='color:rgb(127,128,128)'></span> <span style='color:rgb(127,128,128)'></span> <span style='color:rgb(127,128,128)'></span> <span style='color:rgb(127,128,128)'></span> <span style='color:rgb(127,128,128)'></span> <span style='color:rgb(127,128,128)'></span> <span style='color:rgb(127,128,128)'></span> <span style='color:rgb(127,128,128)'></span> <span style='color:rgb(127,128,128)'></span> <span style='color:rgb(127,128,128)'></span> <span style='color:rgb(127,128,128)'></span> <span style='color:rgb(127,128,128)'></span> <span style='color:rgb(127,128,128)'></span> <span style='color:rgb(127,128,128)'></span> <span style='color:rgb(127,128,128)'></span> <span style='color:rgb(127,128,128)'></span> <span style='color:rgb(127,128,128)'></span> <span style='color:rgb(127,128,128)'></span> <span style='color:rgb(127,128,128)'></span> <span style='color:rgb(127,128,128)'></span> <span style='color:rgb(127,128,128)'></span> <span style='color:rgb(127,128,128)'></span> <span style='color:rgb(127,128,128)'></span> <span style='color:rgb(127,128,128)'></span> <span style='color:rgb(127,128,128)'></span> <span style='color:rgb(127,128,128)'></span> <span style='color:rgb(127,128,128)'></span> <span style='color:rgb(127,128,128)'></span> <span style='color:rgb(127,128,128)'></span> <span style='color:rgb(127,128,128)'></span> <span style='color:rgb(127,128,128)'></span> <span style='color:rgb(127,128,128)'></span> <span style='color:rgb(127,128,128)'></span> <span style='color:rgb(127,128,128)'></span> <span style='color:rgb(127,128,128)'></span> <span style='color:rgb(127,128,128)'></span> <span style='color:rgb(127,128,128)'></span> <span style='color:rgb(127,128,128)'></span> <span style='color:rgb(127,128,128)'></span> <span style='color:rgb(127,128,128)'></span> <span style='color:rgb(127,128,128)'></span> <span style='color:rgb(127,128,128)'></span> <span style='color:rgb(127,128,128)'></span> <span style='color:rgb(127,128,128)'></span> <span style='color:rgb(127,128,128)'></span> <span style='color:rgb(127,128,128)'></span> <span style='color:rgb(127,128,128)'></span> <span style='color:rgb(127,128,128)'></span> <span style='color:rgb(127,128,128)'></span> <span style='color:rgb(127,128,128)'></span> <span style='color:rgb(127,128,128)'></span> <span style='color:rgb(127,128,128)'></span> <span style='color:rgb(127,128,128)'></span> <span style='color:rgb(127,128,128)'></span> <span style='color:rgb(127,128,128)'></span> <span style='color:rgb(127,128,128)'></span> <span style='color:rgb(127,128,128)'></span> <span style='color:rgb(127,128,128)'></span> <span style='color:rgb(127,128,128)'></span> <span style='color:rgb(127,128,128)'></span> <span style='color:rgb(127,128,128)'></span> <span style='color:rgb(127,128,128)'></span> <span style='color:rgb(127,128,128)'></span> <span style='color:rgb(127,128,128)'></span> <span style='color:rgb(127,128,128)'></span> <span style='color:rgb(127,128,128)'></span> <span style='color:rgb(127,128,128)'></span> <span style='color:rgb(127,128,128)'></span> <span style='color:rgb(127,128,128)'></span> <span style='color:rgb(127,128,128)'></span> <span style='color:rgb(127,128,128)'></span> <span style='color:rgb(127,128,128)'></span> <span style='color:rgb(127,128,128)'></span> <span style='color:rgb(127,128,128)'></span> <span style='color:rgb(127,128,128)'></span> <span style='color:rgb(127,128,128)'></span> <span style='color:rgb(127,128,128)'></span> <span style='color:rgb(127,128,128)'></span> <span style='color:rgb(127,128,128)'></span> <span style='color:rgb(127,128,128)'></span> <span style='color:rgb(127,128,128)'></span> <span style='color:rgb(127,128,128)'></span> <span style='color:rgb(127,128,128)'></span> <span style='color:rgb(127,128,128)'></span> <span style='color:rgb(127,128,128)'></span> <span style='color:rgb(127,128,128)'></span> <span style='color:rgb(127,128,128)'></span> <span style='color:rgb(127,128,128)'></span> <span style='color:rgb(127,128,128)'></span> <span style='color:rgb(127,128,128)'></span> <span style='color:rgb(127,128,128)'></span> <span style='color:rgb(127,128,128)'></span> <span style='color:rgb(127,128,128)'></span> <span style='color:rgb(127,128,128)'></span> <span style='color:rgb(127,128,128)'></span> <span style='color:rgb(127,128,128)'></span> <span style='color:rgb(127,128,128)'></span> <span style='color:rgb(127,128,128)'></span> <span style='color:rgb(127,128,128)'></span> <span style='color:rgb(127,128,128)'></span> <span style='color:rgb(127,128,128)'></span> <span style='color:rgb(127,128,128)'></span> <span style='color:rgb(127,128,128)'></span> <span style='color:rgb(127,128,128)'></span> <span style='color:rgb(127,128,128)'></span> <span style='color:rgb(127,128,128)'></span> <span style='color:rgb(127,128,128)'></span> <span style='color:rgb(127,128,128)'></span> <span style='color:rgb(127,128,128)'></span> <span style='color:rgb(127,128,128)'></span> <span style='color:rgb(127,128,128)'></span> <span style='color:rgb(127,128,128)'></span> <span style='color:rgb(127,128,128)'></span> <span style='color:rgb(127,128,128)'></span> <span style='color:rgb(127,128,128)'></span> <span style='color:rgb(127,128,128)'></span> <span style='color:rgb(127,128,128)'></span> <span style='color:rgb(127,128,128)'></span> <span style='color:rgb(127,128,128)'></span> <span style='color:rgb(127,128,128)'></span> <span style='color:rgb(127,128,128)'></span> <span style='color:rgb(127,128,128)'></span> <span style='color:rgb(127,128,128)'></span> <span style='color:rgb(127,128,128)'></span> <span style='color:rgb(127,128,128)'></span> <span style='color:rgb(127,128,128)'></span> <span style='color:rgb(127,128,128)'></span> <span style='color:rgb(127,128,128)'></span> <span style='color:rgb(127,128,128)'></span> <span style='color:rgb(127,128,128)'></span> <span style='color:rgb(127,128,128)'></span> <span style='color:rgb(127,128,128)'></span> <span style='color:rgb(127,128,128)'></span> <span style='color:rgb(127,128,128)'></span> <span style='color:rgb(127,128,128)'></span> <span style='color:rgb(127,128,128)'></span> <span style='color:rgb(127,128,128)'></span> <span style='color:rgb(127,128,128)'></span> <span style='color:rgb(127,128,128)'></span> <span style='color:rgb(127,128,128)'></span> <span style='color:rgb(127,128,128)'></span> <span style='color:rgb(127,128,128)'></span> <span style='color:rgb(127,128,128)'></span> <span style='color:rgb(127,128,128)'></span> <span style='color:rgb(127,128,128)'></span> <span style='color:rgb(127,128,128)'></span> <span style='color:rgb(127,128,128)'></span> <span style='color:rgb(127,128,128)'></span> <span style='color:rgb(127,128,128)'></span> <span style='color:rgb(127,128,128)'></span> <span style='color:rgb(127,128,128)'></span> <span style='color:rgb(127,128,128)'></span> <span style='color:rgb(127,128,128)'></span> <span style='color:rgb(127,128,128)'></span> <span style='color:rgb(127,128,128)'></span> <span style='color:rgb(127,128,128)'></span> <span style='color:rgb(127,128,128)'></span> <span style='color:rgb(127,128,128)'></span> <span style='color:rgb(127,128,128)'></span> <span style='color:rgb(127,128,128)'></span> <span style='color:rgb(127,128,128)'></span> <span style='color:rgb(127,128,128)'></span> <span style='color:rgb(127,128,128)'></span> <span style='color:rgb(127,128,128)'></span> <span style='color:rgb(127,128,128)'></span> <span style='color:rgb(127,128,128)'></span> <span style='color:rgb(127,128,128)'></span> <span style='color:rgb(127,128,128)'></span> <span style='color:rgb(127,128,128)'></span> <span style='color:rgb(127,128,128)'></span> <span style='color:rgb(127,128,128)'></span> <span style='color:rgb(127,128,128)'></span>"
            ],
            "text/plain": [
              "<IPython.core.display.HTML object>"
            ]
          },
          "metadata": {}
        },
        {
          "output_type": "stream",
          "name": "stdout",
          "text": [
            "True Answer:\n",
            "['denver', 'broncos']\n",
            "Token position for start/end\n",
            "34 35\n",
            "Model S/E predictions:\n",
            "tf.Tensor([34], shape=(1,), dtype=int64)  -  tf.Tensor([35], shape=(1,), dtype=int64)\n",
            "Model Answer:\n",
            "['denver', 'broncos']\n"
          ]
        }
      ]
    },
    {
      "cell_type": "code",
      "metadata": {
        "colab": {
          "base_uri": "https://localhost:8080/"
        },
        "id": "Itm6Nn4OLa58",
        "outputId": "0586568c-7ca3-4dbf-898f-37bb928e5709"
      },
      "source": [
        "a, q, s = get_token_types(x_eval, y_eval, idx)\n",
        "t5s = find_top_five_attributions(grads)\n",
        "print(t5s)\n",
        "sCount = find_aqs_counts(t5s, a, s, q)\n",
        "ps = get_aqs_percentages(sCount, len(a), len(q), len(s))\n",
        "print(ps)"
      ],
      "execution_count": 16,
      "outputs": [
        {
          "output_type": "stream",
          "name": "stdout",
          "text": [
            "[array([31,  0, 34, 33, 35]), array([161,  31,  34,  33,  35]), array([46, 45, 33, 35, 34]), array([45, 33, 46, 34, 35]), array([161,  33, 159,  34,  35]), array([ 46, 159,  45,  34,  35]), array([ 46, 159,  45,  34,  35]), array([159,  46,  45,  35,  34]), array([ 45, 161, 159,  35,  34]), array([32, 45, 46, 34, 35]), array([43, 34, 45, 35, 46])]\n",
            "[(1.0, 0.06451612903225806, 0.1), (1.0, 0.06451612903225806, 0.1), (1.0, 0.03225806451612903, 0.0), (1.0, 0.03225806451612903, 0.0), (1.0, 0.03225806451612903, 0.0), (1.0, 0.0, 0.0), (1.0, 0.0, 0.0), (1.0, 0.0, 0.0), (1.0, 0.0, 0.0), (1.0, 0.03225806451612903, 0.0), (1.0, 0.0, 0.0)]\n"
          ]
        }
      ]
    },
    {
      "cell_type": "code",
      "metadata": {
        "id": "Do8JJ5qNcs9h"
      },
      "source": [
        "# NEWER VERSION (num samples)\n",
        "\n",
        "steps = 10\n",
        "num = 50\n",
        "\n",
        "pss = []\n",
        "\n",
        "for i in np.arange(start=0, stop=len(x_eval[0]), step=len(x_eval[0])/num, dtype=np.int):\n",
        "  print(\"Integrated Gradients on x_eval index \" + str(i) + \"!\")\n",
        "  sgs = integrate_gradients_all(x_eval, y_eval, i, steps, partial_models)\n",
        "  a, q, s = get_token_types(x_eval, y_eval, i)\n",
        "  t5s = find_top_five_attributions(sgs)\n",
        "  sCount = find_aqs_counts(t5s, a, s, q)\n",
        "  ps = get_aqs_percentages(sCount, len(a), len(q), len(s))\n",
        "  pss.append(ps)\n",
        "\n",
        "print(pss)"
      ],
      "execution_count": null,
      "outputs": []
    },
    {
      "cell_type": "code",
      "metadata": {
        "id": "aelfu0aDcUWY"
      },
      "source": [
        "\n",
        "layer_percentage = np.zeros((11, 3))\n",
        "\n",
        "for layer_percentages in pss:\n",
        "  for i, (pa, ps, pq) in enumerate(layer_percentages):\n",
        "    layer_percentage[i][0] += pa\n",
        "    layer_percentage[i][1] += ps\n",
        "    layer_percentage[i][2] += pq\n",
        "\n",
        "for i in range(len(layer_percentage)):\n",
        "  layer_percentage[i][0] /= num\n",
        "  layer_percentage[i][1] /= num\n",
        "  layer_percentage[i][2] /= num\n",
        "\n",
        "for i, per in enumerate(layer_percentage):\n",
        "  print(\"LAYER \", str(i+1), \" PERCENTAGES (answer, support, query):\")\n",
        "  print(\" \", per)"
      ],
      "execution_count": null,
      "outputs": []
    }
  ]
}